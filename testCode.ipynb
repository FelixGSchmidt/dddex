{
 "cells": [
  {
   "cell_type": "markdown",
   "id": "037a1d7e-df10-437b-8875-e0e904fb2833",
   "metadata": {},
   "source": [
    "# Packages"
   ]
  },
  {
   "cell_type": "code",
   "execution_count": 1,
   "id": "610c05e0-4e92-4cb8-ace5-d31a709ee9f1",
   "metadata": {},
   "outputs": [],
   "source": [
    "import numpy as np\n",
    "import pandas as pd\n",
    "import os\n",
    "from random import sample\n",
    "\n",
    "from lightgbm import LGBMRegressor\n",
    "from dddex.levelSetKDEx import LevelSetKDEx, binSizeCV\n",
    "from dddex.utils import groupedTimeSeriesSplit"
   ]
  },
  {
   "cell_type": "code",
   "execution_count": 2,
   "id": "a80ac390-594e-4363-b6b9-f9af98071d6c",
   "metadata": {},
   "outputs": [],
   "source": [
    "path = ('/home/kagu/bakery_trainingData/dataBakery.csv')\n",
    "data = pd.read_csv(path)"
   ]
  },
  {
   "cell_type": "code",
   "execution_count": 3,
   "id": "bd813a00-3f38-42ee-9571-c0301360be76",
   "metadata": {},
   "outputs": [],
   "source": [
    "dataTrain = data[data['label'] == 'train'].reset_index(drop = True)\n",
    "dataTest = data[data['label'] == 'test']\n",
    "\n",
    "XTrain = dataTrain.drop(['date', 'label', 'id', 'demand'], axis = 1)\n",
    "XTest = dataTest.drop(['date', 'label', 'id', 'demand'], axis = 1)\n",
    "\n",
    "yTrain = dataTrain['demand']\n",
    "yTest = dataTest['demand']"
   ]
  },
  {
   "cell_type": "code",
   "execution_count": 4,
   "id": "e65b8e43-27c8-4dcd-be22-01cfbd1e345a",
   "metadata": {},
   "outputs": [
    {
     "data": {
      "text/plain": [
       "LGBMRegressor(n_jobs=1)"
      ]
     },
     "execution_count": 4,
     "metadata": {},
     "output_type": "execute_result"
    }
   ],
   "source": [
    "LGBM = LGBMRegressor(n_jobs = 1)\n",
    "LGBM.fit(X = XTrain, y = yTrain)"
   ]
  },
  {
   "cell_type": "code",
   "execution_count": 5,
   "id": "4ba0f721-d324-4fbb-a1e4-fc21a5c5ac4d",
   "metadata": {},
   "outputs": [],
   "source": [
    "cvFolds = groupedTimeSeriesSplit(data = dataTrain, kFolds = 2, testLength = 28, groupFeature = 'id', timeFeature = 'dayIndex')"
   ]
  },
  {
   "cell_type": "code",
   "execution_count": 6,
   "id": "f3c30d83-31fb-426a-b12f-4b8c237f668c",
   "metadata": {},
   "outputs": [],
   "source": [
    "res = binSizeCV(estimator = LGBM,\n",
    "                binSizeGrid = [100, 200],\n",
    "                cv = cvFolds,\n",
    "                LSF_type = 'LSF')"
   ]
  },
  {
   "cell_type": "code",
   "execution_count": 7,
   "id": "7d1e8425-7954-4c05-bf16-1823207baf8a",
   "metadata": {},
   "outputs": [
    {
     "name": "stdout",
     "output_type": "stream",
     "text": [
      "fit took 0.6056206226348877\n",
      "predict took 0.7240245342254639\n",
      "coefPres took 0.23959732055664062\n",
      "fit took 0.5482196807861328\n",
      "predict took 0.7789814472198486\n",
      "coefPres took 0.24776577949523926\n",
      "fit took 0.5721988677978516\n",
      "predict took 0.7251904010772705\n",
      "coefPres took 0.24146318435668945\n",
      "fit took 0.575516939163208\n",
      "predict took 0.7996242046356201\n",
      "coefPres took 0.23948168754577637\n"
     ]
    }
   ],
   "source": [
    "res.fit(X = XTrain, y = yTrain)"
   ]
  }
 ],
 "metadata": {
  "kernelspec": {
   "display_name": "HC-Scheduling",
   "language": "python",
   "name": "hc-scheduling"
  },
  "language_info": {
   "codemirror_mode": {
    "name": "ipython",
    "version": 3
   },
   "file_extension": ".py",
   "mimetype": "text/x-python",
   "name": "python",
   "nbconvert_exporter": "python",
   "pygments_lexer": "ipython3",
   "version": "3.8.13"
  }
 },
 "nbformat": 4,
 "nbformat_minor": 5
}
