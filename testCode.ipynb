{
 "cells": [
  {
   "cell_type": "markdown",
   "id": "037a1d7e-df10-437b-8875-e0e904fb2833",
   "metadata": {},
   "source": [
    "# Packages"
   ]
  },
  {
   "cell_type": "code",
   "execution_count": 2,
   "id": "4babe4f0-0157-4f93-b34b-e33aa5fe1d5e",
   "metadata": {},
   "outputs": [],
   "source": [
    "from sklearn.neighbors import NearestNeighbors\n",
    "import numpy as np\n",
    "import pandas as pd\n",
    "from numpy.random import randint\n",
    "import time\n",
    "# from pykdtree.kdtree import KDTree\n",
    "from collections import defaultdict, Counter"
   ]
  },
  {
   "cell_type": "code",
   "execution_count": null,
   "id": "5d821634-5da2-452e-8137-23067eae7b18",
   "metadata": {},
   "outputs": [],
   "source": [
    "np.repeat(1/5, 5)"
   ]
  },
  {
   "cell_type": "code",
   "execution_count": 11,
   "id": "bee93d5d-a200-4ea2-8074-4332d5a9d47f",
   "metadata": {},
   "outputs": [],
   "source": [
    "a = randint(low = 0, high = 100000, size = 1000000)\n",
    "# %timeit np.unique(a)"
   ]
  },
  {
   "cell_type": "code",
   "execution_count": 6,
   "id": "1ea7f3f3-67e7-424b-8980-d0f8fb9c437c",
   "metadata": {},
   "outputs": [],
   "source": [
    "def uniqueValues(a):\n",
    "    \n",
    "    duplicationDict = defaultdict(list)\n",
    "    \n",
    "    for i, value in enumerate(a):\n",
    "        duplicationDict[value].append(i)\n",
    "        \n",
    "    return duplicationDict"
   ]
  },
  {
   "cell_type": "code",
   "execution_count": null,
   "id": "d2afa026-c088-47f1-82da-f658d5333ccb",
   "metadata": {},
   "outputs": [],
   "source": [
    "def uniqueValues2(a):\n",
    "    \n",
    "    countDict = Counter(a)\n",
    "        \n",
    "    return countDict"
   ]
  },
  {
   "cell_type": "code",
   "execution_count": 12,
   "id": "cce672a7-c650-4b68-8a74-3250f425fd7c",
   "metadata": {},
   "outputs": [
    {
     "name": "stdout",
     "output_type": "stream",
     "text": [
      "1 s ± 111 ms per loop (mean ± std. dev. of 7 runs, 1 loop each)\n"
     ]
    }
   ],
   "source": [
    "%timeit uniqueValues(a)"
   ]
  },
  {
   "cell_type": "markdown",
   "id": "54c8acab-8ec2-477c-b2c1-9b72885f4608",
   "metadata": {},
   "source": [
    "## SCANN"
   ]
  },
  {
   "cell_type": "code",
   "execution_count": null,
   "id": "7db72ad2-b864-4353-8dd7-e0d9ab432574",
   "metadata": {},
   "outputs": [],
   "source": [
    "import numpy as np\n",
    "import h5py\n",
    "import os\n",
    "import requests\n",
    "import tempfile\n",
    "import time\n",
    "\n",
    "import scann"
   ]
  },
  {
   "cell_type": "code",
   "execution_count": null,
   "id": "60e553f2-3e69-4a89-b26e-6ea9035ed288",
   "metadata": {},
   "outputs": [],
   "source": [
    "with tempfile.TemporaryDirectory() as tmp:\n",
    "    response = requests.get(\"http://ann-benchmarks.com/glove-100-angular.hdf5\")\n",
    "    loc = os.path.join(tmp, \"glove.hdf5\")\n",
    "    with open(loc, 'wb') as f:\n",
    "        f.write(response.content)\n",
    "    \n",
    "    glove_h5py = h5py.File(loc, \"r\")"
   ]
  },
  {
   "cell_type": "code",
   "execution_count": null,
   "id": "750278cd-cbea-4b5e-9607-fe46a3599784",
   "metadata": {},
   "outputs": [],
   "source": [
    "list(glove_h5py.keys())"
   ]
  },
  {
   "cell_type": "code",
   "execution_count": null,
   "id": "f71a7a01-d250-431e-9cc1-4150bb936b73",
   "metadata": {},
   "outputs": [],
   "source": [
    "dataset = glove_h5py['train']\n",
    "queries = glove_h5py['test']\n",
    "print(dataset.shape)\n",
    "print(queries.shape)"
   ]
  },
  {
   "cell_type": "code",
   "execution_count": null,
   "id": "89ce1ddc-0a39-4047-9de7-a4fdb9e47165",
   "metadata": {},
   "outputs": [],
   "source": [
    "normalized_dataset = dataset / np.linalg.norm(dataset, axis=1)[:, np.newaxis]\n",
    "# configure ScaNN as a tree - asymmetric hash hybrid with reordering\n",
    "# anisotropic quantization as described in the paper; see README\n",
    "\n",
    "# use scann.scann_ops.build() to instead create a TensorFlow-compatible searcher\n",
    "searcher = scann.scann_ops_pybind.builder(normalized_dataset, 100, \"dot_product\").tree(\n",
    "    num_leaves=2000, num_leaves_to_search=100, training_sample_size=250000).score_ah(\n",
    "    2, anisotropic_quantization_threshold=0.2).reorder(100).build()"
   ]
  },
  {
   "cell_type": "code",
   "execution_count": null,
   "id": "e1d14329-101b-4c0b-ba38-d9770add8647",
   "metadata": {},
   "outputs": [],
   "source": [
    "def compute_recall(neighbors, true_neighbors):\n",
    "    total = 0\n",
    "    for gt_row, row in zip(true_neighbors, neighbors):\n",
    "        total += np.intersect1d(gt_row, row).shape[0]\n",
    "    return total / true_neighbors.size"
   ]
  },
  {
   "cell_type": "code",
   "execution_count": null,
   "id": "49cf0051-8314-4a3b-999a-5c0b0404fa8a",
   "metadata": {},
   "outputs": [],
   "source": [
    "# this will search the top 100 of the 2000 leaves, and compute\n",
    "# the exact dot products of the top 100 candidates from asymmetric\n",
    "# hashing to get the final top 10 candidates.\n",
    "start = time.time()\n",
    "neighbors, distances = searcher.search_batched(queries)\n",
    "end = time.time()\n",
    "\n",
    "# we are given top 100 neighbors in the ground truth, so select top 10\n",
    "print(\"Recall:\", compute_recall(neighbors, glove_h5py['neighbors'][:, :100]))\n",
    "print(\"Time:\", end - start)"
   ]
  },
  {
   "cell_type": "code",
   "execution_count": null,
   "id": "ae753e9a-8f68-40f1-95a7-32a6da3af12b",
   "metadata": {},
   "outputs": [],
   "source": [
    "start = time.time()\n",
    "neighbors, distances = searcher.search_batched(queries, leaves_to_search=500)\n",
    "end = time.time()\n",
    "\n",
    "print(\"Recall:\", compute_recall(neighbors, glove_h5py['neighbors'][:, :100]))\n",
    "print(\"Time:\", end - start)"
   ]
  },
  {
   "cell_type": "code",
   "execution_count": null,
   "id": "53da0e94-b09a-47be-bca2-e67e0dd8436b",
   "metadata": {},
   "outputs": [],
   "source": [
    "neighbors"
   ]
  },
  {
   "cell_type": "markdown",
   "id": "3bfacacd-5ba8-439b-8c78-1bd879faf556",
   "metadata": {
    "tags": []
   },
   "source": [
    "# Multivariate Preds Test"
   ]
  },
  {
   "cell_type": "code",
   "execution_count": 2,
   "id": "b4d68038-1e99-4aab-8951-ed12f7f5f259",
   "metadata": {},
   "outputs": [
    {
     "data": {
      "text/plain": [
       "(1000, 4)"
      ]
     },
     "execution_count": 2,
     "metadata": {},
     "output_type": "execute_result"
    }
   ],
   "source": [
    "a = np.array([randint(low = 0, high = 10000, size = 4) for i in range(1000)])\n",
    "# a = np.concatenate([a, np.array([np.arange(2)] * 10)], axis = 0)\n",
    "a.shape"
   ]
  },
  {
   "cell_type": "markdown",
   "id": "b285c22e-cca1-4680-8f8c-1eaa7ba5d02d",
   "metadata": {},
   "source": [
    "## Clustering"
   ]
  },
  {
   "cell_type": "code",
   "execution_count": 3,
   "id": "7accc949-7aec-4cc3-b9ae-9cebd22b8810",
   "metadata": {},
   "outputs": [],
   "source": [
    "from sklearn.cluster import KMeans\n",
    "from scipy.spatial.distance import cdist\n",
    "from scipy.optimize import linear_sum_assignment\n",
    "import numpy as np\n",
    "from faiss import Kmeans\n",
    "\n",
    "def get_even_clusters(X, cluster_size):\n",
    "    n_clusters = int(np.ceil(len(X)/cluster_size))\n",
    "    kmeans = Kmeans(d = X.shape[1], k = n_clusters)\n",
    "    \n",
    "    start = time.time()\n",
    "    kmeans.train(X)\n",
    "    print(time.time() - start)\n",
    "    \n",
    "    centers = kmeans.centroids\n",
    "    centers = centers.reshape(-1, 1, X.shape[-1]).repeat(cluster_size, 1).reshape(-1, X.shape[-1])\n",
    "    \n",
    "    start = time.time()\n",
    "    distance_matrix = cdist(X, centers)\n",
    "    print(time.time() - start)\n",
    "    \n",
    "    start = time.time()\n",
    "    clusters = linear_sum_assignment(distance_matrix)[1]//cluster_size\n",
    "    print(time.time() - start)\n",
    "    \n",
    "    return centers"
   ]
  },
  {
   "cell_type": "code",
   "execution_count": 5,
   "id": "07626765-3bb0-4ecf-9210-bf8302d66431",
   "metadata": {},
   "outputs": [
    {
     "name": "stdout",
     "output_type": "stream",
     "text": [
      "5.873585939407349\n",
      "0.007401227951049805\n",
      "0.10688900947570801\n"
     ]
    }
   ],
   "source": [
    "X = a.astype(np.float32)\n",
    "cluster_size = 100\n",
    "\n",
    "import time\n",
    "import ipdb\n",
    "\n",
    "res = get_even_clusters(X, cluster_size)\n"
   ]
  },
  {
   "cell_type": "code",
   "execution_count": null,
   "id": "01bc393c-3559-44f5-b46d-408d46831122",
   "metadata": {},
   "outputs": [],
   "source": [
    "Counter(res)"
   ]
  },
  {
   "cell_type": "code",
   "execution_count": null,
   "id": "cdcd213c-737b-4430-8153-2253ec62cd26",
   "metadata": {},
   "outputs": [],
   "source": [
    "X = a.astype(np.float32)\n",
    "kmeans = KMeans(n_clusters)\n",
    "\n",
    "kmeans.fit(X)"
   ]
  },
  {
   "cell_type": "code",
   "execution_count": null,
   "id": "64b0b5fa-d739-4bcd-ae1b-29b07373ad53",
   "metadata": {},
   "outputs": [],
   "source": [
    "centers = kmeans.cluster_centers_"
   ]
  },
  {
   "cell_type": "code",
   "execution_count": null,
   "id": "0c0ad6fb-6a67-49c7-856e-b11339c3544d",
   "metadata": {},
   "outputs": [],
   "source": [
    "centers = centers.reshape(-1, 1, X.shape[-1]).repeat(cluster_size, 1).reshape(-1, X.shape[-1])\n",
    "distance_matrix = cdist(X, centers)"
   ]
  },
  {
   "cell_type": "code",
   "execution_count": null,
   "id": "8794e534-f092-4656-8359-b0121a2817d0",
   "metadata": {},
   "outputs": [],
   "source": [
    "clusters = linear_sum_assignment(distance_matrix)[1]//cluster_size"
   ]
  },
  {
   "cell_type": "code",
   "execution_count": null,
   "id": "4d3ec3ac-12b7-4af3-a154-86d9ba6b910d",
   "metadata": {},
   "outputs": [],
   "source": []
  },
  {
   "cell_type": "code",
   "execution_count": null,
   "id": "176a26be-50be-4396-b98a-2f27e71c27ba",
   "metadata": {},
   "outputs": [],
   "source": [
    "from faiss import Kmeans"
   ]
  },
  {
   "cell_type": "code",
   "execution_count": null,
   "id": "8b42e824-931f-4a9e-b44b-a9b1386c9b6d",
   "metadata": {},
   "outputs": [],
   "source": [
    "n_init = 10\n",
    "max_iter = 300\n",
    "# kmeans = faiss.Kmeans(d = X.shape[1], k = n_clusters, niter = max_iter, nredo = n_init)\n",
    "kmeans = Kmeans(d = X.shape[1], k = 100)\n",
    "kmeans.train(X.astype(np.float32))"
   ]
  },
  {
   "cell_type": "code",
   "execution_count": null,
   "id": "6b25499f-2f1b-4fce-a10c-c819bc2bd4e7",
   "metadata": {},
   "outputs": [],
   "source": [
    "res = kmeans.assign(X.astype(np.float32))"
   ]
  },
  {
   "cell_type": "code",
   "execution_count": null,
   "id": "fb94a656-fc39-4238-a3dd-c0071c3afb01",
   "metadata": {},
   "outputs": [],
   "source": [
    "kmeans.centroids"
   ]
  },
  {
   "cell_type": "code",
   "execution_count": null,
   "id": "0b43fb83-5411-461c-bf79-3cc44b6975ba",
   "metadata": {},
   "outputs": [],
   "source": [
    "from collections import Counter\n",
    "Counter(res[1])"
   ]
  },
  {
   "cell_type": "markdown",
   "id": "90d99e24-58cd-4b11-93fd-0ff3a4e03b15",
   "metadata": {},
   "source": [
    "## kNN"
   ]
  },
  {
   "cell_type": "code",
   "execution_count": null,
   "id": "6e754f36-7f89-4d1f-baee-327701086aa8",
   "metadata": {},
   "outputs": [],
   "source": [
    "kd = KDTree(data_pts = a)"
   ]
  },
  {
   "cell_type": "code",
   "execution_count": null,
   "id": "b99d4faa-2dbb-48e2-b267-03c810a1b488",
   "metadata": {},
   "outputs": [],
   "source": [
    "start = time.time()\n",
    "dist, idx = kd.query(a, k = 2000)\n",
    "print(time.time() - start)"
   ]
  },
  {
   "cell_type": "code",
   "execution_count": null,
   "id": "cf58216f-97ee-472d-9628-806df2e1d4e5",
   "metadata": {},
   "outputs": [],
   "source": [
    "idx"
   ]
  },
  {
   "cell_type": "code",
   "execution_count": null,
   "id": "b8535378-301a-46e6-89a3-096e0dde1079",
   "metadata": {},
   "outputs": [],
   "source": [
    "nn = NearestNeighbors(algorithm = 'kd_tree')"
   ]
  },
  {
   "cell_type": "code",
   "execution_count": null,
   "id": "12731a1a-a9e8-438c-8859-e7a63e6c6e40",
   "metadata": {},
   "outputs": [],
   "source": [
    "nn.fit(a)"
   ]
  },
  {
   "cell_type": "code",
   "execution_count": null,
   "id": "257d8dfb-4ce0-4ae8-95bf-2a2e924b3b80",
   "metadata": {},
   "outputs": [],
   "source": [
    "start = time.time()\n",
    "idx2 = nn.kneighbors(a, n_neighbors = 10000, return_distance = False)\n",
    "print(time.time() - start)"
   ]
  },
  {
   "cell_type": "code",
   "execution_count": null,
   "id": "50373e18-2e2f-4a10-b10a-7b253b8937da",
   "metadata": {},
   "outputs": [],
   "source": [
    "np.array_equal(idx, idx2)"
   ]
  },
  {
   "cell_type": "code",
   "execution_count": null,
   "id": "9f8258e4-28b3-4154-a90d-052fb230cd99",
   "metadata": {},
   "outputs": [],
   "source": [
    "def bad_append(new_item, a_list=[]):\n",
    "    a_list.append(new_item)\n",
    "    return a_list"
   ]
  },
  {
   "cell_type": "code",
   "execution_count": null,
   "id": "0783b292-6624-42e2-bbe6-3b5480e12fdc",
   "metadata": {},
   "outputs": [],
   "source": [
    "bad_append('one', a_list = [1, 2])\n",
    "print(bad_append('one', a_list = [1, 2]))"
   ]
  },
  {
   "cell_type": "code",
   "execution_count": null,
   "id": "756b6b05-54d1-4877-9ccf-5ab56957fac3",
   "metadata": {},
   "outputs": [],
   "source": [
    "def good_append(new_item, a_list=None):\n",
    "    if a_list is None:\n",
    "        a_list = []\n",
    "    a_list.append(new_item)\n",
    "    return a_list"
   ]
  },
  {
   "cell_type": "code",
   "execution_count": null,
   "id": "85604191-b1a2-4eb5-a3cf-15f04284afa1",
   "metadata": {},
   "outputs": [],
   "source": [
    "print(good_append('one'))"
   ]
  },
  {
   "cell_type": "code",
   "execution_count": null,
   "id": "610c05e0-4e92-4cb8-ace5-d31a709ee9f1",
   "metadata": {},
   "outputs": [],
   "source": [
    "import numpy as np\n",
    "import pandas as pd\n",
    "import os\n",
    "from random import sample\n",
    "\n",
    "from lightgbm import LGBMRegressor\n",
    "from dddex.levelSetKDEx import LevelSetKDEx, binSizeCV\n",
    "from dddex.utils import groupedTimeSeriesSplit"
   ]
  },
  {
   "cell_type": "code",
   "execution_count": null,
   "id": "a80ac390-594e-4363-b6b9-f9af98071d6c",
   "metadata": {},
   "outputs": [],
   "source": [
    "path = ('/home/kagu/yaz_trainingData/dataYaz.csv')\n",
    "data = pd.read_csv(path)"
   ]
  },
  {
   "cell_type": "code",
   "execution_count": null,
   "id": "bd813a00-3f38-42ee-9571-c0301360be76",
   "metadata": {},
   "outputs": [],
   "source": [
    "dataTrain = data[data['label'] == 'train'].reset_index(drop = True)\n",
    "dataTest = data[data['label'] == 'test']\n",
    "\n",
    "XTrain = dataTrain.drop(['dayIndex', 'label', 'id', 'demand'], axis = 1)\n",
    "XTest = dataTest.drop(['dayIndex', 'label', 'id', 'demand'], axis = 1)\n",
    "\n",
    "yTrain = dataTrain['demand']\n",
    "yTest = dataTest['demand']"
   ]
  },
  {
   "cell_type": "code",
   "execution_count": null,
   "id": "e65b8e43-27c8-4dcd-be22-01cfbd1e345a",
   "metadata": {},
   "outputs": [],
   "source": [
    "LGBM = LGBMRegressor(n_jobs = 1)\n",
    "LGBM.fit(X = XTrain, y = yTrain)"
   ]
  },
  {
   "cell_type": "code",
   "execution_count": null,
   "id": "4ba0f721-d324-4fbb-a1e4-fc21a5c5ac4d",
   "metadata": {},
   "outputs": [],
   "source": [
    "cvFolds = groupedTimeSeriesSplit(data = dataTrain, kFolds = 2, testLength = 28, groupFeature = 'id', timeFeature = 'dayIndex')"
   ]
  },
  {
   "cell_type": "code",
   "execution_count": null,
   "id": "f3c30d83-31fb-426a-b12f-4b8c237f668c",
   "metadata": {},
   "outputs": [],
   "source": [
    "res = binSizeCV(estimator = LGBM,\n",
    "                binSizeGrid = [100, 200],\n",
    "                cv = cvFolds,\n",
    "                LSF_type = 'LSF')"
   ]
  },
  {
   "cell_type": "code",
   "execution_count": null,
   "id": "7d1e8425-7954-4c05-bf16-1823207baf8a",
   "metadata": {},
   "outputs": [],
   "source": [
    "res.fit(X = XTrain, y = yTrain)"
   ]
  },
  {
   "cell_type": "markdown",
   "id": "d3be97da-1159-4fc2-8c78-1f2dc9f890e6",
   "metadata": {},
   "source": [
    "# Cross Validation"
   ]
  },
  {
   "cell_type": "code",
   "execution_count": 1,
   "id": "97e440b1-fe5b-40b2-a5ac-2d25627eda2f",
   "metadata": {},
   "outputs": [],
   "source": [
    "import numpy as np\n",
    "import pandas as pd\n",
    "\n",
    "from dddex.crossValidation import *\n",
    "from dddex.levelSetKDEx_univariate import *\n",
    "from dddex.loadData import loadDataYaz\n",
    "\n",
    "from lightgbm import LGBMRegressor\n",
    "from sklearn.model_selection import GridSearchCV\n",
    "\n",
    "import time"
   ]
  },
  {
   "cell_type": "code",
   "execution_count": 2,
   "id": "3f579035-22b0-4156-8ffd-a0abe8c6fb86",
   "metadata": {},
   "outputs": [],
   "source": [
    "data, XTrain, yTrain, XTest, yTest = loadDataYaz()"
   ]
  },
  {
   "cell_type": "code",
   "execution_count": 3,
   "id": "0f0a3112-3aed-4cf4-aac4-aa62e1fe2d94",
   "metadata": {},
   "outputs": [],
   "source": [
    "LGBM = LGBMRegressor(n_jobs = 1)\n",
    "LSKDEx = LevelSetKDEx(estimator = LGBM)"
   ]
  },
  {
   "cell_type": "code",
   "execution_count": 4,
   "id": "4f3a58fc-73d6-4301-a876-8732e218db56",
   "metadata": {},
   "outputs": [],
   "source": [
    "paramGridLSx = {'binSize': [20, 50, 100, 150, 200, 250, 400, 600, 800, 1000],\n",
    "                'weightsByDistance': [False, True]}\n",
    "\n",
    "paramGridEstimator = {'max_depth': [4],\n",
    "                      'n_estimators': [100]}"
   ]
  },
  {
   "cell_type": "code",
   "execution_count": 9,
   "id": "e7bf39d8-311c-42d8-a0f2-4af6d4eeb6a7",
   "metadata": {},
   "outputs": [],
   "source": [
    "dataTrain = data[data.label == 'train']\n",
    "\n",
    "cvFolds = groupedTimeSeriesSplit(data = dataTrain, \n",
    "                                 kFolds = 5, \n",
    "                                 testLength = 28, \n",
    "                                 groupFeature = 'id', \n",
    "                                 timeFeature = 'dayIndex')"
   ]
  },
  {
   "cell_type": "code",
   "execution_count": 13,
   "id": "52595584-9884-4329-9367-f306c80bfddb",
   "metadata": {},
   "outputs": [
    {
     "name": "stdout",
     "output_type": "stream",
     "text": [
      "3.997749090194702\n"
     ]
    }
   ],
   "source": [
    "start = time.time()\n",
    "\n",
    "CV = CrossValidationLSx_combined(estimatorLSx = LSKDEx,\n",
    "                                 cvFolds = cvFolds,\n",
    "                                 parameterGridLSx = paramGridLSx,\n",
    "                                 parameterGridEstimator = paramGridEstimator,\n",
    "                                 probs = np.arange(0.01, 0.1, 0.01),\n",
    "                                 refitPerProb = False,\n",
    "                                 n_jobs = len(cvFolds))\n",
    "\n",
    "CV.fit(XTrain, yTrain)\n",
    "\n",
    "print(time.time() - start)"
   ]
  },
  {
   "cell_type": "code",
   "execution_count": 11,
   "id": "8fdbd450-fc88-4cae-b185-ba414821f8cb",
   "metadata": {},
   "outputs": [
    {
     "name": "stdout",
     "output_type": "stream",
     "text": [
      "0.36907124519348145\n"
     ]
    }
   ],
   "source": [
    "start = time.time()\n",
    "\n",
    "CV = GridSearchCV(estimator = LGBM,\n",
    "                  cv = cvFolds,\n",
    "                  param_grid = paramGridEstimator,\n",
    "                  scoring = 'neg_mean_squared_error',\n",
    "                  refit = False,\n",
    "                  n_jobs = len(cvFolds),\n",
    "                  return_train_score = True,\n",
    "                  verbose = 0)\n",
    "\n",
    "CV.fit(XTrain, yTrain)\n",
    "\n",
    "print(time.time() - start)"
   ]
  },
  {
   "cell_type": "code",
   "execution_count": 14,
   "id": "67751b0f-2d06-49d8-ad54-c504c36744e2",
   "metadata": {},
   "outputs": [
    {
     "name": "stdout",
     "output_type": "stream",
     "text": [
      "2.616056203842163\n"
     ]
    }
   ],
   "source": [
    "start = time.time()\n",
    "\n",
    "CV = QuantileCrossValidation(quantileEstimator = LSKDEx,\n",
    "                             cvFolds = cvFolds,\n",
    "                             parameterGrid = paramGridLSx,\n",
    "                             probs = np.arange(0.01, 0.1, 0.01),\n",
    "                             refitPerProb = False,\n",
    "                             n_jobs = len(cvFolds))\n",
    "\n",
    "CV.fit(XTrain, yTrain)\n",
    "\n",
    "print(time.time() - start)"
   ]
  },
  {
   "cell_type": "code",
   "execution_count": null,
   "id": "969eb52e-5691-4062-82f6-c91ad5217fc3",
   "metadata": {},
   "outputs": [],
   "source": []
  }
 ],
 "metadata": {
  "kernelspec": {
   "display_name": "dddex",
   "language": "python",
   "name": "dddex"
  },
  "language_info": {
   "codemirror_mode": {
    "name": "ipython",
    "version": 3
   },
   "file_extension": ".py",
   "mimetype": "text/x-python",
   "name": "python",
   "nbconvert_exporter": "python",
   "pygments_lexer": "ipython3",
   "version": "3.8.15"
  }
 },
 "nbformat": 4,
 "nbformat_minor": 5
}
