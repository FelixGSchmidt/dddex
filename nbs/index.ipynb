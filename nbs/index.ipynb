{
 "cells": [
  {
   "cell_type": "code",
   "execution_count": null,
   "metadata": {},
   "outputs": [],
   "source": [
    "#| hide\n",
    "from dddex.basePredictor import *\n",
    "from dddex.levelSetKDEx import *\n",
    "from dddex.loadData import *\n",
    "from dddex.wSAA import *\n",
    "\n",
    "import numpy as np\n",
    "import pandas as pd"
   ]
  },
  {
   "cell_type": "markdown",
   "metadata": {},
   "source": [
    "# dddex: Data-Driven Density Estimation x\n",
    "\n",
    "> A package implementing non-parametric approaches to compute conditional density estimators"
   ]
  },
  {
   "cell_type": "markdown",
   "metadata": {},
   "source": [
    "## Install"
   ]
  },
  {
   "cell_type": "markdown",
   "metadata": {},
   "source": [
    "```sh\n",
    "pip install dddex\n",
    "```"
   ]
  },
  {
   "cell_type": "markdown",
   "metadata": {},
   "source": [
    "## What is dddex?"
   ]
  },
  {
   "cell_type": "markdown",
   "metadata": {},
   "source": [
    "The package name `dddex` stands for *Data-Driven Density Estimaton x*. New approaches are being implemented for estimating conditional densities without any parametric assumption about the underlying distribution. All those approaches take an arbitrary point forecaster as input and turn them into a new object that outputs an estimation of the conditional density based on the point predictions of the original point forecaster. The *x* in the name emphasizes that the approaches can be applied to any point forecaster. The approaches are being implemented via the two classes `LevelSetKDEx` and `LevelSetKDEx_kNN` whose usage is explained in detail below.\n",
    "\n",
    "All models can be run easily with only a few lines of code and are designed to be compatible with the well known *Scikit-Learn* framework."
   ]
  }
 ],
 "metadata": {
  "kernelspec": {
   "display_name": "HC-Scheduling",
   "language": "python",
   "name": "hc-scheduling"
  }
 },
 "nbformat": 4,
 "nbformat_minor": 4
}
