{
 "cells": [
  {
   "cell_type": "markdown",
   "id": "037a1d7e-df10-437b-8875-e0e904fb2833",
   "metadata": {},
   "source": [
    "# Packages"
   ]
  },
  {
   "cell_type": "code",
   "execution_count": 8,
   "id": "4babe4f0-0157-4f93-b34b-e33aa5fe1d5e",
   "metadata": {},
   "outputs": [],
   "source": [
    "from sklearn.neighbors import NearestNeighbors\n",
    "import numpy as np\n",
    "import pandas as pd\n",
    "from numpy.random import randint, uniform\n",
    "import time\n",
    "# from pykdtree.kdtree import KDTree\n",
    "from collections import defaultdict, Counter"
   ]
  },
  {
   "cell_type": "markdown",
   "id": "849138a4-bb2c-469a-b5c9-63a30674a331",
   "metadata": {},
   "source": [
    "# Wasserstein Distance"
   ]
  },
  {
   "cell_type": "code",
   "execution_count": 74,
   "id": "a01778c4-08d8-473e-af08-cecebe493ee7",
   "metadata": {},
   "outputs": [],
   "source": [
    "a = np.array([randint(low = 0, high = 1000, size = 1) for i in range(100)])\n",
    "b = np.array([randint(low = 0, high = 1000, size = 1) for i in range(1)])\n",
    "c = np.ravel(np.array([uniform(low = 0, high = 1, size = 100) for i in range(1)]))"
   ]
  },
  {
   "cell_type": "code",
   "execution_count": 64,
   "id": "00ba42e0-a93f-44bd-995a-e029b3ca3d7b",
   "metadata": {},
   "outputs": [],
   "source": [
    "p = 2"
   ]
  },
  {
   "cell_type": "code",
   "execution_count": 66,
   "id": "51a7855c-3b3b-4759-9275-cbe7dbc78a89",
   "metadata": {},
   "outputs": [
    {
     "name": "stdout",
     "output_type": "stream",
     "text": [
      "6.22 ns ± 0.00327 ns per loop (mean ± std. dev. of 7 runs, 100,000,000 loops each)\n"
     ]
    }
   ],
   "source": [
    "%timeit 45849584858**(1/p)"
   ]
  },
  {
   "cell_type": "code",
   "execution_count": 55,
   "id": "4100b160-70ee-4448-88be-8b5b78cbd089",
   "metadata": {},
   "outputs": [
    {
     "name": "stdout",
     "output_type": "stream",
     "text": [
      "8.44 µs ± 366 ns per loop (mean ± std. dev. of 7 runs, 100,000 loops each)\n"
     ]
    }
   ],
   "source": [
    "%timeit np.sum(c * np.sum(np.abs(a - b)**p, axis = 1))**(1/p)"
   ]
  },
  {
   "cell_type": "code",
   "execution_count": 38,
   "id": "306281c1-cfe8-4ef7-af5b-124aad7c6b8e",
   "metadata": {},
   "outputs": [
    {
     "data": {
      "text/plain": [
       "array([659., 819.,  10., 208., 532.,  34., 235., 322., 417., 436.,  31.,\n",
       "       836., 638., 839., 234., 217., 349., 608., 149.,  87., 477., 629.,\n",
       "       322.,   1., 128.,  37., 167., 261., 295., 162., 699., 233., 105.,\n",
       "       414., 619., 253., 300., 109., 726.,  54., 441.,  87.,  14.,  22.,\n",
       "       174.,  99., 553., 695., 164.,  92., 575., 862.,  70., 459., 358.,\n",
       "       625., 442., 423.,  55., 760.,  63., 443., 481., 799., 487.,  12.,\n",
       "        89., 467.,  87., 485., 363.,  83., 521., 631.,   3., 123., 467.,\n",
       "       711., 153.,  35.,   1., 806.,  69., 743., 732., 666., 814., 740.,\n",
       "       343., 443., 244., 651.,  71., 491., 324., 228., 775., 707., 430.,\n",
       "       150.])"
      ]
     },
     "execution_count": 38,
     "metadata": {},
     "output_type": "execute_result"
    }
   ],
   "source": [
    "np.linalg.norm(x = a - b, axis = 1, ord = 2)"
   ]
  },
  {
   "cell_type": "code",
   "execution_count": 33,
   "id": "222071d3-3eae-4373-b054-daa20c63ebbc",
   "metadata": {},
   "outputs": [],
   "source": [
    "a = np.array([[randint(low = 0, high = 10, size = 100) for i in range(4)] for j in range(10)])\n",
    "p = np.array([[uniform(low = 0, high = 1, size = 100) for i in range(1)] for j in range(10)])\n",
    "\n",
    "b = np.array([[randint(low = 0, high = 10, size = 100) for i in range(4)] for j in range(1)])"
   ]
  },
  {
   "cell_type": "code",
   "execution_count": 34,
   "id": "584cb6e4-0687-4b71-98e2-ce3bc4704cdb",
   "metadata": {},
   "outputs": [
    {
     "data": {
      "text/plain": [
       "(10, 4, 100)"
      ]
     },
     "execution_count": 34,
     "metadata": {},
     "output_type": "execute_result"
    }
   ],
   "source": [
    "a.shape"
   ]
  },
  {
   "cell_type": "code",
   "execution_count": 35,
   "id": "d22551e2-de61-4f07-8c15-c0733cf9b1dd",
   "metadata": {},
   "outputs": [
    {
     "data": {
      "text/plain": [
       "(1, 4, 100)"
      ]
     },
     "execution_count": 35,
     "metadata": {},
     "output_type": "execute_result"
    }
   ],
   "source": [
    "b.shape"
   ]
  },
  {
   "cell_type": "code",
   "execution_count": 36,
   "id": "f660b4ef-e688-40a7-9dd7-1bcae30d05c9",
   "metadata": {},
   "outputs": [
    {
     "data": {
      "text/plain": [
       "(10, 1, 100)"
      ]
     },
     "execution_count": 36,
     "metadata": {},
     "output_type": "execute_result"
    }
   ],
   "source": [
    "p.shape"
   ]
  },
  {
   "cell_type": "code",
   "execution_count": 42,
   "id": "83a1bc86-ac9d-429a-8e14-7b90486e7212",
   "metadata": {},
   "outputs": [],
   "source": [
    "res = list()\n",
    "\n",
    "for i in range(a.shape[2]):\n",
    "    aSlice = a[:, :, i]\n",
    "    pSlice = p[:, :, i]\n",
    "    bSlice = b[:, :, i]\n",
    "    \n",
    "    wasserstein = np.sum(pSlice * np.sum(np.abs(aSlice - bSlice)**2, axis = 1))**(1/2)\n",
    "    res.append(wasserstein)"
   ]
  },
  {
   "cell_type": "code",
   "execution_count": 51,
   "id": "27604507-162c-4240-a85a-3ab873c85f51",
   "metadata": {},
   "outputs": [],
   "source": [
    "test = np.abs(a - b)**2"
   ]
  },
  {
   "cell_type": "code",
   "execution_count": 52,
   "id": "cb62ccd3-efc3-4aef-ad9e-c414e2613983",
   "metadata": {},
   "outputs": [
    {
     "data": {
      "text/plain": [
       "(10, 4, 100)"
      ]
     },
     "execution_count": 52,
     "metadata": {},
     "output_type": "execute_result"
    }
   ],
   "source": [
    "test.shape"
   ]
  },
  {
   "cell_type": "code",
   "execution_count": 56,
   "id": "34508e10-51bf-48ef-988a-bdced681934d",
   "metadata": {},
   "outputs": [],
   "source": [
    "test2 = np.sum(test, axis = 1)"
   ]
  },
  {
   "cell_type": "code",
   "execution_count": 62,
   "id": "1810f4a6-c7b3-4939-8e8b-9b79c30a2409",
   "metadata": {},
   "outputs": [],
   "source": [
    "pMod = np.squeeze(p, axis = 1)"
   ]
  },
  {
   "cell_type": "code",
   "execution_count": 63,
   "id": "b599fa3f-9261-45a3-91da-2ff5bb981a11",
   "metadata": {},
   "outputs": [],
   "source": [
    "test3 = pMod * test2"
   ]
  },
  {
   "cell_type": "code",
   "execution_count": 69,
   "id": "cf439835-bb34-47e5-9d8f-891a1c2dc5f2",
   "metadata": {},
   "outputs": [],
   "source": [
    "test4 = np.sum(test3, axis = 0)**(1/2)"
   ]
  },
  {
   "cell_type": "code",
   "execution_count": 70,
   "id": "f75eaa14-1c15-42cf-be27-4b5415922449",
   "metadata": {},
   "outputs": [
    {
     "data": {
      "text/plain": [
       "array([14.90681762, 17.58025152, 14.09993819, 14.19721947, 20.42119541,\n",
       "       21.17083643, 21.82506519, 14.28860965, 17.95907864, 17.63935027,\n",
       "       19.02613227, 20.36836659, 20.29427056, 22.73503271, 10.89135527,\n",
       "       15.27272374, 19.22067102, 20.87057817, 12.64432795, 16.34983916,\n",
       "       19.13416765, 18.39450796, 14.02995581, 14.3509082 , 11.92153673,\n",
       "       21.02701729, 13.36082062, 22.18488438, 18.45995844, 17.9084535 ,\n",
       "       21.45640724, 14.29555104, 15.58426005, 17.3009952 , 13.14802228,\n",
       "       17.86225696, 16.74098367, 17.65829595, 21.99450171, 17.63190717,\n",
       "       17.26877606, 13.92378275, 14.88482145, 22.55893115, 15.48559782,\n",
       "       21.2163428 , 17.98669987, 15.87471136, 16.75928126, 14.2697816 ,\n",
       "       18.44787782, 14.53851229, 16.46989668, 18.2880547 , 17.50195144,\n",
       "       19.89996158, 17.58243829, 14.47188704, 20.38860254, 24.00839087,\n",
       "       12.75877816, 16.61880167, 19.43927195, 13.66638184, 19.7897643 ,\n",
       "       16.60904455, 14.95741948, 20.73879401, 20.7678843 , 20.89325513,\n",
       "       13.82011399, 13.31754215, 14.68363798, 18.61708788, 11.86488178,\n",
       "       14.82291324, 21.96848441, 21.39511084, 18.25222698, 15.80595479,\n",
       "       19.5092513 , 12.86703451, 21.2360739 , 17.85513873, 20.72324368,\n",
       "       21.68423519, 16.97223013, 16.32762075, 16.80036025, 15.83688523,\n",
       "       19.83646078, 16.04715465, 19.65373324, 15.35775173, 11.01126777,\n",
       "       12.05028464, 16.38154636, 21.21929343, 16.33660729, 20.48882078])"
      ]
     },
     "execution_count": 70,
     "metadata": {},
     "output_type": "execute_result"
    }
   ],
   "source": [
    "test4"
   ]
  },
  {
   "cell_type": "markdown",
   "id": "423d4de3-5661-4103-b4b1-accf9fccc8da",
   "metadata": {},
   "source": [
    "## One dimensional improvement"
   ]
  },
  {
   "cell_type": "code",
   "execution_count": 38,
   "id": "8087d427-297e-4eaf-b1b2-44a767f65b94",
   "metadata": {},
   "outputs": [],
   "source": [
    "dimY = 1\n",
    "nTest = 5000\n",
    "maxPosProb = 100\n",
    "\n",
    "densities = list()\n",
    "yTest = list()\n",
    "\n",
    "for j in range(nTest):\n",
    "    nPosProb = int(randint(low = 1, high = maxPosProb, size = 1))\n",
    "    \n",
    "    probs = np.ravel([uniform(low = 0, high = 1, size = 1) for i in range(nPosProb)])\n",
    "    probs = probs / probs.sum()\n",
    "    \n",
    "    values = np.ravel(np.array([randint(low = 0, high = 10, size = dimY) for i in range(nPosProb)]))\n",
    "    \n",
    "    densities.append((probs, values))\n",
    "    yTest.append(randint(low = 1, high = 10, size = dimY))\n",
    "\n",
    "yTest = np.array(yTest)"
   ]
  },
  {
   "cell_type": "code",
   "execution_count": 39,
   "id": "6612a754-f4bc-4d50-84d5-6f0ca141e7d2",
   "metadata": {},
   "outputs": [
    {
     "name": "stdout",
     "output_type": "stream",
     "text": [
      "11.4 ms ± 1.46 ms per loop (mean ± std. dev. of 7 runs, 100 loops each)\n"
     ]
    }
   ],
   "source": [
    "%%timeit\n",
    "\n",
    "lenList = list()\n",
    "valuesList = list()\n",
    "probsList = list()\n",
    "\n",
    "for probs, values in densities:\n",
    "    lenList.append(values.shape[0])\n",
    "    valuesList.append(values)\n",
    "    probsList.append(probs)\n",
    "    \n",
    "lenMax = max(lenList)\n",
    "\n",
    "insertionCheck = np.arange(lenMax) < np.array(lenList)[:, None]\n",
    "\n",
    "probsArray = np.zeros(shape = (len(probsList), lenMax))\n",
    "valuesArray = np.zeros(shape = (len(valuesList), lenMax))\n",
    "\n",
    "probsArray[insertionCheck] = np.concatenate(probsList, axis = 0)\n",
    "valuesArray[insertionCheck] = np.concatenate(valuesList, axis = 0)\n",
    "\n",
    "# yTest = np.concatenate(yList, axis = 0).reshape(-1, 1)\n",
    "\n",
    "distances = np.sum(probsArray * np.abs(valuesArray - yTest)**2, axis = 1)**(1/2)"
   ]
  },
  {
   "cell_type": "code",
   "execution_count": 40,
   "id": "0fe0ff81-ec90-440b-981c-c8f4abc98ed3",
   "metadata": {},
   "outputs": [
    {
     "name": "stdout",
     "output_type": "stream",
     "text": [
      "52.8 ms ± 2.97 ms per loop (mean ± std. dev. of 7 runs, 10 loops each)\n"
     ]
    }
   ],
   "source": [
    "%%timeit \n",
    "\n",
    "# BENCHMARK\n",
    "\n",
    "wassersteinDists = list()\n",
    "    \n",
    "for i in range(len(densities)):\n",
    "    y = yTest[i]\n",
    "    values = densities[i][1]\n",
    "    probs = densities[i][0]\n",
    "    \n",
    "    wassersteinDists.append(np.sum(probs * np.abs(values - y)**2)**(1/2))\n",
    "    \n",
    "wassersteinDists = np.array(wassersteinDists)"
   ]
  },
  {
   "cell_type": "markdown",
   "id": "36d71dea-5833-4dc3-9d78-6b05453dfcd2",
   "metadata": {},
   "source": [
    "## Multi-dimensional improvement"
   ]
  },
  {
   "cell_type": "code",
   "execution_count": 297,
   "id": "187f2b36-a359-4180-985f-8767cb12273e",
   "metadata": {},
   "outputs": [],
   "source": [
    "from scipy.spatial.distance import cdist\n",
    "\n",
    "dimY = 4\n",
    "nTest = 5000\n",
    "maxPosProb = 500\n",
    "\n",
    "densities = list()\n",
    "yTest = list()\n",
    "\n",
    "for j in range(nTest):\n",
    "    nPosProb = int(randint(low = 1, high = maxPosProb, size = 1))\n",
    "    \n",
    "    probs = np.ravel([uniform(low = 0, high = 1, size = 1) for i in range(nPosProb)])\n",
    "    probs = probs / probs.sum()\n",
    "    \n",
    "    values = np.array([randint(low = 0, high = 10, size = dimY) for i in range(nPosProb)])\n",
    "    \n",
    "    densities.append((probs, values))\n",
    "    yTest.append(randint(low = 1, high = 10, size = dimY))\n",
    "\n",
    "yTest = np.array(yTest)"
   ]
  },
  {
   "cell_type": "code",
   "execution_count": 313,
   "id": "f3f60aae-e6cb-4bf6-a73e-dfd11b9f13e0",
   "metadata": {},
   "outputs": [
    {
     "name": "stdout",
     "output_type": "stream",
     "text": [
      "146 ms ± 28.9 ms per loop (mean ± std. dev. of 7 runs, 10 loops each)\n"
     ]
    }
   ],
   "source": [
    "%%timeit\n",
    "\n",
    "# BENCHMARK\n",
    "\n",
    "wassersteinDists = list()\n",
    "    \n",
    "for i in range(len(densities)):\n",
    "    y = yTest[i]\n",
    "    values = densities[i][1]\n",
    "    probs = densities[i][0]\n",
    "    \n",
    "    wassersteinDists.append(np.sum(probs * np.sum(np.abs(values - y)**2, axis = 1))**(1/2))\n",
    "    \n",
    "wassersteinDists = np.array(wassersteinDists)"
   ]
  },
  {
   "cell_type": "code",
   "execution_count": 311,
   "id": "4edfa983-8869-4390-88eb-d61bf59a208c",
   "metadata": {},
   "outputs": [
    {
     "name": "stdout",
     "output_type": "stream",
     "text": [
      "142 ms ± 15.7 ms per loop (mean ± std. dev. of 7 runs, 10 loops each)\n"
     ]
    }
   ],
   "source": [
    "%%timeit\n",
    "\n",
    "yDim = densities[0][1].shape[1]\n",
    "\n",
    "lenList = list()\n",
    "for probs, values in densities:\n",
    "    lenList.append(values.shape[0])\n",
    "    \n",
    "lenMax = max(lenList)\n",
    "valuesArray = np.zeros(shape = (len(densities), yDim, lenMax))\n",
    "probsArray = np.zeros(shape = (len(densities), lenMax))\n",
    "\n",
    "for i in range(len(densities)):\n",
    "    length = lenList[i]\n",
    "    values = densities[i][1]\n",
    "    probs = densities[i][0]\n",
    "    \n",
    "    valuesArray[i, :, 0:length] = values.T\n",
    "    probsArray[i, 0:length] = probs\n",
    "\n",
    "yTestMod = np.expand_dims(a = yTest, axis = 2)\n",
    "\n",
    "distances = np.sum(np.abs(valuesArray - yTestMod)**2, axis = 1)\n",
    "\n",
    "wassersteinDists2 = np.sum(probsArray * distances, axis = 1)**(1/2)"
   ]
  },
  {
   "cell_type": "code",
   "execution_count": 310,
   "id": "43a22ca2-24e1-4233-95db-bb9dbcbbd6f2",
   "metadata": {},
   "outputs": [
    {
     "name": "stdout",
     "output_type": "stream",
     "text": [
      "310 ms ± 1.82 ms per loop (mean ± std. dev. of 7 runs, 1 loop each)\n"
     ]
    }
   ],
   "source": [
    "%%timeit\n",
    "\n",
    "yDim = densities[0][1].shape[1]\n",
    "\n",
    "lenList = list()\n",
    "probsList = list()\n",
    "valuesListDict = defaultdict(list)\n",
    "\n",
    "for probs, values in densities:\n",
    "    lenList.append(values.shape[0])\n",
    "    probsList.append(probs)\n",
    "    \n",
    "    for i in range(yDim):\n",
    "        valuesListDict[i].append(values[:, i])\n",
    "    \n",
    "lenMax = max(lenList)\n",
    "insertionCheck = np.arange(lenMax) < np.array(lenList)[:, None]\n",
    "\n",
    "#---\n",
    "\n",
    "valuesArrayList = list()\n",
    "\n",
    "for i in range(yDim):\n",
    "    valuesArray = np.zeros(shape = (len(densities), lenMax))\n",
    "    valuesArray[insertionCheck] = np.concatenate(valuesListDict[i], axis = 0)\n",
    "    \n",
    "    valuesArray = np.expand_dims(valuesArray, axis = 2)\n",
    "    \n",
    "    valuesArrayList.append(valuesArray)\n",
    "\n",
    "valuesArray = np.concatenate(valuesArrayList, axis = 2)\n",
    "valuesArray = np.swapaxes(valuesArray, axis1 = 1, axis2 = 2)\n",
    "\n",
    "probsArray = np.zeros(shape = (len(densities), lenMax))\n",
    "probsArray[insertionCheck] = np.concatenate(probsList, axis = 0)\n",
    "        \n",
    "yTestMod = np.expand_dims(a = yTest, axis = 2)\n",
    "\n",
    "#---\n",
    "\n",
    "distances = np.sum(np.abs(valuesArray - yTestMod)**2, axis = 1)\n",
    "wassersteinDists3 = np.sum(probsArray * distances, axis = 1)**(1/2)"
   ]
  },
  {
   "cell_type": "code",
   "execution_count": 236,
   "id": "50712bd4-4d8b-4558-9062-862d044f8c09",
   "metadata": {},
   "outputs": [],
   "source": [
    "test = np.repeat(a = np.arange(lenMax).reshape(1, -1), repeats = nTest, axis = 0)\n",
    "test2 = np.expand_dims(test, axis = 2)\n",
    "\n",
    "test3 = np.repeat(a = test2, repeats = yDim, axis = 2)\n",
    "test4 = np.swapaxes(test3, axis1 = 1, axis2 = 2)\n",
    "\n",
    "comp = np.repeat(a = np.array(lenList).reshape(-1, 1), repeats = yDim, axis = 1)\n",
    "comp2 = np.expand_dims(comp, axis = 2)\n",
    "\n",
    "test5 = test4 < comp2\n",
    "\n",
    "valuesList = list()\n",
    "for probs, values in densities:\n",
    "     valuesList.append(values)\n",
    "        \n",
    "valuesArray = np.zeros(shape = (len(densities), yDim, lenMax))\n",
    "\n",
    "# valuesArray[test5] = np.concatenate(valuesList)"
   ]
  },
  {
   "cell_type": "code",
   "execution_count": 238,
   "id": "56fef789-8b98-4928-9e1f-7ca62d1942c3",
   "metadata": {},
   "outputs": [
    {
     "data": {
      "text/plain": [
       "9"
      ]
     },
     "execution_count": 238,
     "metadata": {},
     "output_type": "execute_result"
    }
   ],
   "source": [
    "np.arange(lenMax) < "
   ]
  },
  {
   "cell_type": "code",
   "execution_count": 243,
   "id": "9b2eb383-d2c7-4aef-a8b3-3b0f22d49c9d",
   "metadata": {},
   "outputs": [
    {
     "data": {
      "text/plain": [
       "array([ True,  True,  True,  True, False, False, False, False, False])"
      ]
     },
     "execution_count": 243,
     "metadata": {},
     "output_type": "execute_result"
    }
   ],
   "source": [
    "test = np.arange(lenMax) < np.array(lenList)[:, None]\n"
   ]
  },
  {
   "cell_type": "code",
   "execution_count": 199,
   "id": "d1c7e056-77ca-490a-93d7-394642f100a7",
   "metadata": {},
   "outputs": [],
   "source": []
  },
  {
   "cell_type": "code",
   "execution_count": 200,
   "id": "7bbbbcd3-ef77-411d-a622-aa7a156dc552",
   "metadata": {},
   "outputs": [],
   "source": []
  },
  {
   "cell_type": "code",
   "execution_count": 209,
   "id": "9fff1f94-2bcf-40d8-8547-8a0e1a36ca26",
   "metadata": {},
   "outputs": [],
   "source": []
  },
  {
   "cell_type": "code",
   "execution_count": 210,
   "id": "de705015-4337-4bd9-9247-b8916b3f641e",
   "metadata": {},
   "outputs": [],
   "source": []
  },
  {
   "cell_type": "code",
   "execution_count": 216,
   "id": "8c0633dd-a049-47a5-9a0c-0d3c39adbaac",
   "metadata": {},
   "outputs": [
    {
     "ename": "TypeError",
     "evalue": "NumPy boolean array indexing assignment requires a 0 or 1-dimensional input, input has 2 dimensions",
     "output_type": "error",
     "traceback": [
      "\u001b[0;31m---------------------------------------------------------------------------\u001b[0m",
      "\u001b[0;31mTypeError\u001b[0m                                 Traceback (most recent call last)",
      "Input \u001b[0;32mIn [216]\u001b[0m, in \u001b[0;36m<cell line: 1>\u001b[0;34m()\u001b[0m\n\u001b[0;32m----> 1\u001b[0m valuesArray[test5] \u001b[38;5;241m=\u001b[39m np\u001b[38;5;241m.\u001b[39mconcatenate(valuesList, axis \u001b[38;5;241m=\u001b[39m \u001b[38;5;241m0\u001b[39m)\n",
      "\u001b[0;31mTypeError\u001b[0m: NumPy boolean array indexing assignment requires a 0 or 1-dimensional input, input has 2 dimensions"
     ]
    }
   ],
   "source": []
  },
  {
   "cell_type": "code",
   "execution_count": 230,
   "id": "2247e5ce-5726-473d-aa3e-3d9cf4e4aa84",
   "metadata": {},
   "outputs": [
    {
     "data": {
      "text/plain": [
       "(100, 4, 9)"
      ]
     },
     "execution_count": 230,
     "metadata": {},
     "output_type": "execute_result"
    }
   ],
   "source": [
    "test5.shape"
   ]
  },
  {
   "cell_type": "code",
   "execution_count": 221,
   "id": "841e109f-138e-4733-bc8e-e22b162de3ec",
   "metadata": {},
   "outputs": [],
   "source": [
    "indices = np.array([[[1, 2, 3], [2, 3, 4]]])"
   ]
  },
  {
   "cell_type": "code",
   "execution_count": 223,
   "id": "55e2b4ee-6ba3-409b-9e42-0c37b65d9a76",
   "metadata": {},
   "outputs": [
    {
     "data": {
      "text/plain": [
       "(1, 2, 3, 4, 9)"
      ]
     },
     "execution_count": 223,
     "metadata": {},
     "output_type": "execute_result"
    }
   ],
   "source": [
    "valuesArray[indices].shape"
   ]
  },
  {
   "cell_type": "code",
   "execution_count": null,
   "id": "d1cb9437-e4ea-4a74-bac2-983981c7074c",
   "metadata": {},
   "outputs": [],
   "source": [
    "valuesList = [np.ravel([randint(low = 0, high = 10, size = 1) for i in range(int(randint(low = 1, high = 10, size = 1)))]) for j in range(100)]\n",
    "probsList = [np.ravel(np.array([uniform(low = 0, high = 1, size = 1) for i in range(valuesList[j].shape[0])])) for j in range(100)]\n",
    "probsList = [probs / probs.sum() for probs in probsList]\n",
    "\n",
    "yList = [np.ravel([randint(low = 0, high = 10, size = 1) for i in range(1)]) for j in range(100)]"
   ]
  },
  {
   "cell_type": "code",
   "execution_count": 49,
   "id": "ee0d3f3a-f8f6-4212-8ee4-47a263065cc6",
   "metadata": {},
   "outputs": [],
   "source": [
    "test = np.stack(yList, axis = 2)\n",
    "test2 = test.reshape(test.shape[2], test.shape[1], test.shape[0])"
   ]
  },
  {
   "cell_type": "code",
   "execution_count": 69,
   "id": "e201d497-3548-4122-b6fb-18509b441d5a",
   "metadata": {},
   "outputs": [
    {
     "data": {
      "text/plain": [
       "array([0, 1, 2, 3, 4, 5, 6, 7])"
      ]
     },
     "execution_count": 69,
     "metadata": {},
     "output_type": "execute_result"
    }
   ],
   "source": [
    "test = np.array([np.arange(8)] * 100)\n",
    "test2 = np.swapaxes(np.expand_dims(a = test, axis = 2), axis1 = 0, axis2 = 2)"
   ]
  },
  {
   "cell_type": "code",
   "execution_count": 41,
   "id": "baeef0bb-9bd3-44e0-9ea4-323642735b4a",
   "metadata": {},
   "outputs": [],
   "source": []
  },
  {
   "cell_type": "code",
   "execution_count": 51,
   "id": "d9d3b157-049d-4740-8543-b3183150eb42",
   "metadata": {},
   "outputs": [
    {
     "data": {
      "text/plain": [
       "True"
      ]
     },
     "execution_count": 51,
     "metadata": {},
     "output_type": "execute_result"
    }
   ],
   "source": [
    "np.allclose(distances, wassersteinDists)"
   ]
  },
  {
   "cell_type": "code",
   "execution_count": 44,
   "id": "182db191-e754-438c-9a90-fb924124eac9",
   "metadata": {},
   "outputs": [
    {
     "data": {
      "text/plain": [
       "array([1.        , 3.16868241, 1.        , 2.27735563, 4.69882935,\n",
       "       6.35978282, 3.32832636, 3.17528684, 2.        , 6.35165597,\n",
       "       4.27172399, 4.1430863 , 5.17263576, 3.25543048, 4.06045489,\n",
       "       4.1305019 , 2.6918518 , 5.        , 6.07503306, 3.57622848,\n",
       "       3.9319302 , 2.52364117, 3.26045734, 3.84968496, 2.89554205,\n",
       "       3.33832629, 4.93636408, 4.49380467, 3.86651643, 5.35971353,\n",
       "       3.71164571, 4.        , 4.50353702, 5.68447095, 4.50769364,\n",
       "       3.17727277, 4.31643631, 3.15451437, 2.58919977, 2.46577716,\n",
       "       3.09037864, 6.49772958, 4.5915561 , 3.08677208, 1.        ,\n",
       "       1.98863491, 4.47545828, 2.52657207, 2.21821329, 6.645546  ,\n",
       "       3.4182691 , 2.95426494, 4.38018196, 3.        , 3.9142907 ,\n",
       "       6.05294536, 5.24599213, 1.67578836, 2.90432041, 4.03397428,\n",
       "       5.3693118 , 3.61789388, 3.86595306, 2.71220836, 1.        ,\n",
       "       4.49428396, 1.        , 4.26702074, 4.52820191, 3.        ,\n",
       "       3.12795023, 4.76540598, 3.7940291 , 6.46033906, 5.28328636,\n",
       "       5.28404807, 3.40514222, 4.46777631, 2.5070817 , 5.48880449,\n",
       "       4.2848959 , 2.        , 2.53331104, 1.96767921, 3.82461015,\n",
       "       4.14929906, 2.94226709, 4.3063658 , 1.98450576, 2.50279195,\n",
       "       1.        , 1.        , 2.51754679, 3.97313678, 2.37734338,\n",
       "       2.        , 2.70181535, 2.9610833 , 2.40964558, 3.08876152])"
      ]
     },
     "execution_count": 44,
     "metadata": {},
     "output_type": "execute_result"
    }
   ],
   "source": [
    "np.array(wassersteinDists)"
   ]
  },
  {
   "cell_type": "code",
   "execution_count": 126,
   "id": "b323cb55-0b86-4553-b9db-fb62abe02563",
   "metadata": {},
   "outputs": [
    {
     "ename": "IndexError",
     "evalue": "boolean index did not match indexed array along dimension 1; dimension is 8 but corresponding boolean dimension is 100",
     "output_type": "error",
     "traceback": [
      "\u001b[0;31m---------------------------------------------------------------------------\u001b[0m",
      "\u001b[0;31mIndexError\u001b[0m                                Traceback (most recent call last)",
      "Input \u001b[0;32mIn [126]\u001b[0m, in \u001b[0;36m<cell line: 23>\u001b[0;34m()\u001b[0m\n\u001b[1;32m     20\u001b[0m probsArray \u001b[38;5;241m=\u001b[39m np\u001b[38;5;241m.\u001b[39mzeros(shape \u001b[38;5;241m=\u001b[39m (lenMax, lenAxis2))\n\u001b[1;32m     21\u001b[0m valuesArray \u001b[38;5;241m=\u001b[39m np\u001b[38;5;241m.\u001b[39mzeros(shape \u001b[38;5;241m=\u001b[39m (lenMax, lenAxis1, lenAxis2))\n\u001b[0;32m---> 23\u001b[0m valuesArray[insertionCheckProbs] \u001b[38;5;241m=\u001b[39m np\u001b[38;5;241m.\u001b[39mstack(valuesList, axis \u001b[38;5;241m=\u001b[39m \u001b[38;5;241m2\u001b[39m)\n\u001b[1;32m     24\u001b[0m probsArray[insertionCheckProbs] \u001b[38;5;241m=\u001b[39m np\u001b[38;5;241m.\u001b[39mstack(probsList, axis \u001b[38;5;241m=\u001b[39m \u001b[38;5;241m1\u001b[39m)\n\u001b[1;32m     26\u001b[0m valuesArray \u001b[38;5;241m=\u001b[39m np\u001b[38;5;241m.\u001b[39mstack(valuesList, axis \u001b[38;5;241m=\u001b[39m \u001b[38;5;241m2\u001b[39m)\n",
      "\u001b[0;31mIndexError\u001b[0m: boolean index did not match indexed array along dimension 1; dimension is 8 but corresponding boolean dimension is 100"
     ]
    }
   ],
   "source": [
    "lenAxis1 = valuesList[0].shape[1]\n",
    "lenAxis2 = len(valuesList)\n",
    "\n",
    "probsList2 = list()\n",
    "valuesList2 = list()\n",
    "lenList = list()\n",
    "yList2 = list()\n",
    "\n",
    "for i in range(len(valuesList)):\n",
    "    probsList2.append(probsList[i])\n",
    "    valuesList2.append(valuesList[i])\n",
    "    yList2.append(yList[i])\n",
    "    lenList.append(valuesList[i].shape[0])\n",
    "    \n",
    "lenMax = max(lenList)\n",
    "insertionCheckProbs = np.arange(lenMax) < np.array(lenList)[:, None]\n",
    "insertionCheckProbs = np.swapaxes(insertionCheckProbs, axis1 = 0, axis2 = 1)\n",
    "# insertionCheckValues = np.concatenate([insertionCheckProbs] * lenAxis1, axis = 1)\n",
    "\n",
    "probsArray = np.zeros(shape = (lenMax, lenAxis2))\n",
    "valuesArray = np.zeros(shape = (lenMax, lenAxis1, lenAxis2))\n",
    "\n",
    "valuesArray[insertionCheckProbs] = np.stack(valuesList, axis = 2)\n",
    "probsArray[insertionCheckProbs] = np.stack(probsList, axis = 1)\n",
    "\n",
    "valuesArray = np.stack(valuesList, axis = 2)\n",
    "probsArray = np.stack(probsList, axis = 1)\n",
    "yArray = np.stack(yList, axis = 2)\n",
    "\n",
    "distances = np.sum(np.abs(valuesArray - yArray)**2, axis = 1)\n",
    "\n",
    "test = np.sum(probsArray * distances, axis = 0)**(1/2)"
   ]
  },
  {
   "cell_type": "code",
   "execution_count": 197,
   "id": "cbe91d19-ecfc-4b4c-86c1-05f78c93c590",
   "metadata": {},
   "outputs": [
    {
     "ename": "TypeError",
     "evalue": "NumPy boolean array indexing assignment requires a 0 or 1-dimensional input, input has 2 dimensions",
     "output_type": "error",
     "traceback": [
      "\u001b[0;31m---------------------------------------------------------------------------\u001b[0m",
      "\u001b[0;31mTypeError\u001b[0m                                 Traceback (most recent call last)",
      "Input \u001b[0;32mIn [197]\u001b[0m, in \u001b[0;36m<cell line: 17>\u001b[0;34m()\u001b[0m\n\u001b[1;32m     14\u001b[0m valuesArray \u001b[38;5;241m=\u001b[39m np\u001b[38;5;241m.\u001b[39mzeros(shape \u001b[38;5;241m=\u001b[39m (\u001b[38;5;28mlen\u001b[39m(probsList), valuesList[\u001b[38;5;241m0\u001b[39m]\u001b[38;5;241m.\u001b[39mshape[\u001b[38;5;241m1\u001b[39m], lenMax))\n\u001b[1;32m     16\u001b[0m \u001b[38;5;66;03m# probsArray[insertionCheck] = np.concatenate(probsList, axis = 0)\u001b[39;00m\n\u001b[0;32m---> 17\u001b[0m valuesArray[insertionCheck2] \u001b[38;5;241m=\u001b[39m np\u001b[38;5;241m.\u001b[39mconcatenate(valuesList, axis \u001b[38;5;241m=\u001b[39m \u001b[38;5;241m0\u001b[39m)\n",
      "\u001b[0;31mTypeError\u001b[0m: NumPy boolean array indexing assignment requires a 0 or 1-dimensional input, input has 2 dimensions"
     ]
    }
   ],
   "source": [
    "lenList = list()\n",
    "\n",
    "for i in range(len(valuesList)):\n",
    "    lenList.append(valuesList[i].shape[0])\n",
    "lenMax = max(lenList)\n",
    "\n",
    "insertionCheck = np.arange(lenMax) < np.array(lenList)[:, None, None]\n",
    "insertionCheck2 = np.repeat(a = insertionCheck, repeats = 8, axis = 1)\n",
    "\n",
    "# insertionCheckProbs = np.swapaxes(insertionCheckProbs, axis1 = 0, axis2 = 1)\n",
    "# insertionCheckValues = np.concatenate([insertionCheckProbs] * lenAxis1, axis = 1)\n",
    "\n",
    "probsArray = np.zeros(shape = (len(probsList), lenMax))\n",
    "valuesArray = np.zeros(shape = (len(probsList), valuesList[0].shape[1], lenMax))\n",
    "\n",
    "# probsArray[insertionCheck] = np.concatenate(probsList, axis = 0)\n",
    "valuesArray[insertionCheck2] = np.concatenate(valuesList, axis = 0)\n",
    "\n",
    "# valuesArray[insertionCheckProbs] = np.stack(valuesList, axis = 2)\n",
    "# probsArray[insertionCheckProbs] = np.stack(probsList, axis = 1)\n",
    "\n",
    "# valuesArray = np.stack(valuesList, axis = 2)\n",
    "# probsArray = np.stack(probsList, axis = 1)\n",
    "# yArray = np.stack(yList, axis = 2)\n",
    "\n",
    "# distances = np.sum(np.abs(valuesArray - yArray)**2, axis = 1)\n",
    "\n",
    "# test = np.sum(probsArray * distances, axis = 0)**(1/2)"
   ]
  },
  {
   "cell_type": "code",
   "execution_count": 212,
   "id": "b9924886-0f99-47e4-95d7-03a531e44f20",
   "metadata": {},
   "outputs": [
    {
     "data": {
      "text/plain": [
       "\u001b[0;31mInit signature:\u001b[0m \u001b[0mitertools\u001b[0m\u001b[0;34m.\u001b[0m\u001b[0mzip_longest\u001b[0m\u001b[0;34m(\u001b[0m\u001b[0mself\u001b[0m\u001b[0;34m,\u001b[0m \u001b[0;34m/\u001b[0m\u001b[0;34m,\u001b[0m \u001b[0;34m*\u001b[0m\u001b[0margs\u001b[0m\u001b[0;34m,\u001b[0m \u001b[0;34m**\u001b[0m\u001b[0mkwargs\u001b[0m\u001b[0;34m)\u001b[0m\u001b[0;34m\u001b[0m\u001b[0;34m\u001b[0m\u001b[0m\n",
       "\u001b[0;31mDocstring:\u001b[0m     \n",
       "zip_longest(iter1 [,iter2 [...]], [fillvalue=None]) --> zip_longest object\n",
       "\n",
       "Return a zip_longest object whose .__next__() method returns a tuple where\n",
       "the i-th element comes from the i-th iterable argument.  The .__next__()\n",
       "method continues until the longest iterable in the argument sequence\n",
       "is exhausted and then it raises StopIteration.  When the shorter iterables\n",
       "are exhausted, the fillvalue is substituted in their place.  The fillvalue\n",
       "defaults to None or can be specified by a keyword argument.\n",
       "\u001b[0;31mType:\u001b[0m           type\n",
       "\u001b[0;31mSubclasses:\u001b[0m     \n"
      ]
     },
     "metadata": {},
     "output_type": "display_data"
    }
   ],
   "source": [
    "import itertools\n",
    "test = list(itertools.zip_longest(*valuesList, fillvalue = 0))\n",
    "test[0]\n",
    "itertools.zip_longest?"
   ]
  },
  {
   "cell_type": "code",
   "execution_count": 174,
   "id": "d469ff51-f781-494b-a7a3-139e82f1c4cf",
   "metadata": {},
   "outputs": [
    {
     "data": {
      "text/plain": [
       "(100, 8, 9)"
      ]
     },
     "execution_count": 174,
     "metadata": {},
     "output_type": "execute_result"
    }
   ],
   "source": [
    "valuesArray.shape"
   ]
  },
  {
   "cell_type": "code",
   "execution_count": 173,
   "id": "d00ea7a4-e46c-48e9-8284-cf3f9dd6aac1",
   "metadata": {},
   "outputs": [
    {
     "data": {
      "text/plain": [
       "(4, 8)"
      ]
     },
     "execution_count": 173,
     "metadata": {},
     "output_type": "execute_result"
    }
   ],
   "source": [
    "valuesList[4].shape"
   ]
  },
  {
   "cell_type": "code",
   "execution_count": 156,
   "id": "3af5e63f-2d45-4a96-a674-00cec48ef48e",
   "metadata": {},
   "outputs": [
    {
     "data": {
      "text/plain": [
       "(100, 10)"
      ]
     },
     "execution_count": 156,
     "metadata": {},
     "output_type": "execute_result"
    }
   ],
   "source": [
    "(np.arange(lenMax) < np.array(lenList)[:, None]).shape"
   ]
  },
  {
   "cell_type": "code",
   "execution_count": 141,
   "id": "6c16bd26-63e8-43ea-a68a-14d56163fe0f",
   "metadata": {},
   "outputs": [
    {
     "data": {
      "text/plain": [
       "array([[0.01009766, 0.24651637, 0.02263885, 0.20883241, 0.03724715,\n",
       "        0.0983117 , 0.01659117, 0.24016372, 0.00501884, 0.11458214],\n",
       "       [0.24778259, 0.14732609, 0.16164974, 0.1079876 , 0.00595314,\n",
       "        0.0151889 , 0.07955756, 0.00853273, 0.1244222 , 0.10159946],\n",
       "       [0.1874065 , 0.1481619 , 0.05011163, 0.07397696, 0.06604033,\n",
       "        0.09255353, 0.04293366, 0.13601729, 0.18094297, 0.02185523],\n",
       "       [0.02576896, 0.02373454, 0.16745852, 0.13897852, 0.08803924,\n",
       "        0.1619214 , 0.06923618, 0.09773776, 0.13964836, 0.08747651],\n",
       "       [0.09522165, 0.07164955, 0.24458031, 0.08281456, 0.00843574,\n",
       "        0.06709888, 0.15791992, 0.24180813, 0.0090158 , 0.02145545],\n",
       "       [0.02008905, 0.17642716, 0.16596693, 0.02654114, 0.01316914,\n",
       "        0.17595823, 0.04821761, 0.13583665, 0.09388884, 0.14390525],\n",
       "       [0.17741677, 0.13820225, 0.05235513, 0.01912789, 0.1053217 ,\n",
       "        0.09786278, 0.1133941 , 0.00784073, 0.16389146, 0.12458717],\n",
       "       [0.15556941, 0.01436101, 0.09589184, 0.03456077, 0.21843921,\n",
       "        0.03126853, 0.14577725, 0.02449385, 0.10191973, 0.1777184 ],\n",
       "       [0.11521502, 0.12249226, 0.03441453, 0.01563861, 0.01102759,\n",
       "        0.24357976, 0.00746533, 0.22665524, 0.11848307, 0.1050286 ],\n",
       "       [0.13886333, 0.04985019, 0.08780472, 0.0628673 , 0.12502831,\n",
       "        0.12218229, 0.08795421, 0.10528994, 0.12638978, 0.09376993],\n",
       "       [0.14919186, 0.15289127, 0.1639099 , 0.03833329, 0.0371637 ,\n",
       "        0.06469199, 0.12921285, 0.06347782, 0.15023181, 0.05089551],\n",
       "       [0.10546661, 0.01509748, 0.04478725, 0.16101327, 0.09352338,\n",
       "        0.16618517, 0.17448593, 0.00152558, 0.16122144, 0.07669389],\n",
       "       [0.06823335, 0.04901171, 0.06297689, 0.14452166, 0.17108622,\n",
       "        0.08622104, 0.069128  , 0.167089  , 0.15146748, 0.03026465],\n",
       "       [0.10239837, 0.10693176, 0.03252842, 0.01359359, 0.14641817,\n",
       "        0.10509449, 0.14453356, 0.11592893, 0.12257111, 0.1100016 ],\n",
       "       [0.08565546, 0.07698164, 0.12928289, 0.0676376 , 0.16887192,\n",
       "        0.14210795, 0.1201785 , 0.02212297, 0.10198883, 0.08517224],\n",
       "       [0.15597388, 0.14004162, 0.09568263, 0.02024459, 0.15086088,\n",
       "        0.08185753, 0.089003  , 0.13420269, 0.07138889, 0.0607443 ],\n",
       "       [0.22109064, 0.04866017, 0.26479919, 0.02561958, 0.02414223,\n",
       "        0.05895665, 0.08972663, 0.02963529, 0.09208629, 0.14528333],\n",
       "       [0.00436714, 0.17689583, 0.15546293, 0.01120083, 0.13723069,\n",
       "        0.15441706, 0.06514076, 0.06624098, 0.01625786, 0.21278593],\n",
       "       [0.07782621, 0.12958687, 0.06220881, 0.05507905, 0.09355222,\n",
       "        0.1641053 , 0.08573604, 0.11685586, 0.16428455, 0.05076508],\n",
       "       [0.05972672, 0.15254651, 0.06637888, 0.13643262, 0.03694789,\n",
       "        0.07626925, 0.0477248 , 0.18896053, 0.08327682, 0.151736  ],\n",
       "       [0.17336892, 0.00084616, 0.00971805, 0.05533314, 0.16356552,\n",
       "        0.13532405, 0.16754801, 0.15426491, 0.0329736 , 0.10705765],\n",
       "       [0.02674498, 0.0640823 , 0.04969159, 0.01786273, 0.16673073,\n",
       "        0.17749853, 0.17647275, 0.02872576, 0.12164203, 0.17054858],\n",
       "       [0.04303025, 0.1228677 , 0.19932444, 0.17192756, 0.05404963,\n",
       "        0.14424407, 0.10721943, 0.00877885, 0.01978457, 0.12877351],\n",
       "       [0.06875468, 0.16952739, 0.01704399, 0.0652693 , 0.09045963,\n",
       "        0.10488276, 0.07264982, 0.12589567, 0.21704302, 0.06847373],\n",
       "       [0.15364895, 0.15429503, 0.04410534, 0.11368926, 0.01311486,\n",
       "        0.02409714, 0.17326624, 0.07891511, 0.18860513, 0.05626293],\n",
       "       [0.07706863, 0.14360246, 0.04093896, 0.15547961, 0.17754883,\n",
       "        0.05784862, 0.18207477, 0.08509793, 0.0708853 , 0.00945489],\n",
       "       [0.18784593, 0.09170561, 0.16740772, 0.03410887, 0.10560614,\n",
       "        0.0116655 , 0.14979902, 0.06892877, 0.06026554, 0.1226669 ],\n",
       "       [0.11187929, 0.04830467, 0.07678909, 0.06327649, 0.15426862,\n",
       "        0.15460302, 0.14463782, 0.04355307, 0.07908429, 0.12360364],\n",
       "       [0.14121453, 0.04540299, 0.11629151, 0.13213814, 0.07212793,\n",
       "        0.07796675, 0.11253378, 0.1945375 , 0.02639922, 0.08138765],\n",
       "       [0.10647872, 0.07045775, 0.13905623, 0.07398447, 0.06410494,\n",
       "        0.08749391, 0.11283934, 0.10348396, 0.13260814, 0.10949254],\n",
       "       [0.11264443, 0.12733848, 0.13258414, 0.0575316 , 0.03393455,\n",
       "        0.04855659, 0.19968255, 0.00801793, 0.11916856, 0.16054118],\n",
       "       [0.12022524, 0.09695156, 0.09486617, 0.1206566 , 0.00722362,\n",
       "        0.05157953, 0.12073281, 0.12736678, 0.09572299, 0.16467471],\n",
       "       [0.11282779, 0.12240579, 0.05588494, 0.11386672, 0.11840118,\n",
       "        0.13035505, 0.12886131, 0.05052018, 0.02434314, 0.1425339 ],\n",
       "       [0.15358934, 0.06030117, 0.11003681, 0.13622407, 0.05641251,\n",
       "        0.02481223, 0.02932954, 0.12891445, 0.13027698, 0.17010291],\n",
       "       [0.09487429, 0.05944024, 0.08724681, 0.12897856, 0.17194704,\n",
       "        0.07099434, 0.0362769 , 0.15195412, 0.09193773, 0.10634997],\n",
       "       [0.16703746, 0.03674346, 0.04288219, 0.18348627, 0.08911943,\n",
       "        0.16350758, 0.02889718, 0.0471539 , 0.11887081, 0.12230171],\n",
       "       [0.01762876, 0.01811626, 0.18528638, 0.09819723, 0.18057894,\n",
       "        0.08762083, 0.08586762, 0.08457331, 0.20644411, 0.03568658],\n",
       "       [0.13386373, 0.12333824, 0.15577637, 0.12151506, 0.03208436,\n",
       "        0.17365708, 0.03511495, 0.00935216, 0.1707363 , 0.04456175],\n",
       "       [0.09886308, 0.06809254, 0.05411699, 0.1630019 , 0.11309336,\n",
       "        0.16756906, 0.06521334, 0.0640336 , 0.16980457, 0.03621156],\n",
       "       [0.1175069 , 0.11792822, 0.12803219, 0.04423307, 0.04630144,\n",
       "        0.01893356, 0.0203192 , 0.19045369, 0.1547933 , 0.16149842],\n",
       "       [0.1634057 , 0.12283736, 0.10499315, 0.139786  , 0.01485798,\n",
       "        0.02710933, 0.1148061 , 0.080585  , 0.19673186, 0.03488752],\n",
       "       [0.17040227, 0.05222893, 0.1948697 , 0.01906792, 0.0644851 ,\n",
       "        0.12570641, 0.14325368, 0.08046866, 0.01505282, 0.13446451],\n",
       "       [0.10253294, 0.12395929, 0.04751005, 0.13847327, 0.15685124,\n",
       "        0.10766069, 0.06645753, 0.02956799, 0.11132076, 0.11566625],\n",
       "       [0.13616312, 0.18054758, 0.08638003, 0.00589018, 0.0838703 ,\n",
       "        0.16929203, 0.06077094, 0.04731085, 0.04888072, 0.18089427],\n",
       "       [0.21279264, 0.1350228 , 0.16814572, 0.16289563, 0.03794084,\n",
       "        0.05410818, 0.10209171, 0.0858353 , 0.01585693, 0.02531024],\n",
       "       [0.07205849, 0.05049343, 0.16285937, 0.16975556, 0.14637944,\n",
       "        0.0513068 , 0.02203714, 0.10445439, 0.17719653, 0.04345885],\n",
       "       [0.11600986, 0.15895444, 0.13372025, 0.02257187, 0.05719261,\n",
       "        0.08590678, 0.11952393, 0.1264369 , 0.01084473, 0.16883863],\n",
       "       [0.05244627, 0.17444906, 0.0565356 , 0.09432868, 0.08422437,\n",
       "        0.20843704, 0.02597629, 0.08606449, 0.00097834, 0.21655986],\n",
       "       [0.12967612, 0.05979314, 0.05008097, 0.1779081 , 0.06218755,\n",
       "        0.18946297, 0.07321099, 0.15272279, 0.08751581, 0.01744155],\n",
       "       [0.0514667 , 0.19478747, 0.0076148 , 0.03150976, 0.14355692,\n",
       "        0.17111273, 0.0981387 , 0.01239117, 0.11419556, 0.17522619],\n",
       "       [0.11918216, 0.12522438, 0.08832716, 0.13910743, 0.10642506,\n",
       "        0.00889891, 0.1177787 , 0.10900924, 0.0366251 , 0.14942187],\n",
       "       [0.15866707, 0.07589015, 0.11237429, 0.0416914 , 0.0875548 ,\n",
       "        0.06166065, 0.11891753, 0.04409367, 0.07555953, 0.22359092],\n",
       "       [0.18081927, 0.19255787, 0.03692278, 0.02656969, 0.13831351,\n",
       "        0.03936519, 0.06136306, 0.14220251, 0.00347022, 0.17841592],\n",
       "       [0.12425945, 0.10528015, 0.09619463, 0.17368377, 0.16878764,\n",
       "        0.07331757, 0.0392732 , 0.00269424, 0.18658062, 0.02992873],\n",
       "       [0.15319735, 0.0659537 , 0.13987081, 0.00794916, 0.14530283,\n",
       "        0.0142337 , 0.11713351, 0.06221197, 0.16668207, 0.12746492],\n",
       "       [0.08868899, 0.12682108, 0.10189529, 0.09164876, 0.03515392,\n",
       "        0.07299832, 0.12866377, 0.11969652, 0.10362135, 0.13081198],\n",
       "       [0.04056102, 0.12724865, 0.05087301, 0.16306262, 0.11161686,\n",
       "        0.01284026, 0.18933381, 0.09737507, 0.05481346, 0.15227523],\n",
       "       [0.09306891, 0.02399973, 0.11352307, 0.15866931, 0.17057191,\n",
       "        0.10421183, 0.00095726, 0.00672971, 0.18652158, 0.1417467 ],\n",
       "       [0.19657694, 0.14799724, 0.14866048, 0.13530912, 0.17047899,\n",
       "        0.0084666 , 0.07578615, 0.02258689, 0.07546783, 0.01866977],\n",
       "       [0.10240715, 0.0438512 , 0.06196765, 0.02373361, 0.18273633,\n",
       "        0.19890757, 0.12507447, 0.09398345, 0.02198197, 0.1453566 ],\n",
       "       [0.00962528, 0.07606917, 0.06276844, 0.06102299, 0.16413653,\n",
       "        0.11333489, 0.05533902, 0.00779772, 0.25504906, 0.1948569 ],\n",
       "       [0.09790044, 0.15421632, 0.06106697, 0.0986418 , 0.16866871,\n",
       "        0.11715209, 0.10564543, 0.08577157, 0.04951497, 0.06142168],\n",
       "       [0.01105351, 0.00032275, 0.0836854 , 0.12104269, 0.12341943,\n",
       "        0.19648826, 0.18654416, 0.05911048, 0.00921203, 0.20912128],\n",
       "       [0.07587183, 0.0742995 , 0.08648383, 0.0451828 , 0.11645675,\n",
       "        0.14296934, 0.12074299, 0.11914824, 0.09983098, 0.11901374],\n",
       "       [0.09021081, 0.09276684, 0.0083466 , 0.15897694, 0.162735  ,\n",
       "        0.10059422, 0.0872741 , 0.10654472, 0.15100759, 0.04154318],\n",
       "       [0.08330827, 0.0626586 , 0.12175064, 0.16567031, 0.15158905,\n",
       "        0.04843943, 0.03616567, 0.17660971, 0.03048119, 0.12332712],\n",
       "       [0.11632535, 0.13800075, 0.00636126, 0.00479621, 0.02563026,\n",
       "        0.18649647, 0.19178733, 0.123517  , 0.14562995, 0.06145542],\n",
       "       [0.15035421, 0.06056091, 0.02305574, 0.1767776 , 0.02510233,\n",
       "        0.06679575, 0.10559242, 0.11391688, 0.12341376, 0.15443041],\n",
       "       [0.15972536, 0.05207987, 0.06005772, 0.15762763, 0.01450861,\n",
       "        0.17574667, 0.07124277, 0.06712314, 0.10977422, 0.13211403],\n",
       "       [0.11096466, 0.17805375, 0.188776  , 0.08587951, 0.05781084,\n",
       "        0.02016012, 0.14126829, 0.0490552 , 0.05282865, 0.11520298],\n",
       "       [0.04215329, 0.26461705, 0.04830733, 0.00058683, 0.02370084,\n",
       "        0.17526446, 0.26394048, 0.13537625, 0.00879378, 0.03725969],\n",
       "       [0.04635293, 0.23919898, 0.0643299 , 0.02855412, 0.01394114,\n",
       "        0.11044659, 0.20580326, 0.07245981, 0.11531206, 0.10360122],\n",
       "       [0.09981113, 0.24795066, 0.13786579, 0.03644293, 0.03766861,\n",
       "        0.04663994, 0.0278932 , 0.01273394, 0.0724791 , 0.28051471],\n",
       "       [0.06461361, 0.09929565, 0.17157543, 0.09604569, 0.14071834,\n",
       "        0.13329136, 0.10757976, 0.02664296, 0.07367537, 0.08656182],\n",
       "       [0.08761069, 0.02380863, 0.1044256 , 0.21603628, 0.04177326,\n",
       "        0.1443048 , 0.03775157, 0.1400945 , 0.16322546, 0.0409692 ],\n",
       "       [0.15325821, 0.02873961, 0.10275494, 0.03098966, 0.10196561,\n",
       "        0.15865603, 0.14438647, 0.02831452, 0.16235773, 0.08857724],\n",
       "       [0.12167494, 0.13236594, 0.09812155, 0.13279937, 0.15053203,\n",
       "        0.00430725, 0.08030308, 0.09949081, 0.07727278, 0.10313225],\n",
       "       [0.11208026, 0.12206229, 0.02084538, 0.09651168, 0.0843413 ,\n",
       "        0.08536528, 0.1367158 , 0.12053798, 0.09771344, 0.12382659],\n",
       "       [0.1546417 , 0.15922944, 0.09300955, 0.1366667 , 0.05213818,\n",
       "        0.14222786, 0.01419891, 0.01751924, 0.11184067, 0.11852775],\n",
       "       [0.18569625, 0.01424876, 0.21976834, 0.12442473, 0.00613647,\n",
       "        0.19273935, 0.0295453 , 0.06670334, 0.15250602, 0.00823144],\n",
       "       [0.12356951, 0.09995496, 0.07298788, 0.14642899, 0.10050365,\n",
       "        0.15539116, 0.12098652, 0.06023433, 0.05040898, 0.06953402],\n",
       "       [0.13107359, 0.08880761, 0.08249128, 0.06619846, 0.10749127,\n",
       "        0.15572088, 0.11963831, 0.08087224, 0.114953  , 0.05275335],\n",
       "       [0.19419523, 0.13198316, 0.22049708, 0.13152174, 0.00462241,\n",
       "        0.00738171, 0.0524112 , 0.0457472 , 0.03364367, 0.17799659],\n",
       "       [0.06622224, 0.0489017 , 0.11659546, 0.12335313, 0.03782228,\n",
       "        0.01963968, 0.18412731, 0.10686009, 0.1074927 , 0.18898542],\n",
       "       [0.01005749, 0.06554671, 0.01000093, 0.13417804, 0.10205203,\n",
       "        0.15962183, 0.20935771, 0.01507224, 0.15319661, 0.14091639],\n",
       "       [0.16112827, 0.10019857, 0.14180584, 0.08828983, 0.13907443,\n",
       "        0.16051478, 0.11344139, 0.02711924, 0.00089446, 0.0675332 ],\n",
       "       [0.19801263, 0.01052121, 0.10572069, 0.11382105, 0.02758358,\n",
       "        0.19649868, 0.02188501, 0.07501697, 0.10889038, 0.1420498 ],\n",
       "       [0.2155272 , 0.21711286, 0.11352902, 0.12828842, 0.00656762,\n",
       "        0.00380607, 0.11467208, 0.12866406, 0.07010515, 0.00172752],\n",
       "       [0.04411847, 0.14207161, 0.18194283, 0.09812931, 0.14510527,\n",
       "        0.11101817, 0.05525881, 0.15448255, 0.01684944, 0.05102353],\n",
       "       [0.09498485, 0.08768786, 0.15690373, 0.02300864, 0.04612839,\n",
       "        0.06724058, 0.1973698 , 0.0335433 , 0.1187961 , 0.17433675],\n",
       "       [0.12612475, 0.12594571, 0.13857432, 0.04588992, 0.10398167,\n",
       "        0.08997347, 0.03522121, 0.1115818 , 0.09919629, 0.12351085],\n",
       "       [0.09966602, 0.06335501, 0.00949086, 0.15851406, 0.06123703,\n",
       "        0.11759073, 0.04266112, 0.189508  , 0.19940876, 0.05856842],\n",
       "       [0.1075845 , 0.02272241, 0.12042378, 0.1130785 , 0.15473849,\n",
       "        0.06551768, 0.13336415, 0.13626483, 0.04079867, 0.105507  ],\n",
       "       [0.14221914, 0.14453759, 0.1199236 , 0.09177822, 0.03733841,\n",
       "        0.1516027 , 0.02446144, 0.08616039, 0.0130557 , 0.18892281],\n",
       "       [0.04518149, 0.06511962, 0.16351853, 0.05041918, 0.13175076,\n",
       "        0.13758286, 0.0664561 , 0.17453376, 0.07244763, 0.09299006],\n",
       "       [0.05023887, 0.04826323, 0.08488251, 0.14499976, 0.08961433,\n",
       "        0.19886274, 0.0977506 , 0.05897063, 0.11373939, 0.11267794],\n",
       "       [0.085216  , 0.06162636, 0.18091722, 0.16439692, 0.01748574,\n",
       "        0.13086986, 0.17676644, 0.00788316, 0.00150518, 0.17333314],\n",
       "       [0.14930646, 0.11473341, 0.02740689, 0.04307215, 0.0235749 ,\n",
       "        0.20427302, 0.0999852 , 0.12338737, 0.16583942, 0.04842119],\n",
       "       [0.13041462, 0.11537572, 0.06398636, 0.09735184, 0.12860375,\n",
       "        0.15269994, 0.11673831, 0.09992972, 0.09310685, 0.00179289],\n",
       "       [0.1815179 , 0.17382455, 0.00595806, 0.07792593, 0.10384338,\n",
       "        0.10544288, 0.15315239, 0.11154304, 0.02993645, 0.05685541]])"
      ]
     },
     "execution_count": 141,
     "metadata": {},
     "output_type": "execute_result"
    }
   ],
   "source": [
    "probsArray"
   ]
  },
  {
   "cell_type": "code",
   "execution_count": 122,
   "id": "4524ed92-4568-4a3d-8ca0-25496ebbbcd6",
   "metadata": {},
   "outputs": [
    {
     "data": {
      "text/plain": [
       "(10, 8, 100)"
      ]
     },
     "execution_count": 122,
     "metadata": {},
     "output_type": "execute_result"
    }
   ],
   "source": [
    "valuesArray.shape"
   ]
  },
  {
   "cell_type": "code",
   "execution_count": 123,
   "id": "6be72f7f-c1e1-480d-9290-5b8fd20e50ab",
   "metadata": {},
   "outputs": [
    {
     "data": {
      "text/plain": [
       "(10, 100)"
      ]
     },
     "execution_count": 123,
     "metadata": {},
     "output_type": "execute_result"
    }
   ],
   "source": [
    "insertionCheckProbs.shape"
   ]
  },
  {
   "cell_type": "code",
   "execution_count": 129,
   "id": "99a35869-08cd-4c85-b68a-a1343c4d005b",
   "metadata": {},
   "outputs": [
    {
     "data": {
      "text/plain": [
       "(10, 100)"
      ]
     },
     "execution_count": 129,
     "metadata": {},
     "output_type": "execute_result"
    }
   ],
   "source": [
    "insertionCheckProbs.shape"
   ]
  },
  {
   "cell_type": "code",
   "execution_count": 127,
   "id": "d9a68534-c172-44e3-ba6a-4022d5be180f",
   "metadata": {},
   "outputs": [
    {
     "data": {
      "text/plain": [
       "(10, 8, 100)"
      ]
     },
     "execution_count": 127,
     "metadata": {},
     "output_type": "execute_result"
    }
   ],
   "source": [
    "valuesArray.shape"
   ]
  },
  {
   "cell_type": "markdown",
   "id": "024798e3-8abb-48d4-9d67-18347625e53d",
   "metadata": {},
   "source": [
    "## One dimensional"
   ]
  },
  {
   "cell_type": "code",
   "execution_count": 9,
   "id": "304ddb77-1d82-44c0-8e22-c53c7c4324ad",
   "metadata": {},
   "outputs": [],
   "source": [
    "valuesList = [np.ravel([randint(low = 0, high = 10, size = 1) for i in range(10)]) for j in range(10000)]\n",
    "probsList = [np.ravel(np.array([uniform(low = 0, high = 1, size = 1) for i in range(10)])) for j in range(10000)]\n",
    "probsList = [probs / probs.sum() for probs in probsList]\n",
    "\n",
    "yList = [np.ravel([randint(low = 0, high = 10, size = 1) for i in range(1)]) for j in range(10000)]"
   ]
  },
  {
   "cell_type": "code",
   "execution_count": 22,
   "id": "b7cbdeaa-e54e-4fed-87d1-4990bc1098a8",
   "metadata": {},
   "outputs": [],
   "source": [
    "wassersteinDists = list()\n",
    "    \n",
    "for i in range(len(valuesList)):\n",
    "    y = yList[i]\n",
    "    values = valuesList[i]\n",
    "    probs = probsList[i]\n",
    "    \n",
    "    values = values.reshape(-1, 1)\n",
    "    y = y.reshape(-1, 1)\n",
    "    \n",
    "    wassersteinDists.append(np.sum(probs * np.sum(np.abs(values - y)**2, axis = 1))**(1/2))"
   ]
  },
  {
   "cell_type": "code",
   "execution_count": 10,
   "id": "f06b16c2-84e6-4ecb-a7a2-8f5c0017431b",
   "metadata": {},
   "outputs": [
    {
     "name": "stdout",
     "output_type": "stream",
     "text": [
      "45.1 ms ± 623 µs per loop (mean ± std. dev. of 7 runs, 10 loops each)\n"
     ]
    }
   ],
   "source": [
    "%%timeit\n",
    "\n",
    "valuesArray = np.stack(valuesList, axis = 2)\n",
    "yArray = np.stack(yList, axis = 2)\n",
    "probsArray = np.stack(probsList, axis = 1)\n",
    "\n",
    "distances = np.sum(np.abs(valuesArray - yArray)**2, axis = 1)\n",
    "\n",
    "test = np.sum(probsArray * distances, axis = 0)**(1/2)"
   ]
  },
  {
   "cell_type": "code",
   "execution_count": 132,
   "id": "03c49655-78dd-4b19-a307-b66f5f642177",
   "metadata": {},
   "outputs": [],
   "source": []
  },
  {
   "cell_type": "code",
   "execution_count": 133,
   "id": "4bf8893f-9efa-45a7-9d0c-6bc62bb6bc86",
   "metadata": {},
   "outputs": [
    {
     "data": {
      "text/plain": [
       "array([ 8.93145305,  7.05747364,  6.48070443,  6.15345144,  8.47698363,\n",
       "        8.24493505,  5.74488632,  7.82924342,  8.32609941,  7.10131074,\n",
       "       10.9406129 ,  8.065638  ,  7.36269968,  8.18294643,  6.64663468,\n",
       "        7.06436941,  9.49619426,  5.93776717,  9.04891493,  6.3582101 ,\n",
       "        7.00127067,  6.39544313,  7.91396806,  7.36734365,  6.0999823 ,\n",
       "        9.90770018,  6.01336787,  6.58362521,  6.9341847 ,  9.79406372,\n",
       "        7.45145959,  8.6216385 ,  7.25382353,  8.09243922,  8.77022475,\n",
       "        7.26595275,  8.44040013,  7.5716263 ,  9.90639136,  8.36780627,\n",
       "        7.45561185,  6.47011865,  6.96234616,  8.02718346,  6.79192255,\n",
       "        9.62410203,  9.40918537,  8.44175407,  7.47013667,  9.99245647,\n",
       "        8.96108021,  6.51480403,  6.43502126,  7.04753586,  9.24312877,\n",
       "        7.04072998,  6.30885871,  7.04557355,  6.84027153,  7.85331342,\n",
       "        6.59377425, 11.13239999,  7.8855719 ,  9.30227178,  9.26060035,\n",
       "        6.81829361,  6.79912063,  7.8972269 ,  8.8083585 ,  9.70609646,\n",
       "        9.8353423 ,  7.1951505 ,  9.47135168,  8.09257958,  7.43985819,\n",
       "        7.87213922,  7.41455534,  7.97215442,  6.7057642 ,  6.98532442,\n",
       "        7.45225406,  8.53465738,  8.51392029,  9.10675152,  7.35985864,\n",
       "        7.13456196,  6.31818385,  7.95060721,  8.50041453,  9.00103546,\n",
       "        6.78318874,  7.51705358,  9.44949616,  8.57653706,  7.28533419,\n",
       "        7.08872296,  5.55587626,  9.85843994,  7.67271879,  6.24069539])"
      ]
     },
     "execution_count": 133,
     "metadata": {},
     "output_type": "execute_result"
    }
   ],
   "source": []
  },
  {
   "cell_type": "code",
   "execution_count": 134,
   "id": "27ae25f6-2fe7-4be0-9ab5-f83ac8c395e7",
   "metadata": {},
   "outputs": [
    {
     "data": {
      "text/plain": [
       "[8.931453050666557,\n",
       " 7.0574736407974505,\n",
       " 6.480704427711937,\n",
       " 6.153451435266372,\n",
       " 8.476983632846846,\n",
       " 8.24493504566945,\n",
       " 5.74488631984587,\n",
       " 7.829243421874024,\n",
       " 8.326099406071085,\n",
       " 7.101310744010564,\n",
       " 10.940612896892505,\n",
       " 8.065637997437424,\n",
       " 7.362699683386023,\n",
       " 8.182946432382343,\n",
       " 6.6466346794379625,\n",
       " 7.06436940548583,\n",
       " 9.496194264726078,\n",
       " 5.937767171903744,\n",
       " 9.048914927232289,\n",
       " 6.3582101018600605,\n",
       " 7.00127066609408,\n",
       " 6.395443131559743,\n",
       " 7.913968055479238,\n",
       " 7.3673436543813375,\n",
       " 6.099982296312708,\n",
       " 9.9077001782744,\n",
       " 6.013367865206719,\n",
       " 6.583625206795354,\n",
       " 6.934184699123185,\n",
       " 9.794063719326253,\n",
       " 7.451459592396499,\n",
       " 8.621638499426497,\n",
       " 7.25382352919832,\n",
       " 8.092439218750528,\n",
       " 8.770224751691122,\n",
       " 7.265952752360882,\n",
       " 8.44040012920247,\n",
       " 7.571626295396472,\n",
       " 9.906391361642418,\n",
       " 8.36780626916971,\n",
       " 7.455611848301641,\n",
       " 6.470118650809714,\n",
       " 6.9623461566178415,\n",
       " 8.027183464016158,\n",
       " 6.79192255406364,\n",
       " 9.624102032536126,\n",
       " 9.409185370638838,\n",
       " 8.441754073308255,\n",
       " 7.47013667362885,\n",
       " 9.992456465856455,\n",
       " 8.961080206580256,\n",
       " 6.514804030802954,\n",
       " 6.4350212638651865,\n",
       " 7.047535862164962,\n",
       " 9.243128772782175,\n",
       " 7.040729977574203,\n",
       " 6.308858712387096,\n",
       " 7.045573547650355,\n",
       " 6.840271526863008,\n",
       " 7.853313421743959,\n",
       " 6.593774247110673,\n",
       " 11.132399994240028,\n",
       " 7.885571902647433,\n",
       " 9.302271782580394,\n",
       " 9.260600347756558,\n",
       " 6.818293612394925,\n",
       " 6.799120632128575,\n",
       " 7.897226897160779,\n",
       " 8.80835849930842,\n",
       " 9.706096457534475,\n",
       " 9.83534230472525,\n",
       " 7.195150499764548,\n",
       " 9.471351675512945,\n",
       " 8.09257957786053,\n",
       " 7.439858187027368,\n",
       " 7.87213921813639,\n",
       " 7.414555340435701,\n",
       " 7.972154416611607,\n",
       " 6.705764203659673,\n",
       " 6.985324423317489,\n",
       " 7.452254055885803,\n",
       " 8.534657384172366,\n",
       " 8.513920288689006,\n",
       " 9.106751524290997,\n",
       " 7.359858636964184,\n",
       " 7.134561962498797,\n",
       " 6.318183853653475,\n",
       " 7.95060721166093,\n",
       " 8.500414528703919,\n",
       " 9.00103546135828,\n",
       " 6.783188736012543,\n",
       " 7.517053580430177,\n",
       " 9.449496158466879,\n",
       " 8.576537055045867,\n",
       " 7.285334194531674,\n",
       " 7.0887229553093825,\n",
       " 5.555876258548364,\n",
       " 9.858439941367633,\n",
       " 7.6727187913743915,\n",
       " 6.24069539325795]"
      ]
     },
     "execution_count": 134,
     "metadata": {},
     "output_type": "execute_result"
    }
   ],
   "source": [
    "wassersteinDists"
   ]
  },
  {
   "cell_type": "markdown",
   "id": "54c8acab-8ec2-477c-b2c1-9b72885f4608",
   "metadata": {},
   "source": [
    "# SCANN"
   ]
  },
  {
   "cell_type": "code",
   "execution_count": null,
   "id": "7db72ad2-b864-4353-8dd7-e0d9ab432574",
   "metadata": {},
   "outputs": [],
   "source": [
    "import numpy as np\n",
    "import h5py\n",
    "import os\n",
    "import requests\n",
    "import tempfile\n",
    "import time\n",
    "\n",
    "import scann"
   ]
  },
  {
   "cell_type": "code",
   "execution_count": null,
   "id": "60e553f2-3e69-4a89-b26e-6ea9035ed288",
   "metadata": {},
   "outputs": [],
   "source": [
    "with tempfile.TemporaryDirectory() as tmp:\n",
    "    response = requests.get(\"http://ann-benchmarks.com/glove-100-angular.hdf5\")\n",
    "    loc = os.path.join(tmp, \"glove.hdf5\")\n",
    "    with open(loc, 'wb') as f:\n",
    "        f.write(response.content)\n",
    "    \n",
    "    glove_h5py = h5py.File(loc, \"r\")"
   ]
  },
  {
   "cell_type": "code",
   "execution_count": null,
   "id": "750278cd-cbea-4b5e-9607-fe46a3599784",
   "metadata": {},
   "outputs": [],
   "source": [
    "list(glove_h5py.keys())"
   ]
  },
  {
   "cell_type": "code",
   "execution_count": null,
   "id": "f71a7a01-d250-431e-9cc1-4150bb936b73",
   "metadata": {},
   "outputs": [],
   "source": [
    "dataset = glove_h5py['train']\n",
    "queries = glove_h5py['test']\n",
    "print(dataset.shape)\n",
    "print(queries.shape)"
   ]
  },
  {
   "cell_type": "code",
   "execution_count": null,
   "id": "89ce1ddc-0a39-4047-9de7-a4fdb9e47165",
   "metadata": {},
   "outputs": [],
   "source": [
    "normalized_dataset = dataset / np.linalg.norm(dataset, axis=1)[:, np.newaxis]\n",
    "# configure ScaNN as a tree - asymmetric hash hybrid with reordering\n",
    "# anisotropic quantization as described in the paper; see README\n",
    "\n",
    "# use scann.scann_ops.build() to instead create a TensorFlow-compatible searcher\n",
    "searcher = scann.scann_ops_pybind.builder(normalized_dataset, 100, \"dot_product\").tree(\n",
    "    num_leaves=2000, num_leaves_to_search=100, training_sample_size=250000).score_ah(\n",
    "    2, anisotropic_quantization_threshold=0.2).reorder(100).build()"
   ]
  },
  {
   "cell_type": "code",
   "execution_count": null,
   "id": "e1d14329-101b-4c0b-ba38-d9770add8647",
   "metadata": {},
   "outputs": [],
   "source": [
    "def compute_recall(neighbors, true_neighbors):\n",
    "    total = 0\n",
    "    for gt_row, row in zip(true_neighbors, neighbors):\n",
    "        total += np.intersect1d(gt_row, row).shape[0]\n",
    "    return total / true_neighbors.size"
   ]
  },
  {
   "cell_type": "code",
   "execution_count": null,
   "id": "49cf0051-8314-4a3b-999a-5c0b0404fa8a",
   "metadata": {},
   "outputs": [],
   "source": [
    "# this will search the top 100 of the 2000 leaves, and compute\n",
    "# the exact dot products of the top 100 candidates from asymmetric\n",
    "# hashing to get the final top 10 candidates.\n",
    "start = time.time()\n",
    "neighbors, distances = searcher.search_batched(queries)\n",
    "end = time.time()\n",
    "\n",
    "# we are given top 100 neighbors in the ground truth, so select top 10\n",
    "print(\"Recall:\", compute_recall(neighbors, glove_h5py['neighbors'][:, :100]))\n",
    "print(\"Time:\", end - start)"
   ]
  },
  {
   "cell_type": "code",
   "execution_count": null,
   "id": "ae753e9a-8f68-40f1-95a7-32a6da3af12b",
   "metadata": {},
   "outputs": [],
   "source": [
    "start = time.time()\n",
    "neighbors, distances = searcher.search_batched(queries, leaves_to_search=500)\n",
    "end = time.time()\n",
    "\n",
    "print(\"Recall:\", compute_recall(neighbors, glove_h5py['neighbors'][:, :100]))\n",
    "print(\"Time:\", end - start)"
   ]
  },
  {
   "cell_type": "code",
   "execution_count": null,
   "id": "53da0e94-b09a-47be-bca2-e67e0dd8436b",
   "metadata": {},
   "outputs": [],
   "source": [
    "neighbors"
   ]
  },
  {
   "cell_type": "markdown",
   "id": "3bfacacd-5ba8-439b-8c78-1bd879faf556",
   "metadata": {
    "tags": []
   },
   "source": [
    "# Multivariate Preds Test"
   ]
  },
  {
   "cell_type": "code",
   "execution_count": 2,
   "id": "b4d68038-1e99-4aab-8951-ed12f7f5f259",
   "metadata": {},
   "outputs": [
    {
     "data": {
      "text/plain": [
       "(1000, 4)"
      ]
     },
     "execution_count": 2,
     "metadata": {},
     "output_type": "execute_result"
    }
   ],
   "source": [
    "a = np.array([randint(low = 0, high = 10000, size = 4) for i in range(1000)])\n",
    "# a = np.concatenate([a, np.array([np.arange(2)] * 10)], axis = 0)\n",
    "a.shape"
   ]
  },
  {
   "cell_type": "markdown",
   "id": "b285c22e-cca1-4680-8f8c-1eaa7ba5d02d",
   "metadata": {},
   "source": [
    "## Clustering"
   ]
  },
  {
   "cell_type": "code",
   "execution_count": 3,
   "id": "7accc949-7aec-4cc3-b9ae-9cebd22b8810",
   "metadata": {},
   "outputs": [],
   "source": [
    "from sklearn.cluster import KMeans\n",
    "from scipy.spatial.distance import cdist\n",
    "from scipy.optimize import linear_sum_assignment\n",
    "import numpy as np\n",
    "from faiss import Kmeans\n",
    "\n",
    "def get_even_clusters(X, cluster_size):\n",
    "    n_clusters = int(np.ceil(len(X)/cluster_size))\n",
    "    kmeans = Kmeans(d = X.shape[1], k = n_clusters)\n",
    "    \n",
    "    start = time.time()\n",
    "    kmeans.train(X)\n",
    "    print(time.time() - start)\n",
    "    \n",
    "    centers = kmeans.centroids\n",
    "    centers = centers.reshape(-1, 1, X.shape[-1]).repeat(cluster_size, 1).reshape(-1, X.shape[-1])\n",
    "    \n",
    "    start = time.time()\n",
    "    distance_matrix = cdist(X, centers)\n",
    "    print(time.time() - start)\n",
    "    \n",
    "    start = time.time()\n",
    "    clusters = linear_sum_assignment(distance_matrix)[1]//cluster_size\n",
    "    print(time.time() - start)\n",
    "    \n",
    "    return centers"
   ]
  },
  {
   "cell_type": "code",
   "execution_count": 5,
   "id": "07626765-3bb0-4ecf-9210-bf8302d66431",
   "metadata": {},
   "outputs": [
    {
     "name": "stdout",
     "output_type": "stream",
     "text": [
      "5.873585939407349\n",
      "0.007401227951049805\n",
      "0.10688900947570801\n"
     ]
    }
   ],
   "source": [
    "X = a.astype(np.float32)\n",
    "cluster_size = 100\n",
    "\n",
    "import time\n",
    "import ipdb\n",
    "\n",
    "res = get_even_clusters(X, cluster_size)\n"
   ]
  },
  {
   "cell_type": "code",
   "execution_count": null,
   "id": "01bc393c-3559-44f5-b46d-408d46831122",
   "metadata": {},
   "outputs": [],
   "source": [
    "Counter(res)"
   ]
  },
  {
   "cell_type": "code",
   "execution_count": null,
   "id": "cdcd213c-737b-4430-8153-2253ec62cd26",
   "metadata": {},
   "outputs": [],
   "source": [
    "X = a.astype(np.float32)\n",
    "kmeans = KMeans(n_clusters)\n",
    "\n",
    "kmeans.fit(X)"
   ]
  },
  {
   "cell_type": "code",
   "execution_count": null,
   "id": "64b0b5fa-d739-4bcd-ae1b-29b07373ad53",
   "metadata": {},
   "outputs": [],
   "source": [
    "centers = kmeans.cluster_centers_"
   ]
  },
  {
   "cell_type": "code",
   "execution_count": null,
   "id": "0c0ad6fb-6a67-49c7-856e-b11339c3544d",
   "metadata": {},
   "outputs": [],
   "source": [
    "centers = centers.reshape(-1, 1, X.shape[-1]).repeat(cluster_size, 1).reshape(-1, X.shape[-1])\n",
    "distance_matrix = cdist(X, centers)"
   ]
  },
  {
   "cell_type": "code",
   "execution_count": null,
   "id": "8794e534-f092-4656-8359-b0121a2817d0",
   "metadata": {},
   "outputs": [],
   "source": [
    "clusters = linear_sum_assignment(distance_matrix)[1]//cluster_size"
   ]
  },
  {
   "cell_type": "code",
   "execution_count": null,
   "id": "4d3ec3ac-12b7-4af3-a154-86d9ba6b910d",
   "metadata": {},
   "outputs": [],
   "source": []
  },
  {
   "cell_type": "code",
   "execution_count": null,
   "id": "176a26be-50be-4396-b98a-2f27e71c27ba",
   "metadata": {},
   "outputs": [],
   "source": [
    "from faiss import Kmeans"
   ]
  },
  {
   "cell_type": "code",
   "execution_count": null,
   "id": "8b42e824-931f-4a9e-b44b-a9b1386c9b6d",
   "metadata": {},
   "outputs": [],
   "source": [
    "n_init = 10\n",
    "max_iter = 300\n",
    "# kmeans = faiss.Kmeans(d = X.shape[1], k = n_clusters, niter = max_iter, nredo = n_init)\n",
    "kmeans = Kmeans(d = X.shape[1], k = 100)\n",
    "kmeans.train(X.astype(np.float32))"
   ]
  },
  {
   "cell_type": "code",
   "execution_count": null,
   "id": "6b25499f-2f1b-4fce-a10c-c819bc2bd4e7",
   "metadata": {},
   "outputs": [],
   "source": [
    "res = kmeans.assign(X.astype(np.float32))"
   ]
  },
  {
   "cell_type": "code",
   "execution_count": null,
   "id": "fb94a656-fc39-4238-a3dd-c0071c3afb01",
   "metadata": {},
   "outputs": [],
   "source": [
    "kmeans.centroids"
   ]
  },
  {
   "cell_type": "code",
   "execution_count": null,
   "id": "0b43fb83-5411-461c-bf79-3cc44b6975ba",
   "metadata": {},
   "outputs": [],
   "source": [
    "from collections import Counter\n",
    "Counter(res[1])"
   ]
  },
  {
   "cell_type": "markdown",
   "id": "90d99e24-58cd-4b11-93fd-0ff3a4e03b15",
   "metadata": {},
   "source": [
    "## kNN"
   ]
  },
  {
   "cell_type": "code",
   "execution_count": null,
   "id": "6e754f36-7f89-4d1f-baee-327701086aa8",
   "metadata": {},
   "outputs": [],
   "source": [
    "kd = KDTree(data_pts = a)"
   ]
  },
  {
   "cell_type": "code",
   "execution_count": null,
   "id": "b99d4faa-2dbb-48e2-b267-03c810a1b488",
   "metadata": {},
   "outputs": [],
   "source": [
    "start = time.time()\n",
    "dist, idx = kd.query(a, k = 2000)\n",
    "print(time.time() - start)"
   ]
  },
  {
   "cell_type": "code",
   "execution_count": null,
   "id": "cf58216f-97ee-472d-9628-806df2e1d4e5",
   "metadata": {},
   "outputs": [],
   "source": [
    "idx"
   ]
  },
  {
   "cell_type": "code",
   "execution_count": null,
   "id": "b8535378-301a-46e6-89a3-096e0dde1079",
   "metadata": {},
   "outputs": [],
   "source": [
    "nn = NearestNeighbors(algorithm = 'kd_tree')"
   ]
  },
  {
   "cell_type": "code",
   "execution_count": null,
   "id": "12731a1a-a9e8-438c-8859-e7a63e6c6e40",
   "metadata": {},
   "outputs": [],
   "source": [
    "nn.fit(a)"
   ]
  },
  {
   "cell_type": "code",
   "execution_count": null,
   "id": "257d8dfb-4ce0-4ae8-95bf-2a2e924b3b80",
   "metadata": {},
   "outputs": [],
   "source": [
    "start = time.time()\n",
    "idx2 = nn.kneighbors(a, n_neighbors = 10000, return_distance = False)\n",
    "print(time.time() - start)"
   ]
  },
  {
   "cell_type": "code",
   "execution_count": null,
   "id": "50373e18-2e2f-4a10-b10a-7b253b8937da",
   "metadata": {},
   "outputs": [],
   "source": [
    "np.array_equal(idx, idx2)"
   ]
  },
  {
   "cell_type": "code",
   "execution_count": null,
   "id": "9f8258e4-28b3-4154-a90d-052fb230cd99",
   "metadata": {},
   "outputs": [],
   "source": [
    "def bad_append(new_item, a_list=[]):\n",
    "    a_list.append(new_item)\n",
    "    return a_list"
   ]
  },
  {
   "cell_type": "code",
   "execution_count": null,
   "id": "0783b292-6624-42e2-bbe6-3b5480e12fdc",
   "metadata": {},
   "outputs": [],
   "source": [
    "bad_append('one', a_list = [1, 2])\n",
    "print(bad_append('one', a_list = [1, 2]))"
   ]
  },
  {
   "cell_type": "code",
   "execution_count": null,
   "id": "756b6b05-54d1-4877-9ccf-5ab56957fac3",
   "metadata": {},
   "outputs": [],
   "source": [
    "def good_append(new_item, a_list=None):\n",
    "    if a_list is None:\n",
    "        a_list = []\n",
    "    a_list.append(new_item)\n",
    "    return a_list"
   ]
  },
  {
   "cell_type": "code",
   "execution_count": null,
   "id": "85604191-b1a2-4eb5-a3cf-15f04284afa1",
   "metadata": {},
   "outputs": [],
   "source": [
    "print(good_append('one'))"
   ]
  },
  {
   "cell_type": "code",
   "execution_count": null,
   "id": "610c05e0-4e92-4cb8-ace5-d31a709ee9f1",
   "metadata": {},
   "outputs": [],
   "source": [
    "import numpy as np\n",
    "import pandas as pd\n",
    "import os\n",
    "from random import sample\n",
    "\n",
    "from lightgbm import LGBMRegressor\n",
    "from dddex.levelSetKDEx import LevelSetKDEx, binSizeCV\n",
    "from dddex.utils import groupedTimeSeriesSplit"
   ]
  },
  {
   "cell_type": "code",
   "execution_count": null,
   "id": "a80ac390-594e-4363-b6b9-f9af98071d6c",
   "metadata": {},
   "outputs": [],
   "source": [
    "path = ('/home/kagu/yaz_trainingData/dataYaz.csv')\n",
    "data = pd.read_csv(path)"
   ]
  },
  {
   "cell_type": "code",
   "execution_count": null,
   "id": "bd813a00-3f38-42ee-9571-c0301360be76",
   "metadata": {},
   "outputs": [],
   "source": [
    "dataTrain = data[data['label'] == 'train'].reset_index(drop = True)\n",
    "dataTest = data[data['label'] == 'test']\n",
    "\n",
    "XTrain = dataTrain.drop(['dayIndex', 'label', 'id', 'demand'], axis = 1)\n",
    "XTest = dataTest.drop(['dayIndex', 'label', 'id', 'demand'], axis = 1)\n",
    "\n",
    "yTrain = dataTrain['demand']\n",
    "yTest = dataTest['demand']"
   ]
  },
  {
   "cell_type": "code",
   "execution_count": null,
   "id": "e65b8e43-27c8-4dcd-be22-01cfbd1e345a",
   "metadata": {},
   "outputs": [],
   "source": [
    "LGBM = LGBMRegressor(n_jobs = 1)\n",
    "LGBM.fit(X = XTrain, y = yTrain)"
   ]
  },
  {
   "cell_type": "code",
   "execution_count": null,
   "id": "4ba0f721-d324-4fbb-a1e4-fc21a5c5ac4d",
   "metadata": {},
   "outputs": [],
   "source": [
    "cvFolds = groupedTimeSeriesSplit(data = dataTrain, kFolds = 2, testLength = 28, groupFeature = 'id', timeFeature = 'dayIndex')"
   ]
  },
  {
   "cell_type": "code",
   "execution_count": null,
   "id": "f3c30d83-31fb-426a-b12f-4b8c237f668c",
   "metadata": {},
   "outputs": [],
   "source": [
    "res = binSizeCV(estimator = LGBM,\n",
    "                binSizeGrid = [100, 200],\n",
    "                cv = cvFolds,\n",
    "                LSF_type = 'LSF')"
   ]
  },
  {
   "cell_type": "code",
   "execution_count": null,
   "id": "7d1e8425-7954-4c05-bf16-1823207baf8a",
   "metadata": {},
   "outputs": [],
   "source": [
    "res.fit(X = XTrain, y = yTrain)"
   ]
  },
  {
   "cell_type": "markdown",
   "id": "d3be97da-1159-4fc2-8c78-1f2dc9f890e6",
   "metadata": {},
   "source": [
    "# Cross Validation - Timing"
   ]
  },
  {
   "cell_type": "code",
   "execution_count": 1,
   "id": "97e440b1-fe5b-40b2-a5ac-2d25627eda2f",
   "metadata": {},
   "outputs": [],
   "source": [
    "import numpy as np\n",
    "import pandas as pd\n",
    "\n",
    "from dddex.crossValidation import *\n",
    "from dddex.levelSetKDEx_univariate import *\n",
    "from dddex.loadData import loadDataYaz\n",
    "\n",
    "from lightgbm import LGBMRegressor\n",
    "from sklearn.model_selection import GridSearchCV\n",
    "\n",
    "import time"
   ]
  },
  {
   "cell_type": "code",
   "execution_count": 2,
   "id": "3f579035-22b0-4156-8ffd-a0abe8c6fb86",
   "metadata": {},
   "outputs": [],
   "source": [
    "data, XTrain, yTrain, XTest, yTest = loadDataYaz()"
   ]
  },
  {
   "cell_type": "code",
   "execution_count": 3,
   "id": "0f0a3112-3aed-4cf4-aac4-aa62e1fe2d94",
   "metadata": {},
   "outputs": [],
   "source": [
    "LGBM = LGBMRegressor(n_jobs = 1)\n",
    "LSKDEx = LevelSetKDEx(estimator = LGBM)"
   ]
  },
  {
   "cell_type": "code",
   "execution_count": 4,
   "id": "4f3a58fc-73d6-4301-a876-8732e218db56",
   "metadata": {},
   "outputs": [],
   "source": [
    "paramGridLSx = {'binSize': [20, 50, 100, 150, 200, 250, 400, 600, 800, 1000],\n",
    "                'weightsByDistance': [False, True]}\n",
    "\n",
    "paramGridEstimator = {'max_depth': [4],\n",
    "                      'n_estimators': [100]}"
   ]
  },
  {
   "cell_type": "code",
   "execution_count": 5,
   "id": "e7bf39d8-311c-42d8-a0f2-4af6d4eeb6a7",
   "metadata": {},
   "outputs": [],
   "source": [
    "dataTrain = data[data.label == 'train']\n",
    "\n",
    "cvFolds = groupedTimeSeriesSplit(data = dataTrain, \n",
    "                                 kFolds = 5, \n",
    "                                 testLength = 28, \n",
    "                                 groupFeature = 'id', \n",
    "                                 timeFeature = 'dayIndex')"
   ]
  },
  {
   "cell_type": "code",
   "execution_count": 7,
   "id": "52595584-9884-4329-9367-f306c80bfddb",
   "metadata": {},
   "outputs": [
    {
     "name": "stdout",
     "output_type": "stream",
     "text": [
      "3.61 s ± 337 ms per loop (mean ± std. dev. of 7 runs, 1 loop each)\n"
     ]
    }
   ],
   "source": [
    "%%timeit \n",
    "\n",
    "CV = CrossValidationLSx_combined(estimatorLSx = LSKDEx,\n",
    "                                 cvFolds = cvFolds,\n",
    "                                 parameterGridLSx = paramGridLSx,\n",
    "                                 parameterGridEstimator = paramGridEstimator,\n",
    "                                 probs = np.arange(0.01, 0.99, 0.01),\n",
    "                                 refitPerProb = False,\n",
    "                                 n_jobs = len(cvFolds))\n",
    "\n",
    "CV.fit(XTrain, yTrain)"
   ]
  },
  {
   "cell_type": "code",
   "execution_count": 8,
   "id": "8fdbd450-fc88-4cae-b185-ba414821f8cb",
   "metadata": {},
   "outputs": [
    {
     "name": "stdout",
     "output_type": "stream",
     "text": [
      "0.3275916576385498\n"
     ]
    }
   ],
   "source": [
    "start = time.time()\n",
    "\n",
    "CV = GridSearchCV(estimator = LGBM,\n",
    "                  cv = cvFolds,\n",
    "                  param_grid = paramGridEstimator,\n",
    "                  scoring = 'neg_mean_squared_error',\n",
    "                  refit = False,\n",
    "                  n_jobs = len(cvFolds),\n",
    "                  return_train_score = True,\n",
    "                  verbose = 0)\n",
    "\n",
    "CV.fit(XTrain, yTrain)\n",
    "\n",
    "print(time.time() - start)"
   ]
  },
  {
   "cell_type": "code",
   "execution_count": 11,
   "id": "67751b0f-2d06-49d8-ad54-c504c36744e2",
   "metadata": {},
   "outputs": [
    {
     "name": "stdout",
     "output_type": "stream",
     "text": [
      "4.17 s ± 71.7 ms per loop (mean ± std. dev. of 7 runs, 1 loop each)\n"
     ]
    }
   ],
   "source": [
    "%%timeit\n",
    "\n",
    "CV = QuantileCrossValidation(quantileEstimator = LSKDEx,\n",
    "                             cvFolds = cvFolds,\n",
    "                             parameterGrid = paramGridLSx,\n",
    "                             probs = np.arange(0.01, 0.99, 0.01),\n",
    "                             refitPerProb = False,\n",
    "                             n_jobs = len(cvFolds))\n",
    "\n",
    "CV.fit(XTrain, yTrain)"
   ]
  },
  {
   "cell_type": "code",
   "execution_count": 6,
   "id": "969eb52e-5691-4062-82f6-c91ad5217fc3",
   "metadata": {},
   "outputs": [
    {
     "name": "stdout",
     "output_type": "stream",
     "text": [
      "5.22 s ± 54.2 ms per loop (mean ± std. dev. of 7 runs, 1 loop each)\n"
     ]
    }
   ],
   "source": [
    "%%timeit\n",
    "\n",
    "CV = DensityCrossValidation(estimator = LSKDEx,\n",
    "                            cvFolds = cvFolds,\n",
    "                            parameterGrid = paramGridLSx,\n",
    "                            p = 1,\n",
    "                            n_jobs = len(cvFolds))\n",
    "\n",
    "CV.fit(XTrain, yTrain)"
   ]
  },
  {
   "cell_type": "markdown",
   "id": "08b02920-22cd-45d2-8113-af7b609f2ebe",
   "metadata": {},
   "source": [
    "# Kernel Matrix Inversion"
   ]
  },
  {
   "cell_type": "code",
   "execution_count": 1,
   "id": "c34d9432-77f6-468d-949e-f2164d7a4397",
   "metadata": {},
   "outputs": [],
   "source": [
    "import numpy as np\n",
    "import pandas as pd\n",
    "\n",
    "from dddex.crossValidation import *\n",
    "from dddex.levelSetKDEx_univariate import *\n",
    "from dddex.loadData import loadDataYaz\n",
    "\n",
    "from lightgbm import LGBMRegressor\n",
    "from sklearn.model_selection import GridSearchCV\n",
    "\n",
    "import time\n",
    "import ipdb"
   ]
  },
  {
   "cell_type": "code",
   "execution_count": 42,
   "id": "e1ac8939-40bb-406f-b606-454882a300a4",
   "metadata": {},
   "outputs": [],
   "source": [
    "data, XTrain, yTrain, XTest, yTest = loadDataYaz()"
   ]
  },
  {
   "cell_type": "code",
   "execution_count": 281,
   "id": "ea61e734-4e63-492a-b602-6be60d5b5ff4",
   "metadata": {},
   "outputs": [],
   "source": [
    "LGBM = LGBMRegressor(n_jobs = 1)\n",
    "LGBM.fit(XTrain, yTrain)\n",
    "\n",
    "LSKDEx = LevelSetKDEx(estimator = LGBM, \n",
    "                      binSize = 100)\n",
    "LSKDEx.fit(XTrain, yTrain)"
   ]
  },
  {
   "cell_type": "code",
   "execution_count": 236,
   "id": "2bf9e2ae-d2af-4d57-a491-5d39763c601a",
   "metadata": {},
   "outputs": [],
   "source": [
    "yPred = LGBM.predict(XTrain)[0:10]\n",
    "binPerPred = np.searchsorted(a = LSKDEx.lowerBoundPerBin, v = yPred, side = 'right') - 1"
   ]
  },
  {
   "cell_type": "code",
   "execution_count": 237,
   "id": "ee192616-5719-4d73-a79e-336cb9c4119a",
   "metadata": {},
   "outputs": [],
   "source": [
    "binVectors = [(binPerPred == i).reshape(-1, 1) * 1 for i in range(len(LSKDEx.lowerBoundPerBin))]\n",
    "binVectorsToSlice = [np.where(binVector)[0] for binVector in binVectors]"
   ]
  },
  {
   "cell_type": "code",
   "execution_count": 238,
   "id": "4f28a7b0-166b-49f4-9c18-7827f11aebaa",
   "metadata": {},
   "outputs": [],
   "source": [
    "sigma = 0.5\n",
    "sigmaI = np.identity(yPred.shape[0]) * sigma"
   ]
  },
  {
   "cell_type": "code",
   "execution_count": 239,
   "id": "7a9170e7-67dc-4e38-9a69-f57135c77740",
   "metadata": {},
   "outputs": [],
   "source": [
    "kernelMatrixList = [np.matmul(binVector, binVector.T) for binVector in binVectors]"
   ]
  },
  {
   "cell_type": "code",
   "execution_count": 240,
   "id": "d349e3dc-2acb-45f3-b6c9-69c8faa657de",
   "metadata": {},
   "outputs": [],
   "source": [
    "kernelMatrix = kernelMatrixList[0] + sigmaI"
   ]
  },
  {
   "cell_type": "code",
   "execution_count": 241,
   "id": "ac2b32e8-487c-45e4-a16a-10965b1e23a0",
   "metadata": {},
   "outputs": [],
   "source": [
    "sigmaInverse = np.identity(yPred.shape[0]) * sigma**(-1)\n",
    "\n",
    "comp = np.sum(sigmaInverse[:, binVectorsToSlice[0]], axis = 1).reshape(-1, 1)\n",
    "\n",
    "correctionMatrix = np.matmul(comp, comp.T)\n",
    "denominator = 1 + np.sum(comp[binVectorsToSlice[0]])\n",
    "correctionMatrix = correctionMatrix / denominator\n",
    "\n",
    "kernelInvers = sigmaInverse - correctionMatrix"
   ]
  },
  {
   "cell_type": "code",
   "execution_count": 242,
   "id": "46cb6100-8573-4678-bbf7-2f038a0d2626",
   "metadata": {},
   "outputs": [],
   "source": [
    "identity = np.matmul(kernelMatrix, kernelInvers)"
   ]
  },
  {
   "cell_type": "code",
   "execution_count": 243,
   "id": "4a0c247b-79e2-45ec-8d14-7f1a16410021",
   "metadata": {},
   "outputs": [
    {
     "data": {
      "text/plain": [
       "True"
      ]
     },
     "execution_count": 243,
     "metadata": {},
     "output_type": "execute_result"
    }
   ],
   "source": [
    "np.allclose(np.identity(yPred.shape[0]), identity)"
   ]
  },
  {
   "cell_type": "markdown",
   "id": "ad434a25-53a0-42b4-b18e-0e81750d209a",
   "metadata": {},
   "source": [
    "## GLS Approach"
   ]
  },
  {
   "cell_type": "code",
   "execution_count": 3,
   "id": "40d1bb76-4a10-4e09-852b-4043dd7e2d97",
   "metadata": {},
   "outputs": [],
   "source": [
    "data, XTrain, yTrain, XTest, yTest = loadDataYaz()"
   ]
  },
  {
   "cell_type": "code",
   "execution_count": 4,
   "id": "c5f3cc7c-4e3e-4cb7-b838-f99ced775944",
   "metadata": {},
   "outputs": [],
   "source": [
    "n = 30\n",
    "\n",
    "XTrainDup = np.concatenate([XTrain] * n, axis = 0)\n",
    "yTrainDup = np.concatenate([yTrain] * n, axis = 0)\n",
    "\n",
    "LGBM = LGBMRegressor(n_jobs = 1)\n",
    "LGBM.fit(XTrain, yTrain)\n",
    "\n",
    "LSKDEx = LevelSetKDEx(estimator = LGBM, \n",
    "                      binSize = 100 * n)\n",
    "LSKDEx.fit(XTrainDup, yTrainDup)"
   ]
  },
  {
   "cell_type": "code",
   "execution_count": 5,
   "id": "0a3d87ef-d60f-40dc-b0b9-86e74e640d2d",
   "metadata": {},
   "outputs": [],
   "source": [
    "yPred = LGBM.predict(XTrainDup)\n",
    "binPerPred = np.searchsorted(a = LSKDEx.lowerBoundPerBin, v = yPred, side = 'right') - 1\n",
    "\n",
    "binVectors = [(binPerPred == i).reshape(-1, 1) * 1 for i in range(len(LSKDEx.lowerBoundPerBin))]\n",
    "binVectorsToSlice = [np.where(binVector)[0] for binVector in binVectors]"
   ]
  },
  {
   "cell_type": "code",
   "execution_count": 23,
   "id": "4652f05f-d9b8-47c3-9a91-4903c10af0ea",
   "metadata": {},
   "outputs": [],
   "source": [
    "c = np.array([np.arange(binVectors[0].shape[0])] * 10000).T\n",
    "sigma = 0.5"
   ]
  },
  {
   "cell_type": "code",
   "execution_count": 24,
   "id": "f6ae3387-bba9-4e9b-ab62-70b551af3eeb",
   "metadata": {},
   "outputs": [],
   "source": [
    "def getNewSolution(u, x, y):\n",
    "    \n",
    "    if len(u.shape) == 1:\n",
    "        u.reshape(-1, 1)\n",
    "        \n",
    "    uSlice = np.where(u == 1)[0]\n",
    "    \n",
    "    ux = np.sum(x[uSlice, :], axis = 0, keepdims = True)\n",
    "    xNew = x - np.matmul(y, ux) / (1 + np.sum(y[uSlice]))\n",
    "    \n",
    "    return xNew"
   ]
  },
  {
   "cell_type": "code",
   "execution_count": 25,
   "id": "189aa377-09af-48bc-a25e-54d282fcbd20",
   "metadata": {},
   "outputs": [],
   "source": [
    "def solveGLS_initial(sigma, u, c):\n",
    "    \n",
    "    if len(u.shape) == 1:\n",
    "        u = u.reshape(-1, 1)\n",
    "        \n",
    "    if len(c.shape) == 1:\n",
    "        c = c.reshape(-1, 1)\n",
    "    \n",
    "    x = c * sigma**(-1)\n",
    "    y = u * sigma**(-1)\n",
    "    \n",
    "    return getNewSolution(u = u, x = x, y = y)"
   ]
  },
  {
   "cell_type": "code",
   "execution_count": 26,
   "id": "6148c878-ce9c-409f-a30a-7f06f0881c5c",
   "metadata": {},
   "outputs": [
    {
     "name": "stdout",
     "output_type": "stream",
     "text": [
      "132.29863858222961\n"
     ]
    }
   ],
   "source": [
    "start = time.time()\n",
    "\n",
    "# CALCULATING ALL NECESSARY y's\n",
    "\n",
    "yDict = dict()\n",
    "\n",
    "# Loop for A_k^-1 y = u_k\n",
    "for k in range(len(binVectors)):\n",
    "        \n",
    "    # Loop for A_j^-1 y = u_k\n",
    "    for j in range(k):\n",
    "\n",
    "        if j == 0:\n",
    "            yDict[(0, k)] = solveGLS_initial(sigma = sigma, u = binVectors[0], c = binVectors[k])\n",
    "\n",
    "        else:\n",
    "            yDict[j, k] = getNewSolution(u = binVectors[j], x = yDict[(j - 1, k)], y = yDict[(j - 1, j)])   \n",
    "    \n",
    "    #---\n",
    "    \n",
    "    if k == 0:\n",
    "        x = solveGLS_initial(sigma = sigma, u = binVectors[0], c = c)\n",
    "    else:\n",
    "        x = getNewSolution(u = binVectors[k], x = x, y = yDict[(k - 1, k)])\n",
    "        \n",
    "print(time.time() - start)"
   ]
  },
  {
   "cell_type": "code",
   "execution_count": null,
   "id": "97802e2d-03d2-43c6-845c-a80d636c0115",
   "metadata": {},
   "outputs": [],
   "source": [
    "# A0 = np.identity(yPred.shape[0]) * sigma\n",
    "\n",
    "# kernelMatrixList = [np.matmul(binVector, binVector.T) for binVector in binVectors]\n",
    "# kernelMatrix = A0 + sum(kernelMatrixList)\n",
    "\n",
    "# res = np.matmul(kernelMatrix, x)"
   ]
  },
  {
   "cell_type": "code",
   "execution_count": null,
   "id": "152f83b5-323f-499e-967e-8aa39f7c3e14",
   "metadata": {},
   "outputs": [],
   "source": []
  },
  {
   "cell_type": "code",
   "execution_count": 376,
   "id": "926e4733-647b-4e85-9498-bf2473cda9ba",
   "metadata": {},
   "outputs": [],
   "source": [
    "def solveGLS_initial2(sigma, u, c):\n",
    "    \n",
    "    if len(u.shape) == 1:\n",
    "        u = u.reshape(-1, 1)\n",
    "        \n",
    "    if len(c.shape) == 1:\n",
    "        c = c.reshape(-1, 1)\n",
    "    \n",
    "    #---\n",
    "    \n",
    "    uSlice = np.where(u == 1)[0]\n",
    "    \n",
    "    x = c * sigma**(-1)\n",
    "    y = u * sigma**(-1)\n",
    "    \n",
    "    ux = np.sum(x[uSlice, :], axis = 0, keepdims = True)\n",
    "    xNew = x - np.matmul(y, ux) / (1 + np.sum(y[uSlice]))\n",
    "    \n",
    "    return xNew"
   ]
  },
  {
   "cell_type": "code",
   "execution_count": 230,
   "id": "13222df2-36ad-4f5e-83dd-0bef3c0f927e",
   "metadata": {},
   "outputs": [
    {
     "data": {
      "text/plain": [
       "array([[1., 1.],\n",
       "       [2., 2.],\n",
       "       [3., 3.]])"
      ]
     },
     "execution_count": 230,
     "metadata": {},
     "output_type": "execute_result"
    }
   ],
   "source": [
    "# MULTI-DIMENSIONAL\n",
    "\n",
    "u = np.array([1, 0, 1]).reshape(-1, 1)\n",
    "c = np.array([[1, 1],\n",
    "              [2, 2],\n",
    "              [3, 3]])\n",
    "sigma = 0.5\n",
    "\n",
    "x = solveGLS_initial(sigma = sigma, u = u, c = c)\n",
    "\n",
    "np.matmul(np.identity(u.shape[0]) * sigma + np.matmul(u, u.T), x)"
   ]
  },
  {
   "cell_type": "code",
   "execution_count": 231,
   "id": "6bc851ee-be47-4c72-8bbc-1afaf8ba5bcc",
   "metadata": {},
   "outputs": [
    {
     "data": {
      "text/plain": [
       "array([[1.],\n",
       "       [2.],\n",
       "       [3.]])"
      ]
     },
     "execution_count": 231,
     "metadata": {},
     "output_type": "execute_result"
    }
   ],
   "source": [
    "# ONE-DIMENSIONAL\n",
    "\n",
    "u = np.array([1, 0, 1]).reshape(-1, 1)\n",
    "c = np.array([1, 2, 3]).reshape(-1, 1)\n",
    "sigma = 0.5\n",
    "\n",
    "x = solveGLS_initial(sigma = sigma, u = u, c = c)\n",
    "\n",
    "np.matmul(np.identity(u.shape[0]) * sigma + np.matmul(u, u.T), x)"
   ]
  },
  {
   "cell_type": "code",
   "execution_count": 258,
   "id": "ac96b3af-8fd9-42bb-ab7d-87fbc1c20202",
   "metadata": {},
   "outputs": [],
   "source": [
    "sigma = 0.5\n",
    "c = np.arange(10).reshape(-1, 1)\n",
    "u = binVectors[0]\n",
    "\n",
    "x = solveGLS_initial(sigma = sigma, u = binVectors[0], c = c)\n",
    "y = solveGLS_initial(sigma = sigma, u = binVectors[0], c = binVectors[1])\n",
    "\n",
    "    \n",
    "u = binVectors[1]\n",
    "\n",
    "if len(u.shape) == 1:\n",
    "    u = u.reshape(-1, 1)\n",
    "\n",
    "#---\n",
    "\n",
    "uSlice = np.where(u == 1)[0]\n",
    "\n",
    "\n",
    "    \n",
    "    "
   ]
  },
  {
   "cell_type": "code",
   "execution_count": 259,
   "id": "aba3f4cd-20a9-4bff-b256-ca5a2a6b4a09",
   "metadata": {},
   "outputs": [
    {
     "data": {
      "text/plain": [
       "array([[-7.10542736e-15],\n",
       "       [ 1.00000000e+00],\n",
       "       [ 2.00000000e+00],\n",
       "       [ 3.00000000e+00],\n",
       "       [ 4.00000000e+00],\n",
       "       [ 5.00000000e+00],\n",
       "       [ 6.00000000e+00],\n",
       "       [ 7.00000000e+00],\n",
       "       [ 8.00000000e+00],\n",
       "       [ 9.00000000e+00]])"
      ]
     },
     "execution_count": 259,
     "metadata": {},
     "output_type": "execute_result"
    }
   ],
   "source": [
    "u0 = binVectors[0]\n",
    "u1 = binVectors[1]\n",
    "\n",
    "np.matmul(np.identity(u0.shape[0]) * sigma + np.matmul(u0, u0.T) + np.matmul(u1, u1.T), xNew)"
   ]
  },
  {
   "cell_type": "code",
   "execution_count": null,
   "id": "3a43660d-7922-48ca-8d1e-1c76c1816756",
   "metadata": {},
   "outputs": [],
   "source": [
    "# def solveGLS(sigma, binVectors, c):\n",
    "    \n",
    "#     for k in np.flip(np.arange(len(binVectors))):\n",
    "        \n",
    "#         if k > 0:\n",
    "#             x0 = solveGLS(sigma = sigma, binVectors = binVectors[0:k], c = c)\n",
    "        \n",
    "#         else:    "
   ]
  },
  {
   "cell_type": "markdown",
   "id": "0a33e1f2-c492-401d-9141-04a7e2debf5f",
   "metadata": {},
   "source": [
    "## Matrix Approach"
   ]
  },
  {
   "cell_type": "code",
   "execution_count": 325,
   "id": "3123b324-9165-4ca9-9ffa-902e1346563f",
   "metadata": {},
   "outputs": [],
   "source": [
    "n = 4\n",
    "\n",
    "XTrainDup = np.concatenate([XTrain] * n, axis = 0)\n",
    "yTrainDup = np.concatenate([yTrain] * n, axis = 0)\n",
    "\n",
    "LGBM = LGBMRegressor(n_jobs = 1)\n",
    "LGBM.fit(XTrain, yTrain)\n",
    "\n",
    "LSKDEx = LevelSetKDEx(estimator = LGBM, \n",
    "                      binSize = 100 * n)\n",
    "LSKDEx.fit(XTrainDup, yTrainDup)"
   ]
  },
  {
   "cell_type": "code",
   "execution_count": 326,
   "id": "024f1860-2279-4e91-b751-0f483117fffe",
   "metadata": {},
   "outputs": [],
   "source": [
    "yPred = LGBM.predict(XTrainDup)\n",
    "binPerPred = np.searchsorted(a = LSKDEx.lowerBoundPerBin, v = yPred, side = 'right') - 1\n",
    "\n",
    "binVectors = [(binPerPred == i).reshape(-1, 1) * 1 for i in range(len(LSKDEx.lowerBoundPerBin))]\n",
    "binVectorsToSlice = [np.where(binVector)[0] for binVector in binVectors]\n",
    "\n",
    "sigma = 0.5\n",
    "A0 = np.identity(yPred.shape[0]) * sigma"
   ]
  },
  {
   "cell_type": "code",
   "execution_count": 327,
   "id": "f454e3d4-319c-4be3-a31d-c03dcc7ca999",
   "metadata": {},
   "outputs": [],
   "source": [
    "B0 = np.identity(yPred.shape[0]) * sigma**(-1)\n",
    "\n",
    "comp = np.sum(B0[:, binVectorsToSlice[0]], axis = 1).reshape(-1, 1)\n",
    "\n",
    "correctionMatrix = np.matmul(comp, comp.T)\n",
    "denominator = 1 + np.sum(comp[binVectorsToSlice[0]])\n",
    "correctionMatrix = correctionMatrix / denominator\n",
    "\n",
    "B = B0 - correctionMatrix"
   ]
  },
  {
   "cell_type": "code",
   "execution_count": 328,
   "id": "6c8cd62b-e96f-42a0-82c0-409444143768",
   "metadata": {},
   "outputs": [
    {
     "name": "stdout",
     "output_type": "stream",
     "text": [
      "31.28031325340271\n"
     ]
    }
   ],
   "source": [
    "start = time.time()\n",
    "\n",
    "for i in range(len(binVectors))[1:]:\n",
    "\n",
    "    comp = np.sum(B[:, binVectorsToSlice[i]], axis = 1).reshape(-1, 1)\n",
    "\n",
    "    correctionMatrix = np.matmul(comp, comp.T)\n",
    "    denominator = 1 + np.sum(comp[binVectorsToSlice[i]])\n",
    "    correctionMatrix = correctionMatrix / denominator\n",
    "\n",
    "    B = B - correctionMatrix\n",
    "    \n",
    "print(time.time() - start)"
   ]
  },
  {
   "cell_type": "code",
   "execution_count": 309,
   "id": "a14a8147-32a3-4b46-950c-9010555b1330",
   "metadata": {},
   "outputs": [],
   "source": [
    "kernelMatrixList = [np.matmul(binVector, binVector.T) for binVector in binVectors]\n",
    "kernelMatrix = A0 + sum(kernelMatrixList)"
   ]
  },
  {
   "cell_type": "code",
   "execution_count": 310,
   "id": "12980e82-1fcb-44e7-9e18-0a95264451fe",
   "metadata": {},
   "outputs": [],
   "source": [
    "identity = np.matmul(kernelMatrix, B)"
   ]
  },
  {
   "cell_type": "code",
   "execution_count": 311,
   "id": "d8887370-5f4d-433f-9ea6-c43a1e7cc29a",
   "metadata": {},
   "outputs": [
    {
     "data": {
      "text/plain": [
       "True"
      ]
     },
     "execution_count": 311,
     "metadata": {},
     "output_type": "execute_result"
    }
   ],
   "source": [
    "np.allclose(np.identity(yPred.shape[0]), identity)"
   ]
  },
  {
   "cell_type": "code",
   "execution_count": 290,
   "id": "9be5551a-a4de-4ec9-bedb-e428d64f2b7d",
   "metadata": {},
   "outputs": [
    {
     "data": {
      "text/plain": [
       "(10, 10)"
      ]
     },
     "execution_count": 290,
     "metadata": {},
     "output_type": "execute_result"
    }
   ],
   "source": [
    "kernelMatrix.shape"
   ]
  },
  {
   "cell_type": "code",
   "execution_count": null,
   "id": "9b99279d-81c9-49da-9b78-1ab555fc9936",
   "metadata": {},
   "outputs": [],
   "source": []
  },
  {
   "cell_type": "code",
   "execution_count": null,
   "id": "3dab8755-11de-42aa-a2be-04352efe557f",
   "metadata": {},
   "outputs": [],
   "source": []
  },
  {
   "cell_type": "code",
   "execution_count": null,
   "id": "8816054a-9029-4660-91c8-291815a0b6a2",
   "metadata": {},
   "outputs": [],
   "source": []
  },
  {
   "cell_type": "code",
   "execution_count": null,
   "id": "5315c87d-4b39-4fa6-9816-8c3c9daa2419",
   "metadata": {},
   "outputs": [],
   "source": []
  }
 ],
 "metadata": {
  "kernelspec": {
   "display_name": "dddex",
   "language": "python",
   "name": "dddex"
  },
  "language_info": {
   "codemirror_mode": {
    "name": "ipython",
    "version": 3
   },
   "file_extension": ".py",
   "mimetype": "text/x-python",
   "name": "python",
   "nbconvert_exporter": "python",
   "pygments_lexer": "ipython3",
   "version": "3.8.15"
  }
 },
 "nbformat": 4,
 "nbformat_minor": 5
}
