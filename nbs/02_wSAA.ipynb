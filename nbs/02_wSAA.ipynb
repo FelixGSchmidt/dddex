{
 "cells": [
  {
   "cell_type": "code",
   "execution_count": null,
   "id": "6a9df2e7-fdc8-44e7-b16c-d8b15ed01db9",
   "metadata": {},
   "outputs": [],
   "source": [
    "%load_ext autoreload\n",
    "%autoreload 2"
   ]
  },
  {
   "cell_type": "markdown",
   "id": "0dfbaad6-3667-46e6-b25e-efa0822452ae",
   "metadata": {},
   "source": [
    "# wSAA\n",
    "\n",
    "> Module description for wSAA classes"
   ]
  },
  {
   "cell_type": "code",
   "execution_count": null,
   "id": "8c687b2c-941e-4e2a-9855-aa227ccb8490",
   "metadata": {},
   "outputs": [],
   "source": [
    "#| default_exp wSAA"
   ]
  },
  {
   "cell_type": "code",
   "execution_count": null,
   "id": "6a1faac0-5c0d-4c70-80e9-7d959811b1b7",
   "metadata": {},
   "outputs": [],
   "source": [
    "#| hide\n",
    "from nbdev.showdoc import *\n",
    "\n",
    "# from nbdev.qmd import *"
   ]
  },
  {
   "cell_type": "markdown",
   "id": "451e786a-e401-43d8-91e9-97c175eba23a",
   "metadata": {},
   "source": [
    "## Packages"
   ]
  },
  {
   "cell_type": "code",
   "execution_count": null,
   "id": "b86f92e6-67ad-492b-9779-7b9acfc3d3df",
   "metadata": {},
   "outputs": [],
   "source": [
    "#| export\n",
    "from __future__ import annotations\n",
    "from fastcore.docments import *\n",
    "from fastcore.test import *\n",
    "from fastcore.utils import *\n",
    "\n",
    "import pandas as pd\n",
    "import numpy as np\n",
    "from sklearn.ensemble import RandomForestRegressor\n",
    "\n",
    "from dddex.baseWeightsPredictor import BaseWeightsBasedPredictor, restructureWeightsDataList"
   ]
  },
  {
   "cell_type": "markdown",
   "id": "a331bd1d-ceaa-4b36-a42e-aaa2e4062c22",
   "metadata": {},
   "source": [
    "## wSAA - Random Forest"
   ]
  },
  {
   "cell_type": "code",
   "execution_count": null,
   "id": "36b775c4-ca57-4539-a0b8-e282bdf963cf",
   "metadata": {},
   "outputs": [],
   "source": [
    "#|export \n",
    "\n",
    "class RandomForestWSAA(RandomForestRegressor, BaseWeightsBasedPredictor):\n",
    "    \n",
    "    def fit(self, X, Y):\n",
    "\n",
    "        super(RandomForestRegressor, self).fit(X = X, y = Y)\n",
    "        \n",
    "        self.Y = Y\n",
    "        self.leafIndicesTrain = self.apply(X)\n",
    "        "
   ]
  },
  {
   "cell_type": "code",
   "execution_count": null,
   "id": "7db18d0f-bdb7-4f08-a8cf-ac07a49e7d2c",
   "metadata": {},
   "outputs": [
    {
     "data": {
      "text/markdown": [
       "---\n",
       "\n",
       "[source](https://github.com/kaiguender/dddex/blob/main/dddex/wSAA.py#L19){target=\"_blank\" style=\"float:right; font-size:smaller\"}\n",
       "\n",
       "### RandomForestWSAA\n",
       "\n",
       ">      RandomForestWSAA (**kwargs)\n",
       "\n",
       "A random forest regressor.\n",
       "\n",
       "A random forest is a meta estimator that fits a number of classifying\n",
       "decision trees on various sub-samples of the dataset and uses averaging\n",
       "to improve the predictive accuracy and control over-fitting.\n",
       "The sub-sample size is controlled with the `max_samples` parameter if\n",
       "`bootstrap=True` (default), otherwise the whole dataset is used to build\n",
       "each tree.\n",
       "\n",
       "Read more in the :ref:`User Guide <forest>`."
      ],
      "text/plain": [
       "---\n",
       "\n",
       "[source](https://github.com/kaiguender/dddex/blob/main/dddex/wSAA.py#L19){target=\"_blank\" style=\"float:right; font-size:smaller\"}\n",
       "\n",
       "### RandomForestWSAA\n",
       "\n",
       ">      RandomForestWSAA (**kwargs)\n",
       "\n",
       "A random forest regressor.\n",
       "\n",
       "A random forest is a meta estimator that fits a number of classifying\n",
       "decision trees on various sub-samples of the dataset and uses averaging\n",
       "to improve the predictive accuracy and control over-fitting.\n",
       "The sub-sample size is controlled with the `max_samples` parameter if\n",
       "`bootstrap=True` (default), otherwise the whole dataset is used to build\n",
       "each tree.\n",
       "\n",
       "Read more in the :ref:`User Guide <forest>`."
      ]
     },
     "execution_count": null,
     "metadata": {},
     "output_type": "execute_result"
    }
   ],
   "source": [
    "show_doc(RandomForestWSAA)"
   ]
  },
  {
   "cell_type": "code",
   "execution_count": null,
   "id": "2a240e3b-5acc-4f82-8f4d-29391f5692b7",
   "metadata": {},
   "outputs": [
    {
     "data": {
      "text/markdown": [
       "---\n",
       "\n",
       "[source](https://github.com/kaiguender/dddex/blob/main/dddex/wSAA.py#L24){target=\"_blank\" style=\"float:right; font-size:smaller\"}\n",
       "\n",
       "### RandomForestWSAA.fit\n",
       "\n",
       ">      RandomForestWSAA.fit (X, Y)\n",
       "\n",
       "Build a forest of trees from the training set (X, y).\n",
       "\n",
       "|    | **Type** | **Details** |\n",
       "| -- | -------- | ----------- |\n",
       "| X | {array-like, sparse matrix} of shape (n_samples, n_features) | The training input samples. Internally, its dtype will be converted<br>to ``dtype=np.float32``. If a sparse matrix is provided, it will be<br>converted into a sparse ``csc_matrix``. |\n",
       "| Y |  |  |\n",
       "| **Returns** | **object** |  |"
      ],
      "text/plain": [
       "---\n",
       "\n",
       "[source](https://github.com/kaiguender/dddex/blob/main/dddex/wSAA.py#L24){target=\"_blank\" style=\"float:right; font-size:smaller\"}\n",
       "\n",
       "### RandomForestWSAA.fit\n",
       "\n",
       ">      RandomForestWSAA.fit (X, Y)\n",
       "\n",
       "Build a forest of trees from the training set (X, y).\n",
       "\n",
       "|    | **Type** | **Details** |\n",
       "| -- | -------- | ----------- |\n",
       "| X | {array-like, sparse matrix} of shape (n_samples, n_features) | The training input samples. Internally, its dtype will be converted<br>to ``dtype=np.float32``. If a sparse matrix is provided, it will be<br>converted into a sparse ``csc_matrix``. |\n",
       "| Y |  |  |\n",
       "| **Returns** | **object** |  |"
      ]
     },
     "execution_count": null,
     "metadata": {},
     "output_type": "execute_result"
    }
   ],
   "source": [
    "show_doc(RandomForestWSAA.fit)"
   ]
  },
  {
   "cell_type": "code",
   "execution_count": null,
   "id": "4915159d-b5ac-414f-9bd4-202c0e2da08b",
   "metadata": {},
   "outputs": [],
   "source": [
    "#|export\n",
    "\n",
    "@patch\n",
    "def getWeightsData(self: RandomForestWSAA, \n",
    "                   X: np.ndarray, # Feature matrix of samples for which conditional density estimates are computed.\n",
    "                   outputType: 'all' | # Specifies structure of output.\n",
    "                               'onlyPositiveWeights' | \n",
    "                               'summarized' | \n",
    "                               'cumulativeDistribution' | \n",
    "                               'cumulativeDistributionSummarized' = 'onlyPositiveWeights', \n",
    "                   scalingList: list | np.ndarray | None = None, # List or array with same size as self.Y containing floats being multiplied with self.Y.\n",
    "                   ):\n",
    "\n",
    "    leafIndicesDf = self.apply(X)\n",
    "\n",
    "    weightsDataList = list()\n",
    "\n",
    "    for leafIndices in leafIndicesDf:\n",
    "        leafComparisonMatrix = (self.leafIndicesTrain == leafIndices) * 1\n",
    "        nObsInSameLeaf = np.sum(leafComparisonMatrix, axis = 0)\n",
    "\n",
    "        # It can happen that RF decides that the best strategy is to fit no tree at\n",
    "        # all and simply average all results (happens when min_child_sample is too high, for example).\n",
    "        # In this case 'leafComparisonMatrix' mustn't be averaged because there has been only a single tree.\n",
    "        if len(leafComparisonMatrix.shape) == 1:\n",
    "            weights = leafComparisonMatrix / nObsInSameLeaf\n",
    "        else:\n",
    "            weights = np.mean(leafComparisonMatrix / nObsInSameLeaf, axis = 1)\n",
    "\n",
    "        weightsPosIndex = np.where(weights > 0)[0]\n",
    "\n",
    "        weightsDataList.append((weights[weightsPosIndex], weightsPosIndex))\n",
    "\n",
    "    #---\n",
    "\n",
    "    weightsDataList = restructureWeightsDataList(weightsDataList = weightsDataList, \n",
    "                                                 outputType = outputType, \n",
    "                                                 Y = self.Y, \n",
    "                                                 scalingList = scalingList,\n",
    "                                                 equalWeights = False)\n",
    "\n",
    "    return weightsDataList"
   ]
  },
  {
   "cell_type": "code",
   "execution_count": null,
   "id": "84ebe067-f51e-4038-ae00-06bafa7ca014",
   "metadata": {},
   "outputs": [
    {
     "data": {
      "text/markdown": [
       "---\n",
       "\n",
       "[source](https://github.com/kaiguender/dddex/blob/main/dddex/wSAA.py#L42){target=\"_blank\" style=\"float:right; font-size:smaller\"}\n",
       "\n",
       "### RandomForestWSAA.getWeightsData\n",
       "\n",
       ">      RandomForestWSAA.getWeightsData (X:numpy.ndarray, outputType:Union[Forwar\n",
       ">                                       dRef('all'),ForwardRef('onlyPositiveWeig\n",
       ">                                       hts'),ForwardRef('summarized'),ForwardRe\n",
       ">                                       f('cumulativeDistribution'),ForwardRef('\n",
       ">                                       cumulativeDistributionSummarized')]='onl\n",
       ">                                       yPositiveWeights', scalingList:Union[lis\n",
       ">                                       t,numpy.ndarray,NoneType]=None)\n",
       "\n",
       "|    | **Type** | **Default** | **Details** |\n",
       "| -- | -------- | ----------- | ----------- |\n",
       "| X | np.ndarray |  | Feature matrix of samples for which conditional density estimates are computed. |\n",
       "| outputType | 'all' \\| 'onlyPositiveWeights' \\| 'summarized' \\| 'cumulativeDistribution' \\| 'cumulativeDistributionSummarized' | onlyPositiveWeights | Specifies structure of output. |\n",
       "| scalingList | list \\| np.ndarray \\| None | None | List or array with same size as self.Y containing floats being multiplied with self.Y. |"
      ],
      "text/plain": [
       "---\n",
       "\n",
       "[source](https://github.com/kaiguender/dddex/blob/main/dddex/wSAA.py#L42){target=\"_blank\" style=\"float:right; font-size:smaller\"}\n",
       "\n",
       "### RandomForestWSAA.getWeightsData\n",
       "\n",
       ">      RandomForestWSAA.getWeightsData (X:numpy.ndarray, outputType:Union[Forwar\n",
       ">                                       dRef('all'),ForwardRef('onlyPositiveWeig\n",
       ">                                       hts'),ForwardRef('summarized'),ForwardRe\n",
       ">                                       f('cumulativeDistribution'),ForwardRef('\n",
       ">                                       cumulativeDistributionSummarized')]='onl\n",
       ">                                       yPositiveWeights', scalingList:Union[lis\n",
       ">                                       t,numpy.ndarray,NoneType]=None)\n",
       "\n",
       "|    | **Type** | **Default** | **Details** |\n",
       "| -- | -------- | ----------- | ----------- |\n",
       "| X | np.ndarray |  | Feature matrix of samples for which conditional density estimates are computed. |\n",
       "| outputType | 'all' \\| 'onlyPositiveWeights' \\| 'summarized' \\| 'cumulativeDistribution' \\| 'cumulativeDistributionSummarized' | onlyPositiveWeights | Specifies structure of output. |\n",
       "| scalingList | list \\| np.ndarray \\| None | None | List or array with same size as self.Y containing floats being multiplied with self.Y. |"
      ]
     },
     "execution_count": null,
     "metadata": {},
     "output_type": "execute_result"
    }
   ],
   "source": [
    "show_doc(RandomForestWSAA.getWeightsData)"
   ]
  },
  {
   "cell_type": "code",
   "execution_count": null,
   "id": "a2f259e0-c201-4074-85a8-468d3f3c3a8b",
   "metadata": {},
   "outputs": [],
   "source": [
    "# #| export\n",
    "\n",
    "# @patch\n",
    "# def predict(self: RandomForestWSAA, \n",
    "#             X: np.ndarray, # Feature matrix of samples for which an estimation of conditional quantiles is computed.\n",
    "#             probs: list | np.ndarray = [0.1, 0.5, 0.9], # Probabilities for which the estimated conditional p-quantiles are computed.\n",
    "#             outputAsDf: bool = False, # Output is either a dataframe with 'probs' as cols or a dict with 'probs' as keys.\n",
    "#             scalingList: list | np.ndarray | None = None, # List or array with same size as self.Y containing floats being multiplied with self.Y.\n",
    "#             ):\n",
    "\n",
    "#     quantileRes = super(BaseWeightsBasedPredictor, self).predict(X = X,\n",
    "#                                                                  probs = probs,\n",
    "#                                                                  outputAsDf = outputAsDf,\n",
    "#                                                                  scalingList = scalingList)\n",
    "\n",
    "#     return quantileRes"
   ]
  },
  {
   "cell_type": "code",
   "execution_count": null,
   "id": "c673580e-9772-44db-ab59-1f81ace73467",
   "metadata": {},
   "outputs": [
    {
     "data": {
      "text/markdown": [
       "---\n",
       "\n",
       "[source](https://github.com/kaiguender/dddex/blob/main/dddex/wSAA.py#L84){target=\"_blank\" style=\"float:right; font-size:smaller\"}\n",
       "\n",
       "### RandomForestWSAA.predict\n",
       "\n",
       ">      RandomForestWSAA.predict (X:numpy.ndarray,\n",
       ">                                probs:Union[list,numpy.ndarray]=[0.1, 0.5,\n",
       ">                                0.9], outputAsDf:bool=False, scalingList:Union[\n",
       ">                                list,numpy.ndarray,NoneType]=None)\n",
       "\n",
       "Predict regression target for X.\n",
       "\n",
       "The predicted regression target of an input sample is computed as the\n",
       "mean predicted regression targets of the trees in the forest.\n",
       "\n",
       "|    | **Type** | **Default** | **Details** |\n",
       "| -- | -------- | ----------- | ----------- |\n",
       "| X | np.ndarray |  | Feature matrix of samples for which an estimation of conditional quantiles is computed. |\n",
       "| probs | list \\| np.ndarray | [0.1, 0.5, 0.9] | Probabilities for which the estimated conditional p-quantiles are computed. |\n",
       "| outputAsDf | bool | False | Output is either a dataframe with 'probs' as cols or a dict with 'probs' as keys. |\n",
       "| scalingList | list \\| np.ndarray \\| None | None | List or array with same size as self.Y containing floats being multiplied with self.Y. |\n",
       "| **Returns** | **ndarray of shape (n_samples,) or (n_samples, n_outputs)** |  | **The predicted values.** |"
      ],
      "text/plain": [
       "---\n",
       "\n",
       "[source](https://github.com/kaiguender/dddex/blob/main/dddex/wSAA.py#L84){target=\"_blank\" style=\"float:right; font-size:smaller\"}\n",
       "\n",
       "### RandomForestWSAA.predict\n",
       "\n",
       ">      RandomForestWSAA.predict (X:numpy.ndarray,\n",
       ">                                probs:Union[list,numpy.ndarray]=[0.1, 0.5,\n",
       ">                                0.9], outputAsDf:bool=False, scalingList:Union[\n",
       ">                                list,numpy.ndarray,NoneType]=None)\n",
       "\n",
       "Predict regression target for X.\n",
       "\n",
       "The predicted regression target of an input sample is computed as the\n",
       "mean predicted regression targets of the trees in the forest.\n",
       "\n",
       "|    | **Type** | **Default** | **Details** |\n",
       "| -- | -------- | ----------- | ----------- |\n",
       "| X | np.ndarray |  | Feature matrix of samples for which an estimation of conditional quantiles is computed. |\n",
       "| probs | list \\| np.ndarray | [0.1, 0.5, 0.9] | Probabilities for which the estimated conditional p-quantiles are computed. |\n",
       "| outputAsDf | bool | False | Output is either a dataframe with 'probs' as cols or a dict with 'probs' as keys. |\n",
       "| scalingList | list \\| np.ndarray \\| None | None | List or array with same size as self.Y containing floats being multiplied with self.Y. |\n",
       "| **Returns** | **ndarray of shape (n_samples,) or (n_samples, n_outputs)** |  | **The predicted values.** |"
      ]
     },
     "execution_count": null,
     "metadata": {},
     "output_type": "execute_result"
    }
   ],
   "source": [
    "show_doc(RandomForestWSAA.predict)"
   ]
  },
  {
   "cell_type": "markdown",
   "id": "f471bba6-50ec-49a9-980d-1c10f4361938",
   "metadata": {},
   "source": [
    "## SAA"
   ]
  },
  {
   "cell_type": "code",
   "execution_count": null,
   "id": "952b21e7-4c15-4c6d-8ebd-236740ec71e5",
   "metadata": {},
   "outputs": [],
   "source": [
    "#| export\n",
    "\n",
    "class SAA(BaseWeightsBasedPredictor):\n",
    "    \"\"\"SAA is a featureless approach that assumes the density of the target variable is given\n",
    "    by assigning equal probability to each historical observation of said target variable.\"\"\"\n",
    "    \n",
    "    def __init__(self):\n",
    "        \n",
    "        self.Y = None\n",
    "        \n",
    "    def __str__(self):\n",
    "        return \"SAA()\"\n",
    "    __repr__ = __str__     \n",
    "    "
   ]
  },
  {
   "cell_type": "code",
   "execution_count": null,
   "id": "6dc67de5-0fcb-47b3-82dd-908cbedaae31",
   "metadata": {},
   "outputs": [
    {
     "data": {
      "text/markdown": [
       "---\n",
       "\n",
       "[source](https://github.com/kaiguender/dddex/blob/main/dddex/wSAA.py#L99){target=\"_blank\" style=\"float:right; font-size:smaller\"}\n",
       "\n",
       "### SAA\n",
       "\n",
       ">      SAA ()\n",
       "\n",
       "SAA is a featureless approach that assumes the density of the target variable is given\n",
       "by assigning equal probability to each historical observation of said target variable."
      ],
      "text/plain": [
       "---\n",
       "\n",
       "[source](https://github.com/kaiguender/dddex/blob/main/dddex/wSAA.py#L99){target=\"_blank\" style=\"float:right; font-size:smaller\"}\n",
       "\n",
       "### SAA\n",
       "\n",
       ">      SAA ()\n",
       "\n",
       "SAA is a featureless approach that assumes the density of the target variable is given\n",
       "by assigning equal probability to each historical observation of said target variable."
      ]
     },
     "execution_count": null,
     "metadata": {},
     "output_type": "execute_result"
    }
   ],
   "source": [
    "show_doc(SAA)"
   ]
  },
  {
   "cell_type": "code",
   "execution_count": null,
   "id": "8afd98f3-44c9-44f6-af9c-6430afa6fca7",
   "metadata": {},
   "outputs": [],
   "source": [
    "#| export\n",
    "\n",
    "@patch\n",
    "def fit(self: SAA, \n",
    "        Y: np.ndarray, # Target values which form the estimated density function based on the SAA algorithm.\n",
    "        ):\n",
    "    self.Y = Y"
   ]
  },
  {
   "cell_type": "code",
   "execution_count": null,
   "id": "a9520933-6480-4e96-bace-8b9f164cd922",
   "metadata": {},
   "outputs": [
    {
     "data": {
      "text/markdown": [
       "---\n",
       "\n",
       "[source](https://github.com/kaiguender/dddex/blob/main/dddex/wSAA.py#L114){target=\"_blank\" style=\"float:right; font-size:smaller\"}\n",
       "\n",
       "### SAA.fit\n",
       "\n",
       ">      SAA.fit (Y:numpy.ndarray)\n",
       "\n",
       "|    | **Type** | **Details** |\n",
       "| -- | -------- | ----------- |\n",
       "| Y | np.ndarray | Target values which form the estimated density function based on the SAA algorithm. |"
      ],
      "text/plain": [
       "---\n",
       "\n",
       "[source](https://github.com/kaiguender/dddex/blob/main/dddex/wSAA.py#L114){target=\"_blank\" style=\"float:right; font-size:smaller\"}\n",
       "\n",
       "### SAA.fit\n",
       "\n",
       ">      SAA.fit (Y:numpy.ndarray)\n",
       "\n",
       "|    | **Type** | **Details** |\n",
       "| -- | -------- | ----------- |\n",
       "| Y | np.ndarray | Target values which form the estimated density function based on the SAA algorithm. |"
      ]
     },
     "execution_count": null,
     "metadata": {},
     "output_type": "execute_result"
    }
   ],
   "source": [
    "show_doc(SAA.fit)"
   ]
  },
  {
   "cell_type": "code",
   "execution_count": null,
   "id": "3db11f98-11b2-420f-9420-0bcbd3ebf7b6",
   "metadata": {},
   "outputs": [],
   "source": [
    "#| export\n",
    "\n",
    "@patch\n",
    "def getWeightsData(self: SAA, \n",
    "                   X: np.ndarray, # Feature matrix for whose rows conditional density estimates are computed.\n",
    "                   outputType: 'all' | # Specifies structure of output.\n",
    "                               'onlyPositiveWeights' | \n",
    "                               'summarized' | \n",
    "                               'cumulativeDistribution' | \n",
    "                               'cumulativeDistributionSummarized' = 'onlyPositiveWeights', \n",
    "                   scalingList: list | np.ndarray | None = None, # List or array with same size as self.Y containing floats being multiplied with self.Y.\n",
    "                   ):\n",
    "\n",
    "    if X is None:\n",
    "        neighborsList = [np.arange(len(self.Y))]\n",
    "    else:\n",
    "        neighborsList = [np.arange(len(self.Y)) for i in range(X.shape[0])]\n",
    "\n",
    "    # weightsDataList is a list whose elements correspond to one test prediction each. \n",
    "    weightsDataList = [(np.repeat(1 / len(neighbors), len(neighbors)), np.array(neighbors)) for neighbors in neighborsList]\n",
    "\n",
    "    weightsDataList = restructureWeightsDataList(weightsDataList = weightsDataList, \n",
    "                                                 outputType = outputType, \n",
    "                                                 Y = self.Y,\n",
    "                                                 scalingList = scalingList,\n",
    "                                                 equalWeights = True)\n",
    "\n",
    "    return weightsDataList"
   ]
  },
  {
   "cell_type": "code",
   "execution_count": null,
   "id": "c5e77e0d-5cb8-4c29-b356-0f0e61bccde0",
   "metadata": {},
   "outputs": [
    {
     "data": {
      "text/markdown": [
       "---\n",
       "\n",
       "[source](https://github.com/kaiguender/dddex/blob/main/dddex/wSAA.py#L121){target=\"_blank\" style=\"float:right; font-size:smaller\"}\n",
       "\n",
       "### SAA.getWeightsData\n",
       "\n",
       ">      SAA.getWeightsData (X:numpy.ndarray, outputType:Union[ForwardRef('all'),F\n",
       ">                          orwardRef('onlyPositiveWeights'),ForwardRef('summariz\n",
       ">                          ed'),ForwardRef('cumulativeDistribution'),ForwardRef(\n",
       ">                          'cumulativeDistributionSummarized')]='onlyPositiveWei\n",
       ">                          ghts',\n",
       ">                          scalingList:Union[list,numpy.ndarray,NoneType]=None)\n",
       "\n",
       "|    | **Type** | **Default** | **Details** |\n",
       "| -- | -------- | ----------- | ----------- |\n",
       "| X | np.ndarray |  | Feature matrix for whose rows conditional density estimates are computed. |\n",
       "| outputType | 'all' \\| 'onlyPositiveWeights' \\| 'summarized' \\| 'cumulativeDistribution' \\| 'cumulativeDistributionSummarized' | onlyPositiveWeights | Specifies structure of output. |\n",
       "| scalingList | list \\| np.ndarray \\| None | None | List or array with same size as self.Y containing floats being multiplied with self.Y. |"
      ],
      "text/plain": [
       "---\n",
       "\n",
       "[source](https://github.com/kaiguender/dddex/blob/main/dddex/wSAA.py#L121){target=\"_blank\" style=\"float:right; font-size:smaller\"}\n",
       "\n",
       "### SAA.getWeightsData\n",
       "\n",
       ">      SAA.getWeightsData (X:numpy.ndarray, outputType:Union[ForwardRef('all'),F\n",
       ">                          orwardRef('onlyPositiveWeights'),ForwardRef('summariz\n",
       ">                          ed'),ForwardRef('cumulativeDistribution'),ForwardRef(\n",
       ">                          'cumulativeDistributionSummarized')]='onlyPositiveWei\n",
       ">                          ghts',\n",
       ">                          scalingList:Union[list,numpy.ndarray,NoneType]=None)\n",
       "\n",
       "|    | **Type** | **Default** | **Details** |\n",
       "| -- | -------- | ----------- | ----------- |\n",
       "| X | np.ndarray |  | Feature matrix for whose rows conditional density estimates are computed. |\n",
       "| outputType | 'all' \\| 'onlyPositiveWeights' \\| 'summarized' \\| 'cumulativeDistribution' \\| 'cumulativeDistributionSummarized' | onlyPositiveWeights | Specifies structure of output. |\n",
       "| scalingList | list \\| np.ndarray \\| None | None | List or array with same size as self.Y containing floats being multiplied with self.Y. |"
      ]
     },
     "execution_count": null,
     "metadata": {},
     "output_type": "execute_result"
    }
   ],
   "source": [
    "show_doc(SAA.getWeightsData)"
   ]
  },
  {
   "cell_type": "code",
   "execution_count": null,
   "id": "9e79762a-1427-49d7-b8b2-42ecde48e16c",
   "metadata": {},
   "outputs": [],
   "source": [
    "#| hide\n",
    "import nbdev; nbdev.nbdev_export()"
   ]
  }
 ],
 "metadata": {
  "kernelspec": {
   "display_name": "HC-Scheduling",
   "language": "python",
   "name": "hc-scheduling"
  }
 },
 "nbformat": 4,
 "nbformat_minor": 5
}
