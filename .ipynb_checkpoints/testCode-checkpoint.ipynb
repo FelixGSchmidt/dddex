{
 "cells": [
  {
   "cell_type": "markdown",
   "id": "037a1d7e-df10-437b-8875-e0e904fb2833",
   "metadata": {},
   "source": [
    "# Packages"
   ]
  },
  {
   "cell_type": "code",
   "execution_count": 9,
   "id": "4babe4f0-0157-4f93-b34b-e33aa5fe1d5e",
   "metadata": {},
   "outputs": [],
   "source": [
    "from sklearn.neighbors import NearestNeighbors\n",
    "import numpy as np\n",
    "import pandas as pd\n",
    "from numpy.random import randint\n",
    "import time\n",
    "from pykdtree.kdtree import KDTree\n",
    "from collections import defaultdict, Counter"
   ]
  },
  {
   "cell_type": "code",
   "execution_count": 17,
   "id": "bee93d5d-a200-4ea2-8074-4332d5a9d47f",
   "metadata": {},
   "outputs": [
    {
     "name": "stdout",
     "output_type": "stream",
     "text": [
      "916 ms ± 56.3 ms per loop (mean ± std. dev. of 7 runs, 1 loop each)\n"
     ]
    }
   ],
   "source": [
    "a = randint(low = 0, high = 100000, size = 5060)\n",
    "%timeit np.unique(a)"
   ]
  },
  {
   "cell_type": "code",
   "execution_count": 6,
   "id": "1ea7f3f3-67e7-424b-8980-d0f8fb9c437c",
   "metadata": {},
   "outputs": [],
   "source": [
    "def uniqueValues(a):\n",
    "    \n",
    "    duplicationDict = defaultdict(list)\n",
    "    \n",
    "    for i, value in enumerate(a):\n",
    "        duplicationDict[value].append(i)\n",
    "        \n",
    "    return duplicationDict"
   ]
  },
  {
   "cell_type": "code",
   "execution_count": 10,
   "id": "d2afa026-c088-47f1-82da-f658d5333ccb",
   "metadata": {},
   "outputs": [],
   "source": [
    "def uniqueValues2(a):\n",
    "    \n",
    "    countDict = Counter(a)\n",
    "        \n",
    "    return countDict"
   ]
  },
  {
   "cell_type": "code",
   "execution_count": 12,
   "id": "cce672a7-c650-4b68-8a74-3250f425fd7c",
   "metadata": {},
   "outputs": [
    {
     "name": "stdout",
     "output_type": "stream",
     "text": [
      "26.9 ms ± 2.47 ms per loop (mean ± std. dev. of 7 runs, 10 loops each)\n"
     ]
    }
   ],
   "source": [
    "%timeit uniqueValues2(a)"
   ]
  },
  {
   "cell_type": "code",
   "execution_count": null,
   "id": "b4d68038-1e99-4aab-8951-ed12f7f5f259",
   "metadata": {},
   "outputs": [],
   "source": [
    "a = np.array([randint(low = 0, high = 10000, size = 8) for i in range(100000)])\n",
    "# a = np.concatenate([a, np.array([np.arange(2)] * 10)], axis = 0)\n",
    "a.shape"
   ]
  },
  {
   "cell_type": "code",
   "execution_count": null,
   "id": "6e754f36-7f89-4d1f-baee-327701086aa8",
   "metadata": {},
   "outputs": [],
   "source": [
    "kd = KDTree(data_pts = a)"
   ]
  },
  {
   "cell_type": "code",
   "execution_count": null,
   "id": "b99d4faa-2dbb-48e2-b267-03c810a1b488",
   "metadata": {},
   "outputs": [],
   "source": [
    "start = time.time()\n",
    "dist, idx = kd.query(a, k = 2000)\n",
    "print(time.time() - start)"
   ]
  },
  {
   "cell_type": "code",
   "execution_count": null,
   "id": "cf58216f-97ee-472d-9628-806df2e1d4e5",
   "metadata": {},
   "outputs": [],
   "source": [
    "idx"
   ]
  },
  {
   "cell_type": "code",
   "execution_count": null,
   "id": "b8535378-301a-46e6-89a3-096e0dde1079",
   "metadata": {},
   "outputs": [],
   "source": [
    "nn = NearestNeighbors(algorithm = 'kd_tree')"
   ]
  },
  {
   "cell_type": "code",
   "execution_count": null,
   "id": "12731a1a-a9e8-438c-8859-e7a63e6c6e40",
   "metadata": {},
   "outputs": [],
   "source": [
    "nn.fit(a)"
   ]
  },
  {
   "cell_type": "code",
   "execution_count": null,
   "id": "257d8dfb-4ce0-4ae8-95bf-2a2e924b3b80",
   "metadata": {},
   "outputs": [],
   "source": [
    "start = time.time()\n",
    "idx2 = nn.kneighbors(a, n_neighbors = 10000, return_distance = False)\n",
    "print(time.time() - start)"
   ]
  },
  {
   "cell_type": "code",
   "execution_count": null,
   "id": "50373e18-2e2f-4a10-b10a-7b253b8937da",
   "metadata": {},
   "outputs": [],
   "source": [
    "np.array_equal(idx, idx2)"
   ]
  },
  {
   "cell_type": "code",
   "execution_count": null,
   "id": "9f8258e4-28b3-4154-a90d-052fb230cd99",
   "metadata": {},
   "outputs": [],
   "source": [
    "def bad_append(new_item, a_list=[]):\n",
    "    a_list.append(new_item)\n",
    "    return a_list"
   ]
  },
  {
   "cell_type": "code",
   "execution_count": null,
   "id": "0783b292-6624-42e2-bbe6-3b5480e12fdc",
   "metadata": {},
   "outputs": [],
   "source": [
    "bad_append('one', a_list = [1, 2])\n",
    "print(bad_append('one', a_list = [1, 2]))"
   ]
  },
  {
   "cell_type": "code",
   "execution_count": null,
   "id": "756b6b05-54d1-4877-9ccf-5ab56957fac3",
   "metadata": {},
   "outputs": [],
   "source": [
    "def good_append(new_item, a_list=None):\n",
    "    if a_list is None:\n",
    "        a_list = []\n",
    "    a_list.append(new_item)\n",
    "    return a_list"
   ]
  },
  {
   "cell_type": "code",
   "execution_count": null,
   "id": "85604191-b1a2-4eb5-a3cf-15f04284afa1",
   "metadata": {},
   "outputs": [],
   "source": [
    "print(good_append('one'))"
   ]
  },
  {
   "cell_type": "code",
   "execution_count": null,
   "id": "610c05e0-4e92-4cb8-ace5-d31a709ee9f1",
   "metadata": {},
   "outputs": [],
   "source": [
    "import numpy as np\n",
    "import pandas as pd\n",
    "import os\n",
    "from random import sample\n",
    "\n",
    "from lightgbm import LGBMRegressor\n",
    "from dddex.levelSetKDEx import LevelSetKDEx, binSizeCV\n",
    "from dddex.utils import groupedTimeSeriesSplit"
   ]
  },
  {
   "cell_type": "code",
   "execution_count": null,
   "id": "a80ac390-594e-4363-b6b9-f9af98071d6c",
   "metadata": {},
   "outputs": [],
   "source": [
    "path = ('/home/kagu/yaz_trainingData/dataYaz.csv')\n",
    "data = pd.read_csv(path)"
   ]
  },
  {
   "cell_type": "code",
   "execution_count": null,
   "id": "bd813a00-3f38-42ee-9571-c0301360be76",
   "metadata": {},
   "outputs": [],
   "source": [
    "dataTrain = data[data['label'] == 'train'].reset_index(drop = True)\n",
    "dataTest = data[data['label'] == 'test']\n",
    "\n",
    "XTrain = dataTrain.drop(['dayIndex', 'label', 'id', 'demand'], axis = 1)\n",
    "XTest = dataTest.drop(['dayIndex', 'label', 'id', 'demand'], axis = 1)\n",
    "\n",
    "yTrain = dataTrain['demand']\n",
    "yTest = dataTest['demand']"
   ]
  },
  {
   "cell_type": "code",
   "execution_count": null,
   "id": "e65b8e43-27c8-4dcd-be22-01cfbd1e345a",
   "metadata": {},
   "outputs": [],
   "source": [
    "LGBM = LGBMRegressor(n_jobs = 1)\n",
    "LGBM.fit(X = XTrain, y = yTrain)"
   ]
  },
  {
   "cell_type": "code",
   "execution_count": null,
   "id": "4ba0f721-d324-4fbb-a1e4-fc21a5c5ac4d",
   "metadata": {},
   "outputs": [],
   "source": [
    "cvFolds = groupedTimeSeriesSplit(data = dataTrain, kFolds = 2, testLength = 28, groupFeature = 'id', timeFeature = 'dayIndex')"
   ]
  },
  {
   "cell_type": "code",
   "execution_count": null,
   "id": "f3c30d83-31fb-426a-b12f-4b8c237f668c",
   "metadata": {},
   "outputs": [],
   "source": [
    "res = binSizeCV(estimator = LGBM,\n",
    "                binSizeGrid = [100, 200],\n",
    "                cv = cvFolds,\n",
    "                LSF_type = 'LSF')"
   ]
  },
  {
   "cell_type": "code",
   "execution_count": null,
   "id": "7d1e8425-7954-4c05-bf16-1823207baf8a",
   "metadata": {},
   "outputs": [],
   "source": [
    "res.fit(X = XTrain, y = yTrain)"
   ]
  },
  {
   "cell_type": "code",
   "execution_count": null,
   "id": "3cde7ad3-d52d-40ca-82c8-80f06110785b",
   "metadata": {},
   "outputs": [],
   "source": []
  },
  {
   "cell_type": "code",
   "execution_count": null,
   "id": "97e440b1-fe5b-40b2-a5ac-2d25627eda2f",
   "metadata": {},
   "outputs": [],
   "source": []
  },
  {
   "cell_type": "code",
   "execution_count": null,
   "id": "4f3a58fc-73d6-4301-a876-8732e218db56",
   "metadata": {},
   "outputs": [],
   "source": []
  },
  {
   "cell_type": "code",
   "execution_count": null,
   "id": "52595584-9884-4329-9367-f306c80bfddb",
   "metadata": {},
   "outputs": [],
   "source": []
  }
 ],
 "metadata": {
  "kernelspec": {
   "display_name": "HC-Scheduling",
   "language": "python",
   "name": "hc-scheduling"
  },
  "language_info": {
   "codemirror_mode": {
    "name": "ipython",
    "version": 3
   },
   "file_extension": ".py",
   "mimetype": "text/x-python",
   "name": "python",
   "nbconvert_exporter": "python",
   "pygments_lexer": "ipython3",
   "version": "3.8.13"
  }
 },
 "nbformat": 4,
 "nbformat_minor": 5
}
