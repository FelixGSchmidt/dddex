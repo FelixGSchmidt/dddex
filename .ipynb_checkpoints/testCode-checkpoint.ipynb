{
 "cells": [
  {
   "cell_type": "markdown",
   "id": "037a1d7e-df10-437b-8875-e0e904fb2833",
   "metadata": {},
   "source": [
    "# Packages"
   ]
  },
  {
   "cell_type": "code",
   "execution_count": 1,
   "id": "4babe4f0-0157-4f93-b34b-e33aa5fe1d5e",
   "metadata": {},
   "outputs": [],
   "source": [
    "from sklearn.neighbors import NearestNeighbors\n",
    "import numpy as np\n",
    "import pandas as pd\n",
    "from numpy.random import randint, uniform\n",
    "import time\n",
    "# from pykdtree.kdtree import KDTree\n",
    "from collections import defaultdict, Counter"
   ]
  },
  {
   "cell_type": "markdown",
   "id": "849138a4-bb2c-469a-b5c9-63a30674a331",
   "metadata": {},
   "source": [
    "# Wasserstein Distance"
   ]
  },
  {
   "cell_type": "code",
   "execution_count": 2,
   "id": "a01778c4-08d8-473e-af08-cecebe493ee7",
   "metadata": {},
   "outputs": [],
   "source": [
    "a = np.array([randint(low = 0, high = 1000, size = 1) for i in range(100)])\n",
    "b = np.array([randint(low = 0, high = 1000, size = 1) for i in range(1)])\n",
    "c = np.ravel(np.array([uniform(low = 0, high = 1, size = 100) for i in range(1)]))"
   ]
  },
  {
   "cell_type": "code",
   "execution_count": 3,
   "id": "00ba42e0-a93f-44bd-995a-e029b3ca3d7b",
   "metadata": {},
   "outputs": [],
   "source": [
    "p = 2"
   ]
  },
  {
   "cell_type": "code",
   "execution_count": 4,
   "id": "51a7855c-3b3b-4759-9275-cbe7dbc78a89",
   "metadata": {},
   "outputs": [
    {
     "ename": "KeyboardInterrupt",
     "evalue": "",
     "output_type": "error",
     "traceback": [
      "\u001b[0;31m---------------------------------------------------------------------------\u001b[0m",
      "\u001b[0;31mKeyboardInterrupt\u001b[0m                         Traceback (most recent call last)",
      "Input \u001b[0;32mIn [4]\u001b[0m, in \u001b[0;36m<cell line: 1>\u001b[0;34m()\u001b[0m\n\u001b[0;32m----> 1\u001b[0m \u001b[43mget_ipython\u001b[49m\u001b[43m(\u001b[49m\u001b[43m)\u001b[49m\u001b[38;5;241;43m.\u001b[39;49m\u001b[43mrun_line_magic\u001b[49m\u001b[43m(\u001b[49m\u001b[38;5;124;43m'\u001b[39;49m\u001b[38;5;124;43mtimeit\u001b[39;49m\u001b[38;5;124;43m'\u001b[39;49m\u001b[43m,\u001b[49m\u001b[43m \u001b[49m\u001b[38;5;124;43m'\u001b[39;49m\u001b[38;5;124;43m45849584858**(1/p)\u001b[39;49m\u001b[38;5;124;43m'\u001b[39;49m\u001b[43m)\u001b[49m\n",
      "File \u001b[0;32m~/.conda/envs/dddex/lib/python3.8/site-packages/IPython/core/interactiveshell.py:2305\u001b[0m, in \u001b[0;36mInteractiveShell.run_line_magic\u001b[0;34m(self, magic_name, line, _stack_depth)\u001b[0m\n\u001b[1;32m   2303\u001b[0m     kwargs[\u001b[38;5;124m'\u001b[39m\u001b[38;5;124mlocal_ns\u001b[39m\u001b[38;5;124m'\u001b[39m] \u001b[38;5;241m=\u001b[39m \u001b[38;5;28mself\u001b[39m\u001b[38;5;241m.\u001b[39mget_local_scope(stack_depth)\n\u001b[1;32m   2304\u001b[0m \u001b[38;5;28;01mwith\u001b[39;00m \u001b[38;5;28mself\u001b[39m\u001b[38;5;241m.\u001b[39mbuiltin_trap:\n\u001b[0;32m-> 2305\u001b[0m     result \u001b[38;5;241m=\u001b[39m \u001b[43mfn\u001b[49m\u001b[43m(\u001b[49m\u001b[38;5;241;43m*\u001b[39;49m\u001b[43margs\u001b[49m\u001b[43m,\u001b[49m\u001b[43m \u001b[49m\u001b[38;5;241;43m*\u001b[39;49m\u001b[38;5;241;43m*\u001b[39;49m\u001b[43mkwargs\u001b[49m\u001b[43m)\u001b[49m\n\u001b[1;32m   2306\u001b[0m \u001b[38;5;28;01mreturn\u001b[39;00m result\n",
      "File \u001b[0;32m~/.conda/envs/dddex/lib/python3.8/site-packages/IPython/core/magics/execution.py:1162\u001b[0m, in \u001b[0;36mExecutionMagics.timeit\u001b[0;34m(self, line, cell, local_ns)\u001b[0m\n\u001b[1;32m   1160\u001b[0m \u001b[38;5;28;01mfor\u001b[39;00m index \u001b[38;5;129;01min\u001b[39;00m \u001b[38;5;28mrange\u001b[39m(\u001b[38;5;241m0\u001b[39m, \u001b[38;5;241m10\u001b[39m):\n\u001b[1;32m   1161\u001b[0m     number \u001b[38;5;241m=\u001b[39m \u001b[38;5;241m10\u001b[39m \u001b[38;5;241m*\u001b[39m\u001b[38;5;241m*\u001b[39m index\n\u001b[0;32m-> 1162\u001b[0m     time_number \u001b[38;5;241m=\u001b[39m \u001b[43mtimer\u001b[49m\u001b[38;5;241;43m.\u001b[39;49m\u001b[43mtimeit\u001b[49m\u001b[43m(\u001b[49m\u001b[43mnumber\u001b[49m\u001b[43m)\u001b[49m\n\u001b[1;32m   1163\u001b[0m     \u001b[38;5;28;01mif\u001b[39;00m time_number \u001b[38;5;241m>\u001b[39m\u001b[38;5;241m=\u001b[39m \u001b[38;5;241m0.2\u001b[39m:\n\u001b[1;32m   1164\u001b[0m         \u001b[38;5;28;01mbreak\u001b[39;00m\n",
      "File \u001b[0;32m~/.conda/envs/dddex/lib/python3.8/site-packages/IPython/core/magics/execution.py:156\u001b[0m, in \u001b[0;36mTimer.timeit\u001b[0;34m(self, number)\u001b[0m\n\u001b[1;32m    154\u001b[0m gc\u001b[38;5;241m.\u001b[39mdisable()\n\u001b[1;32m    155\u001b[0m \u001b[38;5;28;01mtry\u001b[39;00m:\n\u001b[0;32m--> 156\u001b[0m     timing \u001b[38;5;241m=\u001b[39m \u001b[38;5;28;43mself\u001b[39;49m\u001b[38;5;241;43m.\u001b[39;49m\u001b[43minner\u001b[49m\u001b[43m(\u001b[49m\u001b[43mit\u001b[49m\u001b[43m,\u001b[49m\u001b[43m \u001b[49m\u001b[38;5;28;43mself\u001b[39;49m\u001b[38;5;241;43m.\u001b[39;49m\u001b[43mtimer\u001b[49m\u001b[43m)\u001b[49m\n\u001b[1;32m    157\u001b[0m \u001b[38;5;28;01mfinally\u001b[39;00m:\n\u001b[1;32m    158\u001b[0m     \u001b[38;5;28;01mif\u001b[39;00m gcold:\n",
      "File \u001b[0;32m<magic-timeit>:1\u001b[0m, in \u001b[0;36minner\u001b[0;34m(_it, _timer)\u001b[0m\n",
      "\u001b[0;31mKeyboardInterrupt\u001b[0m: "
     ]
    }
   ],
   "source": [
    "%timeit 45849584858**(1/p)"
   ]
  },
  {
   "cell_type": "code",
   "execution_count": null,
   "id": "4100b160-70ee-4448-88be-8b5b78cbd089",
   "metadata": {},
   "outputs": [],
   "source": [
    "%timeit np.sum(c * np.sum(np.abs(a - b)**p, axis = 1))**(1/p)"
   ]
  },
  {
   "cell_type": "code",
   "execution_count": null,
   "id": "306281c1-cfe8-4ef7-af5b-124aad7c6b8e",
   "metadata": {},
   "outputs": [],
   "source": [
    "np.linalg.norm(x = a - b, axis = 1, ord = 2)"
   ]
  },
  {
   "cell_type": "code",
   "execution_count": null,
   "id": "222071d3-3eae-4373-b054-daa20c63ebbc",
   "metadata": {},
   "outputs": [],
   "source": [
    "a = np.array([[randint(low = 0, high = 10, size = 100) for i in range(4)] for j in range(10)])\n",
    "p = np.array([[uniform(low = 0, high = 1, size = 100) for i in range(1)] for j in range(10)])\n",
    "\n",
    "b = np.array([[randint(low = 0, high = 10, size = 100) for i in range(4)] for j in range(1)])"
   ]
  },
  {
   "cell_type": "code",
   "execution_count": null,
   "id": "584cb6e4-0687-4b71-98e2-ce3bc4704cdb",
   "metadata": {},
   "outputs": [],
   "source": [
    "a.shape"
   ]
  },
  {
   "cell_type": "code",
   "execution_count": null,
   "id": "d22551e2-de61-4f07-8c15-c0733cf9b1dd",
   "metadata": {},
   "outputs": [],
   "source": [
    "b.shape"
   ]
  },
  {
   "cell_type": "code",
   "execution_count": null,
   "id": "f660b4ef-e688-40a7-9dd7-1bcae30d05c9",
   "metadata": {},
   "outputs": [],
   "source": [
    "p.shape"
   ]
  },
  {
   "cell_type": "code",
   "execution_count": null,
   "id": "83a1bc86-ac9d-429a-8e14-7b90486e7212",
   "metadata": {},
   "outputs": [],
   "source": [
    "res = list()\n",
    "\n",
    "for i in range(a.shape[2]):\n",
    "    aSlice = a[:, :, i]\n",
    "    pSlice = p[:, :, i]\n",
    "    bSlice = b[:, :, i]\n",
    "    \n",
    "    wasserstein = np.sum(pSlice * np.sum(np.abs(aSlice - bSlice)**2, axis = 1))**(1/2)\n",
    "    res.append(wasserstein)"
   ]
  },
  {
   "cell_type": "code",
   "execution_count": null,
   "id": "27604507-162c-4240-a85a-3ab873c85f51",
   "metadata": {},
   "outputs": [],
   "source": [
    "test = np.abs(a - b)**2"
   ]
  },
  {
   "cell_type": "code",
   "execution_count": null,
   "id": "cb62ccd3-efc3-4aef-ad9e-c414e2613983",
   "metadata": {},
   "outputs": [],
   "source": [
    "test.shape"
   ]
  },
  {
   "cell_type": "code",
   "execution_count": null,
   "id": "34508e10-51bf-48ef-988a-bdced681934d",
   "metadata": {},
   "outputs": [],
   "source": [
    "test2 = np.sum(test, axis = 1)"
   ]
  },
  {
   "cell_type": "code",
   "execution_count": null,
   "id": "1810f4a6-c7b3-4939-8e8b-9b79c30a2409",
   "metadata": {},
   "outputs": [],
   "source": [
    "pMod = np.squeeze(p, axis = 1)"
   ]
  },
  {
   "cell_type": "code",
   "execution_count": null,
   "id": "b599fa3f-9261-45a3-91da-2ff5bb981a11",
   "metadata": {},
   "outputs": [],
   "source": [
    "test3 = pMod * test2"
   ]
  },
  {
   "cell_type": "code",
   "execution_count": null,
   "id": "cf439835-bb34-47e5-9d8f-891a1c2dc5f2",
   "metadata": {},
   "outputs": [],
   "source": [
    "test4 = np.sum(test3, axis = 0)**(1/2)"
   ]
  },
  {
   "cell_type": "code",
   "execution_count": null,
   "id": "f75eaa14-1c15-42cf-be27-4b5415922449",
   "metadata": {},
   "outputs": [],
   "source": [
    "test4"
   ]
  },
  {
   "cell_type": "markdown",
   "id": "423d4de3-5661-4103-b4b1-accf9fccc8da",
   "metadata": {},
   "source": [
    "## One dimensional improvement"
   ]
  },
  {
   "cell_type": "code",
   "execution_count": null,
   "id": "8087d427-297e-4eaf-b1b2-44a767f65b94",
   "metadata": {},
   "outputs": [],
   "source": [
    "dimY = 1\n",
    "nTest = 5000\n",
    "maxPosProb = 100\n",
    "\n",
    "densities = list()\n",
    "yTest = list()\n",
    "\n",
    "for j in range(nTest):\n",
    "    nPosProb = int(randint(low = 1, high = maxPosProb, size = 1))\n",
    "    \n",
    "    probs = np.ravel([uniform(low = 0, high = 1, size = 1) for i in range(nPosProb)])\n",
    "    probs = probs / probs.sum()\n",
    "    \n",
    "    values = np.ravel(np.array([randint(low = 0, high = 10, size = dimY) for i in range(nPosProb)]))\n",
    "    \n",
    "    densities.append((probs, values))\n",
    "    yTest.append(randint(low = 1, high = 10, size = dimY))\n",
    "\n",
    "yTest = np.array(yTest)"
   ]
  },
  {
   "cell_type": "code",
   "execution_count": null,
   "id": "6612a754-f4bc-4d50-84d5-6f0ca141e7d2",
   "metadata": {},
   "outputs": [],
   "source": [
    "%%timeit\n",
    "\n",
    "lenList = list()\n",
    "valuesList = list()\n",
    "probsList = list()\n",
    "\n",
    "for probs, values in densities:\n",
    "    lenList.append(values.shape[0])\n",
    "    valuesList.append(values)\n",
    "    probsList.append(probs)\n",
    "    \n",
    "lenMax = max(lenList)\n",
    "\n",
    "insertionCheck = np.arange(lenMax) < np.array(lenList)[:, None]\n",
    "\n",
    "probsArray = np.zeros(shape = (len(probsList), lenMax))\n",
    "valuesArray = np.zeros(shape = (len(valuesList), lenMax))\n",
    "\n",
    "probsArray[insertionCheck] = np.concatenate(probsList, axis = 0)\n",
    "valuesArray[insertionCheck] = np.concatenate(valuesList, axis = 0)\n",
    "\n",
    "# yTest = np.concatenate(yList, axis = 0).reshape(-1, 1)\n",
    "\n",
    "distances = np.sum(probsArray * np.abs(valuesArray - yTest)**2, axis = 1)**(1/2)"
   ]
  },
  {
   "cell_type": "code",
   "execution_count": null,
   "id": "0fe0ff81-ec90-440b-981c-c8f4abc98ed3",
   "metadata": {},
   "outputs": [],
   "source": [
    "%%timeit \n",
    "\n",
    "# BENCHMARK\n",
    "\n",
    "wassersteinDists = list()\n",
    "    \n",
    "for i in range(len(densities)):\n",
    "    y = yTest[i]\n",
    "    values = densities[i][1]\n",
    "    probs = densities[i][0]\n",
    "    \n",
    "    wassersteinDists.append(np.sum(probs * np.abs(values - y)**2)**(1/2))\n",
    "    \n",
    "wassersteinDists = np.array(wassersteinDists)"
   ]
  },
  {
   "cell_type": "markdown",
   "id": "36d71dea-5833-4dc3-9d78-6b05453dfcd2",
   "metadata": {},
   "source": [
    "## Multi-dimensional improvement"
   ]
  },
  {
   "cell_type": "code",
   "execution_count": null,
   "id": "187f2b36-a359-4180-985f-8767cb12273e",
   "metadata": {},
   "outputs": [],
   "source": [
    "from scipy.spatial.distance import cdist\n",
    "\n",
    "dimY = 4\n",
    "nTest = 5000\n",
    "maxPosProb = 500\n",
    "\n",
    "densities = list()\n",
    "yTest = list()\n",
    "\n",
    "for j in range(nTest):\n",
    "    nPosProb = int(randint(low = 1, high = maxPosProb, size = 1))\n",
    "    \n",
    "    probs = np.ravel([uniform(low = 0, high = 1, size = 1) for i in range(nPosProb)])\n",
    "    probs = probs / probs.sum()\n",
    "    \n",
    "    values = np.array([randint(low = 0, high = 10, size = dimY) for i in range(nPosProb)])\n",
    "    \n",
    "    densities.append((probs, values))\n",
    "    yTest.append(randint(low = 1, high = 10, size = dimY))\n",
    "\n",
    "yTest = np.array(yTest)"
   ]
  },
  {
   "cell_type": "code",
   "execution_count": null,
   "id": "f3f60aae-e6cb-4bf6-a73e-dfd11b9f13e0",
   "metadata": {},
   "outputs": [],
   "source": [
    "%%timeit\n",
    "\n",
    "# BENCHMARK\n",
    "\n",
    "wassersteinDists = list()\n",
    "    \n",
    "for i in range(len(densities)):\n",
    "    y = yTest[i]\n",
    "    values = densities[i][1]\n",
    "    probs = densities[i][0]\n",
    "    \n",
    "    wassersteinDists.append(np.sum(probs * np.sum(np.abs(values - y)**2, axis = 1))**(1/2))\n",
    "    \n",
    "wassersteinDists = np.array(wassersteinDists)"
   ]
  },
  {
   "cell_type": "code",
   "execution_count": null,
   "id": "4edfa983-8869-4390-88eb-d61bf59a208c",
   "metadata": {},
   "outputs": [],
   "source": [
    "%%timeit\n",
    "\n",
    "yDim = densities[0][1].shape[1]\n",
    "\n",
    "lenList = list()\n",
    "for probs, values in densities:\n",
    "    lenList.append(values.shape[0])\n",
    "    \n",
    "lenMax = max(lenList)\n",
    "valuesArray = np.zeros(shape = (len(densities), yDim, lenMax))\n",
    "probsArray = np.zeros(shape = (len(densities), lenMax))\n",
    "\n",
    "for i in range(len(densities)):\n",
    "    length = lenList[i]\n",
    "    values = densities[i][1]\n",
    "    probs = densities[i][0]\n",
    "    \n",
    "    valuesArray[i, :, 0:length] = values.T\n",
    "    probsArray[i, 0:length] = probs\n",
    "\n",
    "yTestMod = np.expand_dims(a = yTest, axis = 2)\n",
    "\n",
    "distances = np.sum(np.abs(valuesArray - yTestMod)**2, axis = 1)\n",
    "\n",
    "wassersteinDists2 = np.sum(probsArray * distances, axis = 1)**(1/2)"
   ]
  },
  {
   "cell_type": "code",
   "execution_count": null,
   "id": "43a22ca2-24e1-4233-95db-bb9dbcbbd6f2",
   "metadata": {},
   "outputs": [],
   "source": [
    "%%timeit\n",
    "\n",
    "yDim = densities[0][1].shape[1]\n",
    "\n",
    "lenList = list()\n",
    "probsList = list()\n",
    "valuesListDict = defaultdict(list)\n",
    "\n",
    "for probs, values in densities:\n",
    "    lenList.append(values.shape[0])\n",
    "    probsList.append(probs)\n",
    "    \n",
    "    for i in range(yDim):\n",
    "        valuesListDict[i].append(values[:, i])\n",
    "    \n",
    "lenMax = max(lenList)\n",
    "insertionCheck = np.arange(lenMax) < np.array(lenList)[:, None]\n",
    "\n",
    "#---\n",
    "\n",
    "valuesArrayList = list()\n",
    "\n",
    "for i in range(yDim):\n",
    "    valuesArray = np.zeros(shape = (len(densities), lenMax))\n",
    "    valuesArray[insertionCheck] = np.concatenate(valuesListDict[i], axis = 0)\n",
    "    \n",
    "    valuesArray = np.expand_dims(valuesArray, axis = 2)\n",
    "    \n",
    "    valuesArrayList.append(valuesArray)\n",
    "\n",
    "valuesArray = np.concatenate(valuesArrayList, axis = 2)\n",
    "valuesArray = np.swapaxes(valuesArray, axis1 = 1, axis2 = 2)\n",
    "\n",
    "probsArray = np.zeros(shape = (len(densities), lenMax))\n",
    "probsArray[insertionCheck] = np.concatenate(probsList, axis = 0)\n",
    "        \n",
    "yTestMod = np.expand_dims(a = yTest, axis = 2)\n",
    "\n",
    "#---\n",
    "\n",
    "distances = np.sum(np.abs(valuesArray - yTestMod)**2, axis = 1)\n",
    "wassersteinDists3 = np.sum(probsArray * distances, axis = 1)**(1/2)"
   ]
  },
  {
   "cell_type": "code",
   "execution_count": null,
   "id": "50712bd4-4d8b-4558-9062-862d044f8c09",
   "metadata": {},
   "outputs": [],
   "source": [
    "test = np.repeat(a = np.arange(lenMax).reshape(1, -1), repeats = nTest, axis = 0)\n",
    "test2 = np.expand_dims(test, axis = 2)\n",
    "\n",
    "test3 = np.repeat(a = test2, repeats = yDim, axis = 2)\n",
    "test4 = np.swapaxes(test3, axis1 = 1, axis2 = 2)\n",
    "\n",
    "comp = np.repeat(a = np.array(lenList).reshape(-1, 1), repeats = yDim, axis = 1)\n",
    "comp2 = np.expand_dims(comp, axis = 2)\n",
    "\n",
    "test5 = test4 < comp2\n",
    "\n",
    "valuesList = list()\n",
    "for probs, values in densities:\n",
    "     valuesList.append(values)\n",
    "        \n",
    "valuesArray = np.zeros(shape = (len(densities), yDim, lenMax))\n",
    "\n",
    "# valuesArray[test5] = np.concatenate(valuesList)"
   ]
  },
  {
   "cell_type": "code",
   "execution_count": null,
   "id": "56fef789-8b98-4928-9e1f-7ca62d1942c3",
   "metadata": {},
   "outputs": [],
   "source": [
    "np.arange(lenMax) < "
   ]
  },
  {
   "cell_type": "code",
   "execution_count": null,
   "id": "9b2eb383-d2c7-4aef-a8b3-3b0f22d49c9d",
   "metadata": {},
   "outputs": [],
   "source": [
    "test = np.arange(lenMax) < np.array(lenList)[:, None]\n"
   ]
  },
  {
   "cell_type": "code",
   "execution_count": null,
   "id": "d1c7e056-77ca-490a-93d7-394642f100a7",
   "metadata": {},
   "outputs": [],
   "source": []
  },
  {
   "cell_type": "code",
   "execution_count": null,
   "id": "7bbbbcd3-ef77-411d-a622-aa7a156dc552",
   "metadata": {},
   "outputs": [],
   "source": []
  },
  {
   "cell_type": "code",
   "execution_count": null,
   "id": "9fff1f94-2bcf-40d8-8547-8a0e1a36ca26",
   "metadata": {},
   "outputs": [],
   "source": []
  },
  {
   "cell_type": "code",
   "execution_count": null,
   "id": "de705015-4337-4bd9-9247-b8916b3f641e",
   "metadata": {},
   "outputs": [],
   "source": []
  },
  {
   "cell_type": "code",
   "execution_count": null,
   "id": "8c0633dd-a049-47a5-9a0c-0d3c39adbaac",
   "metadata": {},
   "outputs": [],
   "source": []
  },
  {
   "cell_type": "code",
   "execution_count": null,
   "id": "2247e5ce-5726-473d-aa3e-3d9cf4e4aa84",
   "metadata": {},
   "outputs": [],
   "source": [
    "test5.shape"
   ]
  },
  {
   "cell_type": "code",
   "execution_count": null,
   "id": "841e109f-138e-4733-bc8e-e22b162de3ec",
   "metadata": {},
   "outputs": [],
   "source": [
    "indices = np.array([[[1, 2, 3], [2, 3, 4]]])"
   ]
  },
  {
   "cell_type": "code",
   "execution_count": null,
   "id": "55e2b4ee-6ba3-409b-9e42-0c37b65d9a76",
   "metadata": {},
   "outputs": [],
   "source": [
    "valuesArray[indices].shape"
   ]
  },
  {
   "cell_type": "code",
   "execution_count": null,
   "id": "d1cb9437-e4ea-4a74-bac2-983981c7074c",
   "metadata": {},
   "outputs": [],
   "source": [
    "valuesList = [np.ravel([randint(low = 0, high = 10, size = 1) for i in range(int(randint(low = 1, high = 10, size = 1)))]) for j in range(100)]\n",
    "probsList = [np.ravel(np.array([uniform(low = 0, high = 1, size = 1) for i in range(valuesList[j].shape[0])])) for j in range(100)]\n",
    "probsList = [probs / probs.sum() for probs in probsList]\n",
    "\n",
    "yList = [np.ravel([randint(low = 0, high = 10, size = 1) for i in range(1)]) for j in range(100)]"
   ]
  },
  {
   "cell_type": "code",
   "execution_count": null,
   "id": "ee0d3f3a-f8f6-4212-8ee4-47a263065cc6",
   "metadata": {},
   "outputs": [],
   "source": [
    "test = np.stack(yList, axis = 2)\n",
    "test2 = test.reshape(test.shape[2], test.shape[1], test.shape[0])"
   ]
  },
  {
   "cell_type": "code",
   "execution_count": null,
   "id": "e201d497-3548-4122-b6fb-18509b441d5a",
   "metadata": {},
   "outputs": [],
   "source": [
    "test = np.array([np.arange(8)] * 100)\n",
    "test2 = np.swapaxes(np.expand_dims(a = test, axis = 2), axis1 = 0, axis2 = 2)"
   ]
  },
  {
   "cell_type": "code",
   "execution_count": null,
   "id": "baeef0bb-9bd3-44e0-9ea4-323642735b4a",
   "metadata": {},
   "outputs": [],
   "source": []
  },
  {
   "cell_type": "code",
   "execution_count": null,
   "id": "d9d3b157-049d-4740-8543-b3183150eb42",
   "metadata": {},
   "outputs": [],
   "source": [
    "np.allclose(distances, wassersteinDists)"
   ]
  },
  {
   "cell_type": "code",
   "execution_count": null,
   "id": "182db191-e754-438c-9a90-fb924124eac9",
   "metadata": {},
   "outputs": [],
   "source": [
    "np.array(wassersteinDists)"
   ]
  },
  {
   "cell_type": "code",
   "execution_count": null,
   "id": "b323cb55-0b86-4553-b9db-fb62abe02563",
   "metadata": {},
   "outputs": [],
   "source": [
    "lenAxis1 = valuesList[0].shape[1]\n",
    "lenAxis2 = len(valuesList)\n",
    "\n",
    "probsList2 = list()\n",
    "valuesList2 = list()\n",
    "lenList = list()\n",
    "yList2 = list()\n",
    "\n",
    "for i in range(len(valuesList)):\n",
    "    probsList2.append(probsList[i])\n",
    "    valuesList2.append(valuesList[i])\n",
    "    yList2.append(yList[i])\n",
    "    lenList.append(valuesList[i].shape[0])\n",
    "    \n",
    "lenMax = max(lenList)\n",
    "insertionCheckProbs = np.arange(lenMax) < np.array(lenList)[:, None]\n",
    "insertionCheckProbs = np.swapaxes(insertionCheckProbs, axis1 = 0, axis2 = 1)\n",
    "# insertionCheckValues = np.concatenate([insertionCheckProbs] * lenAxis1, axis = 1)\n",
    "\n",
    "probsArray = np.zeros(shape = (lenMax, lenAxis2))\n",
    "valuesArray = np.zeros(shape = (lenMax, lenAxis1, lenAxis2))\n",
    "\n",
    "valuesArray[insertionCheckProbs] = np.stack(valuesList, axis = 2)\n",
    "probsArray[insertionCheckProbs] = np.stack(probsList, axis = 1)\n",
    "\n",
    "valuesArray = np.stack(valuesList, axis = 2)\n",
    "probsArray = np.stack(probsList, axis = 1)\n",
    "yArray = np.stack(yList, axis = 2)\n",
    "\n",
    "distances = np.sum(np.abs(valuesArray - yArray)**2, axis = 1)\n",
    "\n",
    "test = np.sum(probsArray * distances, axis = 0)**(1/2)"
   ]
  },
  {
   "cell_type": "code",
   "execution_count": null,
   "id": "cbe91d19-ecfc-4b4c-86c1-05f78c93c590",
   "metadata": {},
   "outputs": [],
   "source": [
    "lenList = list()\n",
    "\n",
    "for i in range(len(valuesList)):\n",
    "    lenList.append(valuesList[i].shape[0])\n",
    "lenMax = max(lenList)\n",
    "\n",
    "insertionCheck = np.arange(lenMax) < np.array(lenList)[:, None, None]\n",
    "insertionCheck2 = np.repeat(a = insertionCheck, repeats = 8, axis = 1)\n",
    "\n",
    "# insertionCheckProbs = np.swapaxes(insertionCheckProbs, axis1 = 0, axis2 = 1)\n",
    "# insertionCheckValues = np.concatenate([insertionCheckProbs] * lenAxis1, axis = 1)\n",
    "\n",
    "probsArray = np.zeros(shape = (len(probsList), lenMax))\n",
    "valuesArray = np.zeros(shape = (len(probsList), valuesList[0].shape[1], lenMax))\n",
    "\n",
    "# probsArray[insertionCheck] = np.concatenate(probsList, axis = 0)\n",
    "valuesArray[insertionCheck2] = np.concatenate(valuesList, axis = 0)\n",
    "\n",
    "# valuesArray[insertionCheckProbs] = np.stack(valuesList, axis = 2)\n",
    "# probsArray[insertionCheckProbs] = np.stack(probsList, axis = 1)\n",
    "\n",
    "# valuesArray = np.stack(valuesList, axis = 2)\n",
    "# probsArray = np.stack(probsList, axis = 1)\n",
    "# yArray = np.stack(yList, axis = 2)\n",
    "\n",
    "# distances = np.sum(np.abs(valuesArray - yArray)**2, axis = 1)\n",
    "\n",
    "# test = np.sum(probsArray * distances, axis = 0)**(1/2)"
   ]
  },
  {
   "cell_type": "code",
   "execution_count": null,
   "id": "b9924886-0f99-47e4-95d7-03a531e44f20",
   "metadata": {},
   "outputs": [],
   "source": [
    "import itertools\n",
    "test = list(itertools.zip_longest(*valuesList, fillvalue = 0))\n",
    "test[0]\n",
    "itertools.zip_longest?"
   ]
  },
  {
   "cell_type": "code",
   "execution_count": null,
   "id": "d469ff51-f781-494b-a7a3-139e82f1c4cf",
   "metadata": {},
   "outputs": [],
   "source": [
    "valuesArray.shape"
   ]
  },
  {
   "cell_type": "code",
   "execution_count": null,
   "id": "d00ea7a4-e46c-48e9-8284-cf3f9dd6aac1",
   "metadata": {},
   "outputs": [],
   "source": [
    "valuesList[4].shape"
   ]
  },
  {
   "cell_type": "code",
   "execution_count": null,
   "id": "3af5e63f-2d45-4a96-a674-00cec48ef48e",
   "metadata": {},
   "outputs": [],
   "source": [
    "(np.arange(lenMax) < np.array(lenList)[:, None]).shape"
   ]
  },
  {
   "cell_type": "code",
   "execution_count": null,
   "id": "6c16bd26-63e8-43ea-a68a-14d56163fe0f",
   "metadata": {},
   "outputs": [],
   "source": [
    "probsArray"
   ]
  },
  {
   "cell_type": "code",
   "execution_count": null,
   "id": "4524ed92-4568-4a3d-8ca0-25496ebbbcd6",
   "metadata": {},
   "outputs": [],
   "source": [
    "valuesArray.shape"
   ]
  },
  {
   "cell_type": "code",
   "execution_count": null,
   "id": "6be72f7f-c1e1-480d-9290-5b8fd20e50ab",
   "metadata": {},
   "outputs": [],
   "source": [
    "insertionCheckProbs.shape"
   ]
  },
  {
   "cell_type": "code",
   "execution_count": null,
   "id": "99a35869-08cd-4c85-b68a-a1343c4d005b",
   "metadata": {},
   "outputs": [],
   "source": [
    "insertionCheckProbs.shape"
   ]
  },
  {
   "cell_type": "code",
   "execution_count": null,
   "id": "d9a68534-c172-44e3-ba6a-4022d5be180f",
   "metadata": {},
   "outputs": [],
   "source": [
    "valuesArray.shape"
   ]
  },
  {
   "cell_type": "markdown",
   "id": "024798e3-8abb-48d4-9d67-18347625e53d",
   "metadata": {},
   "source": [
    "## One dimensional"
   ]
  },
  {
   "cell_type": "code",
   "execution_count": null,
   "id": "304ddb77-1d82-44c0-8e22-c53c7c4324ad",
   "metadata": {},
   "outputs": [],
   "source": [
    "valuesList = [np.ravel([randint(low = 0, high = 10, size = 1) for i in range(10)]) for j in range(10000)]\n",
    "probsList = [np.ravel(np.array([uniform(low = 0, high = 1, size = 1) for i in range(10)])) for j in range(10000)]\n",
    "probsList = [probs / probs.sum() for probs in probsList]\n",
    "\n",
    "yList = [np.ravel([randint(low = 0, high = 10, size = 1) for i in range(1)]) for j in range(10000)]"
   ]
  },
  {
   "cell_type": "code",
   "execution_count": null,
   "id": "b7cbdeaa-e54e-4fed-87d1-4990bc1098a8",
   "metadata": {},
   "outputs": [],
   "source": [
    "wassersteinDists = list()\n",
    "    \n",
    "for i in range(len(valuesList)):\n",
    "    y = yList[i]\n",
    "    values = valuesList[i]\n",
    "    probs = probsList[i]\n",
    "    \n",
    "    values = values.reshape(-1, 1)\n",
    "    y = y.reshape(-1, 1)\n",
    "    \n",
    "    wassersteinDists.append(np.sum(probs * np.sum(np.abs(values - y)**2, axis = 1))**(1/2))"
   ]
  },
  {
   "cell_type": "code",
   "execution_count": null,
   "id": "f06b16c2-84e6-4ecb-a7a2-8f5c0017431b",
   "metadata": {},
   "outputs": [],
   "source": [
    "%%timeit\n",
    "\n",
    "valuesArray = np.stack(valuesList, axis = 2)\n",
    "yArray = np.stack(yList, axis = 2)\n",
    "probsArray = np.stack(probsList, axis = 1)\n",
    "\n",
    "distances = np.sum(np.abs(valuesArray - yArray)**2, axis = 1)\n",
    "\n",
    "test = np.sum(probsArray * distances, axis = 0)**(1/2)"
   ]
  },
  {
   "cell_type": "code",
   "execution_count": null,
   "id": "03c49655-78dd-4b19-a307-b66f5f642177",
   "metadata": {},
   "outputs": [],
   "source": []
  },
  {
   "cell_type": "code",
   "execution_count": null,
   "id": "4bf8893f-9efa-45a7-9d0c-6bc62bb6bc86",
   "metadata": {},
   "outputs": [],
   "source": []
  },
  {
   "cell_type": "code",
   "execution_count": null,
   "id": "27ae25f6-2fe7-4be0-9ab5-f83ac8c395e7",
   "metadata": {},
   "outputs": [],
   "source": [
    "wassersteinDists"
   ]
  },
  {
   "cell_type": "markdown",
   "id": "54c8acab-8ec2-477c-b2c1-9b72885f4608",
   "metadata": {},
   "source": [
    "# SCANN"
   ]
  },
  {
   "cell_type": "code",
   "execution_count": null,
   "id": "7db72ad2-b864-4353-8dd7-e0d9ab432574",
   "metadata": {},
   "outputs": [],
   "source": [
    "import numpy as np\n",
    "import h5py\n",
    "import os\n",
    "import requests\n",
    "import tempfile\n",
    "import time\n",
    "\n",
    "import scann"
   ]
  },
  {
   "cell_type": "code",
   "execution_count": null,
   "id": "60e553f2-3e69-4a89-b26e-6ea9035ed288",
   "metadata": {},
   "outputs": [],
   "source": [
    "with tempfile.TemporaryDirectory() as tmp:\n",
    "    response = requests.get(\"http://ann-benchmarks.com/glove-100-angular.hdf5\")\n",
    "    loc = os.path.join(tmp, \"glove.hdf5\")\n",
    "    with open(loc, 'wb') as f:\n",
    "        f.write(response.content)\n",
    "    \n",
    "    glove_h5py = h5py.File(loc, \"r\")"
   ]
  },
  {
   "cell_type": "code",
   "execution_count": null,
   "id": "750278cd-cbea-4b5e-9607-fe46a3599784",
   "metadata": {},
   "outputs": [],
   "source": [
    "list(glove_h5py.keys())"
   ]
  },
  {
   "cell_type": "code",
   "execution_count": null,
   "id": "f71a7a01-d250-431e-9cc1-4150bb936b73",
   "metadata": {},
   "outputs": [],
   "source": [
    "dataset = glove_h5py['train']\n",
    "queries = glove_h5py['test']\n",
    "print(dataset.shape)\n",
    "print(queries.shape)"
   ]
  },
  {
   "cell_type": "code",
   "execution_count": null,
   "id": "89ce1ddc-0a39-4047-9de7-a4fdb9e47165",
   "metadata": {},
   "outputs": [],
   "source": [
    "normalized_dataset = dataset / np.linalg.norm(dataset, axis=1)[:, np.newaxis]\n",
    "# configure ScaNN as a tree - asymmetric hash hybrid with reordering\n",
    "# anisotropic quantization as described in the paper; see README\n",
    "\n",
    "# use scann.scann_ops.build() to instead create a TensorFlow-compatible searcher\n",
    "searcher = scann.scann_ops_pybind.builder(normalized_dataset, 100, \"dot_product\").tree(\n",
    "    num_leaves=2000, num_leaves_to_search=100, training_sample_size=250000).score_ah(\n",
    "    2, anisotropic_quantization_threshold=0.2).reorder(100).build()"
   ]
  },
  {
   "cell_type": "code",
   "execution_count": null,
   "id": "e1d14329-101b-4c0b-ba38-d9770add8647",
   "metadata": {},
   "outputs": [],
   "source": [
    "def compute_recall(neighbors, true_neighbors):\n",
    "    total = 0\n",
    "    for gt_row, row in zip(true_neighbors, neighbors):\n",
    "        total += np.intersect1d(gt_row, row).shape[0]\n",
    "    return total / true_neighbors.size"
   ]
  },
  {
   "cell_type": "code",
   "execution_count": null,
   "id": "49cf0051-8314-4a3b-999a-5c0b0404fa8a",
   "metadata": {},
   "outputs": [],
   "source": [
    "# this will search the top 100 of the 2000 leaves, and compute\n",
    "# the exact dot products of the top 100 candidates from asymmetric\n",
    "# hashing to get the final top 10 candidates.\n",
    "start = time.time()\n",
    "neighbors, distances = searcher.search_batched(queries)\n",
    "end = time.time()\n",
    "\n",
    "# we are given top 100 neighbors in the ground truth, so select top 10\n",
    "print(\"Recall:\", compute_recall(neighbors, glove_h5py['neighbors'][:, :100]))\n",
    "print(\"Time:\", end - start)"
   ]
  },
  {
   "cell_type": "code",
   "execution_count": null,
   "id": "ae753e9a-8f68-40f1-95a7-32a6da3af12b",
   "metadata": {},
   "outputs": [],
   "source": [
    "start = time.time()\n",
    "neighbors, distances = searcher.search_batched(queries, leaves_to_search=500)\n",
    "end = time.time()\n",
    "\n",
    "print(\"Recall:\", compute_recall(neighbors, glove_h5py['neighbors'][:, :100]))\n",
    "print(\"Time:\", end - start)"
   ]
  },
  {
   "cell_type": "code",
   "execution_count": null,
   "id": "53da0e94-b09a-47be-bca2-e67e0dd8436b",
   "metadata": {},
   "outputs": [],
   "source": [
    "neighbors"
   ]
  },
  {
   "cell_type": "markdown",
   "id": "3bfacacd-5ba8-439b-8c78-1bd879faf556",
   "metadata": {
    "tags": []
   },
   "source": [
    "# Multivariate Preds Test"
   ]
  },
  {
   "cell_type": "code",
   "execution_count": null,
   "id": "b4d68038-1e99-4aab-8951-ed12f7f5f259",
   "metadata": {},
   "outputs": [],
   "source": [
    "a = np.array([randint(low = 0, high = 10000, size = 4) for i in range(1000)])\n",
    "# a = np.concatenate([a, np.array([np.arange(2)] * 10)], axis = 0)\n",
    "a.shape"
   ]
  },
  {
   "cell_type": "markdown",
   "id": "b285c22e-cca1-4680-8f8c-1eaa7ba5d02d",
   "metadata": {},
   "source": [
    "## Clustering"
   ]
  },
  {
   "cell_type": "code",
   "execution_count": null,
   "id": "7accc949-7aec-4cc3-b9ae-9cebd22b8810",
   "metadata": {},
   "outputs": [],
   "source": [
    "from sklearn.cluster import KMeans\n",
    "from scipy.spatial.distance import cdist\n",
    "from scipy.optimize import linear_sum_assignment\n",
    "import numpy as np\n",
    "from faiss import Kmeans\n",
    "\n",
    "def get_even_clusters(X, cluster_size):\n",
    "    n_clusters = int(np.ceil(len(X)/cluster_size))\n",
    "    kmeans = Kmeans(d = X.shape[1], k = n_clusters)\n",
    "    \n",
    "    start = time.time()\n",
    "    kmeans.train(X)\n",
    "    print(time.time() - start)\n",
    "    \n",
    "    centers = kmeans.centroids\n",
    "    centers = centers.reshape(-1, 1, X.shape[-1]).repeat(cluster_size, 1).reshape(-1, X.shape[-1])\n",
    "    \n",
    "    start = time.time()\n",
    "    distance_matrix = cdist(X, centers)\n",
    "    print(time.time() - start)\n",
    "    \n",
    "    start = time.time()\n",
    "    clusters = linear_sum_assignment(distance_matrix)[1]//cluster_size\n",
    "    print(time.time() - start)\n",
    "    \n",
    "    return centers"
   ]
  },
  {
   "cell_type": "code",
   "execution_count": null,
   "id": "07626765-3bb0-4ecf-9210-bf8302d66431",
   "metadata": {},
   "outputs": [],
   "source": [
    "X = a.astype(np.float32)\n",
    "cluster_size = 100\n",
    "\n",
    "import time\n",
    "import ipdb\n",
    "\n",
    "res = get_even_clusters(X, cluster_size)\n"
   ]
  },
  {
   "cell_type": "code",
   "execution_count": null,
   "id": "01bc393c-3559-44f5-b46d-408d46831122",
   "metadata": {},
   "outputs": [],
   "source": [
    "Counter(res)"
   ]
  },
  {
   "cell_type": "code",
   "execution_count": null,
   "id": "cdcd213c-737b-4430-8153-2253ec62cd26",
   "metadata": {},
   "outputs": [],
   "source": [
    "X = a.astype(np.float32)\n",
    "kmeans = KMeans(n_clusters)\n",
    "\n",
    "kmeans.fit(X)"
   ]
  },
  {
   "cell_type": "code",
   "execution_count": null,
   "id": "64b0b5fa-d739-4bcd-ae1b-29b07373ad53",
   "metadata": {},
   "outputs": [],
   "source": [
    "centers = kmeans.cluster_centers_"
   ]
  },
  {
   "cell_type": "code",
   "execution_count": null,
   "id": "0c0ad6fb-6a67-49c7-856e-b11339c3544d",
   "metadata": {},
   "outputs": [],
   "source": [
    "centers = centers.reshape(-1, 1, X.shape[-1]).repeat(cluster_size, 1).reshape(-1, X.shape[-1])\n",
    "distance_matrix = cdist(X, centers)"
   ]
  },
  {
   "cell_type": "code",
   "execution_count": null,
   "id": "8794e534-f092-4656-8359-b0121a2817d0",
   "metadata": {},
   "outputs": [],
   "source": [
    "clusters = linear_sum_assignment(distance_matrix)[1]//cluster_size"
   ]
  },
  {
   "cell_type": "code",
   "execution_count": null,
   "id": "4d3ec3ac-12b7-4af3-a154-86d9ba6b910d",
   "metadata": {},
   "outputs": [],
   "source": []
  },
  {
   "cell_type": "code",
   "execution_count": null,
   "id": "176a26be-50be-4396-b98a-2f27e71c27ba",
   "metadata": {},
   "outputs": [],
   "source": [
    "from faiss import Kmeans"
   ]
  },
  {
   "cell_type": "code",
   "execution_count": null,
   "id": "8b42e824-931f-4a9e-b44b-a9b1386c9b6d",
   "metadata": {},
   "outputs": [],
   "source": [
    "n_init = 10\n",
    "max_iter = 300\n",
    "# kmeans = faiss.Kmeans(d = X.shape[1], k = n_clusters, niter = max_iter, nredo = n_init)\n",
    "kmeans = Kmeans(d = X.shape[1], k = 100)\n",
    "kmeans.train(X.astype(np.float32))"
   ]
  },
  {
   "cell_type": "code",
   "execution_count": null,
   "id": "6b25499f-2f1b-4fce-a10c-c819bc2bd4e7",
   "metadata": {},
   "outputs": [],
   "source": [
    "res = kmeans.assign(X.astype(np.float32))"
   ]
  },
  {
   "cell_type": "code",
   "execution_count": null,
   "id": "fb94a656-fc39-4238-a3dd-c0071c3afb01",
   "metadata": {},
   "outputs": [],
   "source": [
    "kmeans.centroids"
   ]
  },
  {
   "cell_type": "code",
   "execution_count": null,
   "id": "0b43fb83-5411-461c-bf79-3cc44b6975ba",
   "metadata": {},
   "outputs": [],
   "source": [
    "from collections import Counter\n",
    "Counter(res[1])"
   ]
  },
  {
   "cell_type": "markdown",
   "id": "90d99e24-58cd-4b11-93fd-0ff3a4e03b15",
   "metadata": {},
   "source": [
    "## kNN"
   ]
  },
  {
   "cell_type": "code",
   "execution_count": null,
   "id": "6e754f36-7f89-4d1f-baee-327701086aa8",
   "metadata": {},
   "outputs": [],
   "source": [
    "kd = KDTree(data_pts = a)"
   ]
  },
  {
   "cell_type": "code",
   "execution_count": null,
   "id": "b99d4faa-2dbb-48e2-b267-03c810a1b488",
   "metadata": {},
   "outputs": [],
   "source": [
    "start = time.time()\n",
    "dist, idx = kd.query(a, k = 2000)\n",
    "print(time.time() - start)"
   ]
  },
  {
   "cell_type": "code",
   "execution_count": null,
   "id": "cf58216f-97ee-472d-9628-806df2e1d4e5",
   "metadata": {},
   "outputs": [],
   "source": [
    "idx"
   ]
  },
  {
   "cell_type": "code",
   "execution_count": null,
   "id": "b8535378-301a-46e6-89a3-096e0dde1079",
   "metadata": {},
   "outputs": [],
   "source": [
    "nn = NearestNeighbors(algorithm = 'kd_tree')"
   ]
  },
  {
   "cell_type": "code",
   "execution_count": null,
   "id": "12731a1a-a9e8-438c-8859-e7a63e6c6e40",
   "metadata": {},
   "outputs": [],
   "source": [
    "nn.fit(a)"
   ]
  },
  {
   "cell_type": "code",
   "execution_count": null,
   "id": "257d8dfb-4ce0-4ae8-95bf-2a2e924b3b80",
   "metadata": {},
   "outputs": [],
   "source": [
    "start = time.time()\n",
    "idx2 = nn.kneighbors(a, n_neighbors = 10000, return_distance = False)\n",
    "print(time.time() - start)"
   ]
  },
  {
   "cell_type": "code",
   "execution_count": null,
   "id": "50373e18-2e2f-4a10-b10a-7b253b8937da",
   "metadata": {},
   "outputs": [],
   "source": [
    "np.array_equal(idx, idx2)"
   ]
  },
  {
   "cell_type": "code",
   "execution_count": null,
   "id": "9f8258e4-28b3-4154-a90d-052fb230cd99",
   "metadata": {},
   "outputs": [],
   "source": [
    "def bad_append(new_item, a_list=[]):\n",
    "    a_list.append(new_item)\n",
    "    return a_list"
   ]
  },
  {
   "cell_type": "code",
   "execution_count": null,
   "id": "0783b292-6624-42e2-bbe6-3b5480e12fdc",
   "metadata": {},
   "outputs": [],
   "source": [
    "bad_append('one', a_list = [1, 2])\n",
    "print(bad_append('one', a_list = [1, 2]))"
   ]
  },
  {
   "cell_type": "code",
   "execution_count": null,
   "id": "756b6b05-54d1-4877-9ccf-5ab56957fac3",
   "metadata": {},
   "outputs": [],
   "source": [
    "def good_append(new_item, a_list=None):\n",
    "    if a_list is None:\n",
    "        a_list = []\n",
    "    a_list.append(new_item)\n",
    "    return a_list"
   ]
  },
  {
   "cell_type": "code",
   "execution_count": null,
   "id": "85604191-b1a2-4eb5-a3cf-15f04284afa1",
   "metadata": {},
   "outputs": [],
   "source": [
    "print(good_append('one'))"
   ]
  },
  {
   "cell_type": "code",
   "execution_count": null,
   "id": "610c05e0-4e92-4cb8-ace5-d31a709ee9f1",
   "metadata": {},
   "outputs": [],
   "source": [
    "import numpy as np\n",
    "import pandas as pd\n",
    "import os\n",
    "from random import sample\n",
    "\n",
    "from lightgbm import LGBMRegressor\n",
    "from dddex.levelSetKDEx import LevelSetKDEx, binSizeCV\n",
    "from dddex.utils import groupedTimeSeriesSplit"
   ]
  },
  {
   "cell_type": "code",
   "execution_count": null,
   "id": "a80ac390-594e-4363-b6b9-f9af98071d6c",
   "metadata": {},
   "outputs": [],
   "source": [
    "path = ('/home/kagu/yaz_trainingData/dataYaz.csv')\n",
    "data = pd.read_csv(path)"
   ]
  },
  {
   "cell_type": "code",
   "execution_count": null,
   "id": "bd813a00-3f38-42ee-9571-c0301360be76",
   "metadata": {},
   "outputs": [],
   "source": [
    "dataTrain = data[data['label'] == 'train'].reset_index(drop = True)\n",
    "dataTest = data[data['label'] == 'test']\n",
    "\n",
    "XTrain = dataTrain.drop(['dayIndex', 'label', 'id', 'demand'], axis = 1)\n",
    "XTest = dataTest.drop(['dayIndex', 'label', 'id', 'demand'], axis = 1)\n",
    "\n",
    "yTrain = dataTrain['demand']\n",
    "yTest = dataTest['demand']"
   ]
  },
  {
   "cell_type": "code",
   "execution_count": null,
   "id": "e65b8e43-27c8-4dcd-be22-01cfbd1e345a",
   "metadata": {},
   "outputs": [],
   "source": [
    "LGBM = LGBMRegressor(n_jobs = 1)\n",
    "LGBM.fit(X = XTrain, y = yTrain)"
   ]
  },
  {
   "cell_type": "code",
   "execution_count": null,
   "id": "4ba0f721-d324-4fbb-a1e4-fc21a5c5ac4d",
   "metadata": {},
   "outputs": [],
   "source": [
    "cvFolds = groupedTimeSeriesSplit(data = dataTrain, kFolds = 2, testLength = 28, groupFeature = 'id', timeFeature = 'dayIndex')"
   ]
  },
  {
   "cell_type": "code",
   "execution_count": null,
   "id": "f3c30d83-31fb-426a-b12f-4b8c237f668c",
   "metadata": {},
   "outputs": [],
   "source": [
    "res = binSizeCV(estimator = LGBM,\n",
    "                binSizeGrid = [100, 200],\n",
    "                cv = cvFolds,\n",
    "                LSF_type = 'LSF')"
   ]
  },
  {
   "cell_type": "code",
   "execution_count": null,
   "id": "7d1e8425-7954-4c05-bf16-1823207baf8a",
   "metadata": {},
   "outputs": [],
   "source": [
    "res.fit(X = XTrain, y = yTrain)"
   ]
  },
  {
   "cell_type": "markdown",
   "id": "d3be97da-1159-4fc2-8c78-1f2dc9f890e6",
   "metadata": {},
   "source": [
    "# Cross Validation - Timing"
   ]
  },
  {
   "cell_type": "code",
   "execution_count": null,
   "id": "97e440b1-fe5b-40b2-a5ac-2d25627eda2f",
   "metadata": {},
   "outputs": [],
   "source": [
    "import numpy as np\n",
    "import pandas as pd\n",
    "\n",
    "from dddex.crossValidation import *\n",
    "from dddex.levelSetKDEx_univariate import *\n",
    "from dddex.loadData import loadDataYaz\n",
    "\n",
    "from lightgbm import LGBMRegressor\n",
    "from sklearn.model_selection import GridSearchCV\n",
    "\n",
    "import time"
   ]
  },
  {
   "cell_type": "code",
   "execution_count": null,
   "id": "3f579035-22b0-4156-8ffd-a0abe8c6fb86",
   "metadata": {},
   "outputs": [],
   "source": [
    "data, XTrain, yTrain, XTest, yTest = loadDataYaz()"
   ]
  },
  {
   "cell_type": "code",
   "execution_count": null,
   "id": "0f0a3112-3aed-4cf4-aac4-aa62e1fe2d94",
   "metadata": {},
   "outputs": [],
   "source": [
    "LGBM = LGBMRegressor(n_jobs = 1)\n",
    "LSKDEx = LevelSetKDEx(estimator = LGBM)"
   ]
  },
  {
   "cell_type": "code",
   "execution_count": null,
   "id": "4f3a58fc-73d6-4301-a876-8732e218db56",
   "metadata": {},
   "outputs": [],
   "source": [
    "paramGridLSx = {'binSize': [20, 50, 100, 150, 200, 250, 400, 600, 800, 1000],\n",
    "                'weightsByDistance': [False, True]}\n",
    "\n",
    "paramGridEstimator = {'max_depth': [4],\n",
    "                      'n_estimators': [100]}"
   ]
  },
  {
   "cell_type": "code",
   "execution_count": null,
   "id": "e7bf39d8-311c-42d8-a0f2-4af6d4eeb6a7",
   "metadata": {},
   "outputs": [],
   "source": [
    "dataTrain = data[data.label == 'train']\n",
    "\n",
    "cvFolds = groupedTimeSeriesSplit(data = dataTrain, \n",
    "                                 kFolds = 5, \n",
    "                                 testLength = 28, \n",
    "                                 groupFeature = 'id', \n",
    "                                 timeFeature = 'dayIndex')"
   ]
  },
  {
   "cell_type": "code",
   "execution_count": null,
   "id": "52595584-9884-4329-9367-f306c80bfddb",
   "metadata": {},
   "outputs": [],
   "source": [
    "%%timeit \n",
    "\n",
    "CV = CrossValidationLSx_combined(estimatorLSx = LSKDEx,\n",
    "                                 cvFolds = cvFolds,\n",
    "                                 parameterGridLSx = paramGridLSx,\n",
    "                                 parameterGridEstimator = paramGridEstimator,\n",
    "                                 probs = np.arange(0.01, 0.99, 0.01),\n",
    "                                 refitPerProb = False,\n",
    "                                 n_jobs = len(cvFolds))\n",
    "\n",
    "CV.fit(XTrain, yTrain)"
   ]
  },
  {
   "cell_type": "code",
   "execution_count": null,
   "id": "8fdbd450-fc88-4cae-b185-ba414821f8cb",
   "metadata": {},
   "outputs": [],
   "source": [
    "start = time.time()\n",
    "\n",
    "CV = GridSearchCV(estimator = LGBM,\n",
    "                  cv = cvFolds,\n",
    "                  param_grid = paramGridEstimator,\n",
    "                  scoring = 'neg_mean_squared_error',\n",
    "                  refit = False,\n",
    "                  n_jobs = len(cvFolds),\n",
    "                  return_train_score = True,\n",
    "                  verbose = 0)\n",
    "\n",
    "CV.fit(XTrain, yTrain)\n",
    "\n",
    "print(time.time() - start)"
   ]
  },
  {
   "cell_type": "code",
   "execution_count": null,
   "id": "67751b0f-2d06-49d8-ad54-c504c36744e2",
   "metadata": {},
   "outputs": [],
   "source": [
    "%%timeit\n",
    "\n",
    "CV = QuantileCrossValidation(quantileEstimator = LSKDEx,\n",
    "                             cvFolds = cvFolds,\n",
    "                             parameterGrid = paramGridLSx,\n",
    "                             probs = np.arange(0.01, 0.99, 0.01),\n",
    "                             refitPerProb = False,\n",
    "                             n_jobs = len(cvFolds))\n",
    "\n",
    "CV.fit(XTrain, yTrain)"
   ]
  },
  {
   "cell_type": "code",
   "execution_count": null,
   "id": "969eb52e-5691-4062-82f6-c91ad5217fc3",
   "metadata": {},
   "outputs": [],
   "source": [
    "%%timeit\n",
    "\n",
    "CV = DensityCrossValidation(estimator = LSKDEx,\n",
    "                            cvFolds = cvFolds,\n",
    "                            parameterGrid = paramGridLSx,\n",
    "                            p = 1,\n",
    "                            n_jobs = len(cvFolds))\n",
    "\n",
    "CV.fit(XTrain, yTrain)"
   ]
  },
  {
   "cell_type": "markdown",
   "id": "08b02920-22cd-45d2-8113-af7b609f2ebe",
   "metadata": {},
   "source": [
    "# Kernel Matrix Inversion"
   ]
  },
  {
   "cell_type": "code",
   "execution_count": null,
   "id": "c34d9432-77f6-468d-949e-f2164d7a4397",
   "metadata": {},
   "outputs": [],
   "source": [
    "import numpy as np\n",
    "import pandas as pd\n",
    "\n",
    "from dddex.crossValidation import *\n",
    "from dddex.levelSetKDEx_univariate import *\n",
    "from dddex.loadData import loadDataYaz\n",
    "\n",
    "from lightgbm import LGBMRegressor\n",
    "from sklearn.model_selection import GridSearchCV\n",
    "\n",
    "import time\n",
    "import ipdb"
   ]
  },
  {
   "cell_type": "code",
   "execution_count": null,
   "id": "e1ac8939-40bb-406f-b606-454882a300a4",
   "metadata": {},
   "outputs": [],
   "source": [
    "data, XTrain, yTrain, XTest, yTest = loadDataYaz()"
   ]
  },
  {
   "cell_type": "code",
   "execution_count": null,
   "id": "ea61e734-4e63-492a-b602-6be60d5b5ff4",
   "metadata": {},
   "outputs": [],
   "source": [
    "LGBM = LGBMRegressor(n_jobs = 1)\n",
    "LGBM.fit(XTrain, yTrain)\n",
    "\n",
    "LSKDEx = LevelSetKDEx(estimator = LGBM, \n",
    "                      binSize = 100)\n",
    "LSKDEx.fit(XTrain, yTrain)"
   ]
  },
  {
   "cell_type": "code",
   "execution_count": null,
   "id": "2bf9e2ae-d2af-4d57-a491-5d39763c601a",
   "metadata": {},
   "outputs": [],
   "source": [
    "yPred = LGBM.predict(XTrain)[0:10]\n",
    "binPerPred = np.searchsorted(a = LSKDEx.lowerBoundPerBin, v = yPred, side = 'right') - 1"
   ]
  },
  {
   "cell_type": "code",
   "execution_count": null,
   "id": "ee192616-5719-4d73-a79e-336cb9c4119a",
   "metadata": {},
   "outputs": [],
   "source": [
    "binVectors = [(binPerPred == i).reshape(-1, 1) * 1 for i in range(len(LSKDEx.lowerBoundPerBin))]\n",
    "binVectorsToSlice = [np.where(binVector)[0] for binVector in binVectors]"
   ]
  },
  {
   "cell_type": "code",
   "execution_count": null,
   "id": "4f28a7b0-166b-49f4-9c18-7827f11aebaa",
   "metadata": {},
   "outputs": [],
   "source": [
    "sigma = 0.5\n",
    "sigmaI = np.identity(yPred.shape[0]) * sigma"
   ]
  },
  {
   "cell_type": "code",
   "execution_count": null,
   "id": "7a9170e7-67dc-4e38-9a69-f57135c77740",
   "metadata": {},
   "outputs": [],
   "source": [
    "kernelMatrixList = [np.matmul(binVector, binVector.T) for binVector in binVectors]"
   ]
  },
  {
   "cell_type": "code",
   "execution_count": null,
   "id": "d349e3dc-2acb-45f3-b6c9-69c8faa657de",
   "metadata": {},
   "outputs": [],
   "source": [
    "kernelMatrix = kernelMatrixList[0] + sigmaI"
   ]
  },
  {
   "cell_type": "code",
   "execution_count": null,
   "id": "ac2b32e8-487c-45e4-a16a-10965b1e23a0",
   "metadata": {},
   "outputs": [],
   "source": [
    "sigmaInverse = np.identity(yPred.shape[0]) * sigma**(-1)\n",
    "\n",
    "comp = np.sum(sigmaInverse[:, binVectorsToSlice[0]], axis = 1).reshape(-1, 1)\n",
    "\n",
    "correctionMatrix = np.matmul(comp, comp.T)\n",
    "denominator = 1 + np.sum(comp[binVectorsToSlice[0]])\n",
    "correctionMatrix = correctionMatrix / denominator\n",
    "\n",
    "kernelInvers = sigmaInverse - correctionMatrix"
   ]
  },
  {
   "cell_type": "code",
   "execution_count": null,
   "id": "46cb6100-8573-4678-bbf7-2f038a0d2626",
   "metadata": {},
   "outputs": [],
   "source": [
    "identity = np.matmul(kernelMatrix, kernelInvers)"
   ]
  },
  {
   "cell_type": "code",
   "execution_count": null,
   "id": "4a0c247b-79e2-45ec-8d14-7f1a16410021",
   "metadata": {},
   "outputs": [],
   "source": [
    "np.allclose(np.identity(yPred.shape[0]), identity)"
   ]
  },
  {
   "cell_type": "markdown",
   "id": "ad434a25-53a0-42b4-b18e-0e81750d209a",
   "metadata": {},
   "source": [
    "## GLS Approach"
   ]
  },
  {
   "cell_type": "code",
   "execution_count": null,
   "id": "2c747a21-83ef-47e5-85d1-e2237f450bbc",
   "metadata": {},
   "outputs": [],
   "source": [
    "import numpy as np\n",
    "import pandas as pd\n",
    "\n",
    "from dddex.levelSetKDEx_univariate import *\n",
    "from dddex.loadData import loadDataYaz\n",
    "\n",
    "from lightgbm import LGBMRegressor\n",
    "\n",
    "import time\n",
    "import ipdb"
   ]
  },
  {
   "cell_type": "code",
   "execution_count": null,
   "id": "40d1bb76-4a10-4e09-852b-4043dd7e2d97",
   "metadata": {},
   "outputs": [],
   "source": [
    "data, XTrain, yTrain, XTest, yTest = loadDataYaz()"
   ]
  },
  {
   "cell_type": "code",
   "execution_count": null,
   "id": "c5f3cc7c-4e3e-4cb7-b838-f99ced775944",
   "metadata": {},
   "outputs": [],
   "source": [
    "n = 20\n",
    "\n",
    "XTrainDup = np.concatenate([XTrain] * n, axis = 0)\n",
    "yTrainDup = np.concatenate([yTrain] * n, axis = 0)\n",
    "\n",
    "LGBM = LGBMRegressor(n_jobs = 1)\n",
    "LGBM.fit(XTrain, yTrain)\n",
    "\n",
    "LSKDEx = LevelSetKDEx(estimator = LGBM, \n",
    "                      binSize = 100 * n )\n",
    "LSKDEx.fit(XTrainDup, yTrainDup)"
   ]
  },
  {
   "cell_type": "code",
   "execution_count": null,
   "id": "0a3d87ef-d60f-40dc-b0b9-86e74e640d2d",
   "metadata": {},
   "outputs": [],
   "source": [
    "yPred = LGBM.predict(XTrainDup)\n",
    "binPerPred = np.searchsorted(a = LSKDEx.lowerBoundPerBin, v = yPred, side = 'right') - 1\n",
    "\n",
    "binVectors = [(binPerPred == i).reshape(-1, 1) * 1 for i in range(len(LSKDEx.lowerBoundPerBin))]\n",
    "binVectorsToSlice = [np.where(binVector)[0] for binVector in binVectors]"
   ]
  },
  {
   "cell_type": "code",
   "execution_count": null,
   "id": "4652f05f-d9b8-47c3-9a91-4903c10af0ea",
   "metadata": {},
   "outputs": [],
   "source": [
    "c = np.array([np.arange(binVectors[0].shape[0])] * 10).T\n",
    "sigma = 0.5"
   ]
  },
  {
   "cell_type": "code",
   "execution_count": null,
   "id": "6cc82b04-59f4-46f6-ac50-7c159a71117d",
   "metadata": {},
   "outputs": [],
   "source": [
    "start = time.time()\n",
    "\n",
    "nObs = binVectors[0].shape[0]\n",
    "A = np.zeros(shape = (nObs, nObs))\n",
    "\n",
    "for v in binVectorsToSlice:\n",
    "    A[v[:, None], v] = 1\n",
    "    \n",
    "print(time.time() - start)"
   ]
  },
  {
   "cell_type": "code",
   "execution_count": null,
   "id": "0441cc85-eb80-49b1-8a2e-893b32029fad",
   "metadata": {},
   "outputs": [],
   "source": [
    "%%timeit\n",
    "nObs = binVectors[0].shape[0]\n",
    "A = np.zeros(shape = (nObs, nObs))\n",
    "\n",
    "for v in binVectorsToSlice:\n",
    "    A[v[:, None], v] = 1"
   ]
  },
  {
   "cell_type": "code",
   "execution_count": null,
   "id": "230722e7-e1d8-420c-9a11-5d6187cd6495",
   "metadata": {},
   "outputs": [],
   "source": [
    "np.allclose(A, kernelMatrix)"
   ]
  },
  {
   "cell_type": "code",
   "execution_count": null,
   "id": "dc446447-239f-46ce-b2d3-12d3cb6d30c2",
   "metadata": {
    "tags": []
   },
   "outputs": [],
   "source": [
    "A0 = np.identity(yPred.shape[0]) * sigma\n",
    "\n",
    "kernelMatrixList = [np.matmul(binVector, binVector.T) for binVector in binVectors]\n",
    "kernelMatrix = A0 + sum(kernelMatrixList)\n",
    "\n",
    "res = np.matmul(kernelMatrix, LSKDEx.solveKernelGLS(X = XTrainDup, sigma = sigma, c = c))"
   ]
  },
  {
   "cell_type": "code",
   "execution_count": null,
   "id": "0bdaaa88-279b-46ed-abc9-25087d72f0f5",
   "metadata": {},
   "outputs": [],
   "source": [
    "res2 = np.matmul(kernelMatrix, c)"
   ]
  },
  {
   "cell_type": "code",
   "execution_count": null,
   "id": "93508127-4ba4-442d-bedb-f7d673712ab7",
   "metadata": {},
   "outputs": [],
   "source": [
    "testList = [np.arange(1000) for i in range(100)]"
   ]
  },
  {
   "cell_type": "code",
   "execution_count": null,
   "id": "9e0367eb-5c99-4ef2-b128-0235054842bb",
   "metadata": {},
   "outputs": [],
   "source": [
    "%%timeit\n",
    "sum(testList).shape"
   ]
  },
  {
   "cell_type": "code",
   "execution_count": null,
   "id": "e88cae50-7dca-40fe-94fd-c47429abed74",
   "metadata": {},
   "outputs": [],
   "source": [
    "%%timeit\n",
    "np.sum(testList, axis = 0)"
   ]
  },
  {
   "cell_type": "code",
   "execution_count": null,
   "id": "f6ae3387-bba9-4e9b-ab62-70b551af3eeb",
   "metadata": {},
   "outputs": [],
   "source": [
    "def getNewSolution(u, x, y):\n",
    "    \n",
    "    if len(u.shape) == 1:\n",
    "        u.reshape(-1, 1)\n",
    "        \n",
    "    uSlice = np.where(u == 1)[0]\n",
    "    \n",
    "    ux = np.sum(x[uSlice, :], axis = 0, keepdims = True)\n",
    "    xNew = x - np.matmul(y, ux) / (1 + np.sum(y[uSlice]))\n",
    "    \n",
    "    return xNew"
   ]
  },
  {
   "cell_type": "code",
   "execution_count": null,
   "id": "189aa377-09af-48bc-a25e-54d282fcbd20",
   "metadata": {},
   "outputs": [],
   "source": [
    "def solveGLS_initial(sigma, u, c):\n",
    "    \n",
    "    if len(u.shape) == 1:\n",
    "        u = u.reshape(-1, 1)\n",
    "        \n",
    "    if len(c.shape) == 1:\n",
    "        c = c.reshape(-1, 1)\n",
    "    \n",
    "    x = c * sigma**(-1)\n",
    "    y = u * sigma**(-1)\n",
    "    \n",
    "    return getNewSolution(u = u, x = x, y = y)"
   ]
  },
  {
   "cell_type": "code",
   "execution_count": null,
   "id": "6148c878-ce9c-409f-a30a-7f06f0881c5c",
   "metadata": {},
   "outputs": [],
   "source": [
    "start = time.time()\n",
    "\n",
    "# CALCULATING ALL NECESSARY y's\n",
    "\n",
    "yDict = dict()\n",
    "\n",
    "# Loop for A_k^-1 y = u_k\n",
    "for k in range(len(binVectors)):\n",
    "        \n",
    "    # Loop for A_j^-1 y = u_k\n",
    "    for j in range(k):\n",
    "\n",
    "        if j == 0:\n",
    "            yDict[(0, k)] = solveGLS_initial(sigma = sigma, u = binVectors[0], c = binVectors[k])\n",
    "\n",
    "        else:\n",
    "            yDict[j, k] = getNewSolution(u = binVectors[j], x = yDict[(j - 1, k)], y = yDict[(j - 1, j)])   \n",
    "    \n",
    "    #---\n",
    "    \n",
    "    if k == 0:\n",
    "        x = solveGLS_initial(sigma = sigma, u = binVectors[0], c = c)\n",
    "    else:\n",
    "        x = getNewSolution(u = binVectors[k], x = x, y = yDict[(k - 1, k)])\n",
    "        \n",
    "print(time.time() - start)"
   ]
  },
  {
   "cell_type": "code",
   "execution_count": null,
   "id": "97802e2d-03d2-43c6-845c-a80d636c0115",
   "metadata": {},
   "outputs": [],
   "source": [
    "A0 = np.identity(yPred.shape[0]) * sigma\n",
    "\n",
    "kernelMatrixList = [np.matmul(binVector, binVector.T) for binVector in binVectors]\n",
    "kernelMatrix = A0 + sum(kernelMatrixList)\n",
    "\n",
    "res = np.matmul(kernelMatrix, x)"
   ]
  },
  {
   "cell_type": "code",
   "execution_count": null,
   "id": "152f83b5-323f-499e-967e-8aa39f7c3e14",
   "metadata": {},
   "outputs": [],
   "source": []
  },
  {
   "cell_type": "code",
   "execution_count": null,
   "id": "926e4733-647b-4e85-9498-bf2473cda9ba",
   "metadata": {},
   "outputs": [],
   "source": [
    "def solveGLS_initial2(sigma, u, c):\n",
    "    \n",
    "    if len(u.shape) == 1:\n",
    "        u = u.reshape(-1, 1)\n",
    "        \n",
    "    if len(c.shape) == 1:\n",
    "        c = c.reshape(-1, 1)\n",
    "    \n",
    "    #---\n",
    "    \n",
    "    uSlice = np.where(u == 1)[0]\n",
    "    \n",
    "    x = c * sigma**(-1)\n",
    "    y = u * sigma**(-1)\n",
    "    \n",
    "    ux = np.sum(x[uSlice, :], axis = 0, keepdims = True)\n",
    "    xNew = x - np.matmul(y, ux) / (1 + np.sum(y[uSlice]))\n",
    "    \n",
    "    return xNew"
   ]
  },
  {
   "cell_type": "code",
   "execution_count": null,
   "id": "13222df2-36ad-4f5e-83dd-0bef3c0f927e",
   "metadata": {},
   "outputs": [],
   "source": [
    "# MULTI-DIMENSIONAL\n",
    "\n",
    "u = np.array([1, 0, 1]).reshape(-1, 1)\n",
    "c = np.array([[1, 1],\n",
    "              [2, 2],\n",
    "              [3, 3]])\n",
    "sigma = 0.5\n",
    "\n",
    "x = solveGLS_initial(sigma = sigma, u = u, c = c)\n",
    "\n",
    "np.matmul(np.identity(u.shape[0]) * sigma + np.matmul(u, u.T), x)"
   ]
  },
  {
   "cell_type": "code",
   "execution_count": null,
   "id": "6bc851ee-be47-4c72-8bbc-1afaf8ba5bcc",
   "metadata": {},
   "outputs": [],
   "source": [
    "# ONE-DIMENSIONAL\n",
    "\n",
    "u = np.array([1, 0, 1]).reshape(-1, 1)\n",
    "c = np.array([1, 2, 3]).reshape(-1, 1)\n",
    "sigma = 0.5\n",
    "\n",
    "x = solveGLS_initial(sigma = sigma, u = u, c = c)\n",
    "\n",
    "np.matmul(np.identity(u.shape[0]) * sigma + np.matmul(u, u.T), x)"
   ]
  },
  {
   "cell_type": "code",
   "execution_count": null,
   "id": "ac96b3af-8fd9-42bb-ab7d-87fbc1c20202",
   "metadata": {},
   "outputs": [],
   "source": [
    "sigma = 0.5\n",
    "c = np.arange(10).reshape(-1, 1)\n",
    "u = binVectors[0]\n",
    "\n",
    "x = solveGLS_initial(sigma = sigma, u = binVectors[0], c = c)\n",
    "y = solveGLS_initial(sigma = sigma, u = binVectors[0], c = binVectors[1])\n",
    "\n",
    "    \n",
    "u = binVectors[1]\n",
    "\n",
    "if len(u.shape) == 1:\n",
    "    u = u.reshape(-1, 1)\n",
    "\n",
    "#---\n",
    "\n",
    "uSlice = np.where(u == 1)[0]\n",
    "\n",
    "\n",
    "    \n",
    "    "
   ]
  },
  {
   "cell_type": "code",
   "execution_count": null,
   "id": "aba3f4cd-20a9-4bff-b256-ca5a2a6b4a09",
   "metadata": {},
   "outputs": [],
   "source": [
    "u0 = binVectors[0]\n",
    "u1 = binVectors[1]\n",
    "\n",
    "np.matmul(np.identity(u0.shape[0]) * sigma + np.matmul(u0, u0.T) + np.matmul(u1, u1.T), xNew)"
   ]
  },
  {
   "cell_type": "code",
   "execution_count": null,
   "id": "3a43660d-7922-48ca-8d1e-1c76c1816756",
   "metadata": {},
   "outputs": [],
   "source": [
    "# def solveGLS(sigma, binVectors, c):\n",
    "    \n",
    "#     for k in np.flip(np.arange(len(binVectors))):\n",
    "        \n",
    "#         if k > 0:\n",
    "#             x0 = solveGLS(sigma = sigma, binVectors = binVectors[0:k], c = c)\n",
    "        \n",
    "#         else:    "
   ]
  },
  {
   "cell_type": "markdown",
   "id": "0a33e1f2-c492-401d-9141-04a7e2debf5f",
   "metadata": {},
   "source": [
    "## Matrix Approach"
   ]
  },
  {
   "cell_type": "code",
   "execution_count": null,
   "id": "3123b324-9165-4ca9-9ffa-902e1346563f",
   "metadata": {},
   "outputs": [],
   "source": [
    "n = 4\n",
    "\n",
    "XTrainDup = np.concatenate([XTrain] * n, axis = 0)\n",
    "yTrainDup = np.concatenate([yTrain] * n, axis = 0)\n",
    "\n",
    "LGBM = LGBMRegressor(n_jobs = 1)\n",
    "LGBM.fit(XTrain, yTrain)\n",
    "\n",
    "LSKDEx = LevelSetKDEx(estimator = LGBM, \n",
    "                      binSize = 100 * n)\n",
    "LSKDEx.fit(XTrainDup, yTrainDup)"
   ]
  },
  {
   "cell_type": "code",
   "execution_count": null,
   "id": "024f1860-2279-4e91-b751-0f483117fffe",
   "metadata": {},
   "outputs": [],
   "source": [
    "yPred = LGBM.predict(XTrainDup)\n",
    "binPerPred = np.searchsorted(a = LSKDEx.lowerBoundPerBin, v = yPred, side = 'right') - 1\n",
    "\n",
    "binVectors = [(binPerPred == i).reshape(-1, 1) * 1 for i in range(len(LSKDEx.lowerBoundPerBin))]\n",
    "binVectorsToSlice = [np.where(binVector)[0] for binVector in binVectors]\n",
    "\n",
    "sigma = 0.5\n",
    "A0 = np.identity(yPred.shape[0]) * sigma"
   ]
  },
  {
   "cell_type": "code",
   "execution_count": null,
   "id": "f454e3d4-319c-4be3-a31d-c03dcc7ca999",
   "metadata": {},
   "outputs": [],
   "source": [
    "B0 = np.identity(yPred.shape[0]) * sigma**(-1)\n",
    "\n",
    "comp = np.sum(B0[:, binVectorsToSlice[0]], axis = 1).reshape(-1, 1)\n",
    "\n",
    "correctionMatrix = np.matmul(comp, comp.T)\n",
    "denominator = 1 + np.sum(comp[binVectorsToSlice[0]])\n",
    "correctionMatrix = correctionMatrix / denominator\n",
    "\n",
    "B = B0 - correctionMatrix"
   ]
  },
  {
   "cell_type": "code",
   "execution_count": null,
   "id": "6c8cd62b-e96f-42a0-82c0-409444143768",
   "metadata": {},
   "outputs": [],
   "source": [
    "start = time.time()\n",
    "\n",
    "for i in range(len(binVectors))[1:]:\n",
    "\n",
    "    comp = np.sum(B[:, binVectorsToSlice[i]], axis = 1).reshape(-1, 1)\n",
    "\n",
    "    correctionMatrix = np.matmul(comp, comp.T)\n",
    "    denominator = 1 + np.sum(comp[binVectorsToSlice[i]])\n",
    "    correctionMatrix = correctionMatrix / denominator\n",
    "\n",
    "    B = B - correctionMatrix\n",
    "    \n",
    "print(time.time() - start)"
   ]
  },
  {
   "cell_type": "code",
   "execution_count": null,
   "id": "a14a8147-32a3-4b46-950c-9010555b1330",
   "metadata": {},
   "outputs": [],
   "source": [
    "kernelMatrixList = [np.matmul(binVector, binVector.T) for binVector in binVectors]\n",
    "kernelMatrix = A0 + sum(kernelMatrixList)"
   ]
  },
  {
   "cell_type": "code",
   "execution_count": null,
   "id": "12980e82-1fcb-44e7-9e18-0a95264451fe",
   "metadata": {},
   "outputs": [],
   "source": [
    "identity = np.matmul(kernelMatrix, B)"
   ]
  },
  {
   "cell_type": "code",
   "execution_count": null,
   "id": "d8887370-5f4d-433f-9ea6-c43a1e7cc29a",
   "metadata": {},
   "outputs": [],
   "source": [
    "np.allclose(np.identity(yPred.shape[0]), identity)"
   ]
  },
  {
   "cell_type": "code",
   "execution_count": null,
   "id": "9be5551a-a4de-4ec9-bedb-e428d64f2b7d",
   "metadata": {},
   "outputs": [],
   "source": [
    "kernelMatrix.shape"
   ]
  },
  {
   "cell_type": "markdown",
   "id": "042102e0-7073-40f7-b0d1-3d8c95b78dac",
   "metadata": {},
   "source": [
    "# Gaussian Processes"
   ]
  },
  {
   "cell_type": "code",
   "execution_count": null,
   "id": "3dab8755-11de-42aa-a2be-04352efe557f",
   "metadata": {},
   "outputs": [],
   "source": [
    "import numpy as np\n",
    "import pandas as pd\n",
    "\n",
    "from dddex.crossValidation import *\n",
    "from dddex.levelSetKDEx_univariate import *\n",
    "from dddex.loadData import *\n",
    "\n",
    "from lightgbm import LGBMRegressor\n",
    "from sklearn.model_selection import GridSearchCV\n",
    "\n",
    "import time\n",
    "import ipdb"
   ]
  },
  {
   "cell_type": "code",
   "execution_count": null,
   "id": "8816054a-9029-4660-91c8-291815a0b6a2",
   "metadata": {},
   "outputs": [],
   "source": [
    "data, XTrain, yTrain, XTest, yTest = loadDataBakery()"
   ]
  },
  {
   "cell_type": "code",
   "execution_count": null,
   "id": "5315c87d-4b39-4fa6-9816-8c3c9daa2419",
   "metadata": {},
   "outputs": [],
   "source": [
    "LGBM = LGBMRegressor(n_jobs = 1)\n",
    "LGBM.fit(XTrain, yTrain)\n",
    "\n",
    "LSKDEx = LevelSetKDEx(estimator = LGBM, \n",
    "                      binSize = 1350)\n",
    "LSKDEx.fit(XTrain, yTrain)"
   ]
  },
  {
   "cell_type": "code",
   "execution_count": null,
   "id": "95dc033a-6761-4caf-b7e0-edd57eda7793",
   "metadata": {},
   "outputs": [],
   "source": [
    "start = time.time()\n",
    "\n",
    "mean, cov = LSKDEx.getGaussianPosterior(XTrain = XTrain, yTrain = yTrain, XTest = XTest[0:1000], sigma = 0.5)\n",
    "\n",
    "print(time.time() - start)"
   ]
  },
  {
   "cell_type": "code",
   "execution_count": null,
   "id": "d1522805-4a56-444a-86b4-bd071452f4df",
   "metadata": {},
   "outputs": [],
   "source": [
    "data, XTrain, yTrain, XTest, yTest = loadDataYaz()"
   ]
  },
  {
   "cell_type": "code",
   "execution_count": null,
   "id": "30fd637a-d50b-4b82-a0c6-fb7304b06420",
   "metadata": {},
   "outputs": [],
   "source": [
    "n = 20\n",
    "XTrain = np.concatenate([XTrain] * n, axis = 0)\n",
    "yTrain = np.concatenate([yTrain] * n, axis = 0)\n",
    "XTest = np.concatenate([XTest] * 1, axis = 0)"
   ]
  },
  {
   "cell_type": "code",
   "execution_count": null,
   "id": "bb420c10-c883-4137-894c-4696d6f5474a",
   "metadata": {},
   "outputs": [],
   "source": [
    "LGBM = LGBMRegressor(n_jobs = 1)\n",
    "LGBM.fit(XTrain, yTrain)\n",
    "\n",
    "LSKDEx = LevelSetKDEx(estimator = LGBM, \n",
    "                      binSize = 100 * n)\n",
    "LSKDEx.fit(XTrain, yTrain)"
   ]
  },
  {
   "cell_type": "code",
   "execution_count": null,
   "id": "d00fbf47-e766-4844-9e9c-573ffc6a6573",
   "metadata": {},
   "outputs": [],
   "source": [
    "start = time.time()\n",
    "\n",
    "mean, cov = LSKDEx.getGaussianPosterior(XTrain = XTrain, yTrain = yTrain, XTest = XTest, sigma = 0.5)\n",
    "\n",
    "print(time.time() - start)"
   ]
  },
  {
   "cell_type": "code",
   "execution_count": null,
   "id": "08b241fc-8235-49be-9a44-756b607755ac",
   "metadata": {},
   "outputs": [],
   "source": [
    "from sklearn.gaussian_process import GaussianProcessRegressor"
   ]
  },
  {
   "cell_type": "code",
   "execution_count": null,
   "id": "70d60d6f-caef-4574-abb9-9cf073cfaa93",
   "metadata": {},
   "outputs": [],
   "source": [
    "GPR = GaussianProcessRegressor()"
   ]
  },
  {
   "cell_type": "code",
   "execution_count": null,
   "id": "527d8a57-663e-4b5c-be88-812a589b2235",
   "metadata": {},
   "outputs": [],
   "source": [
    "start = time.time()\n",
    "GPR.fit(X = XTrain, y = yTrain)\n",
    "print(time.time() - start)"
   ]
  },
  {
   "cell_type": "code",
   "execution_count": null,
   "id": "55737e9d-dccb-4efc-aeb5-c2e2016c7bdf",
   "metadata": {},
   "outputs": [],
   "source": [
    "start = time.time()\n",
    "test = GPR.predict(X = XTest)\n",
    "print(time.time() - start)"
   ]
  },
  {
   "cell_type": "markdown",
   "id": "dcd13570-a064-43c2-ae84-ff824fd0d44b",
   "metadata": {},
   "source": [
    "# Wasserstein Distance Cross Validation"
   ]
  },
  {
   "cell_type": "code",
   "execution_count": 1,
   "id": "ee4cffa9-6acb-42eb-b98b-eec762b36120",
   "metadata": {},
   "outputs": [],
   "source": [
    "import numpy as np\n",
    "import pandas as pd\n",
    "\n",
    "from dddex.crossValidation import *\n",
    "from dddex.levelSetKDEx_univariate import *\n",
    "from dddex.loadData import *\n",
    "\n",
    "from lightgbm import LGBMRegressor\n",
    "from sklearn.model_selection import RandomizedSearchCV\n",
    "\n",
    "import time\n",
    "import ipdb"
   ]
  },
  {
   "cell_type": "code",
   "execution_count": 2,
   "id": "2584838d-4bea-45b8-bd67-157d11ff1791",
   "metadata": {},
   "outputs": [],
   "source": [
    "data, XTrain, yTrain, XTest, yTest = loadDataBakery()"
   ]
  },
  {
   "cell_type": "code",
   "execution_count": 3,
   "id": "73a9c52e-e5ea-45bb-859c-6422578c30a5",
   "metadata": {},
   "outputs": [
    {
     "data": {
      "text/html": [
       "<style>#sk-container-id-1 {color: black;background-color: white;}#sk-container-id-1 pre{padding: 0;}#sk-container-id-1 div.sk-toggleable {background-color: white;}#sk-container-id-1 label.sk-toggleable__label {cursor: pointer;display: block;width: 100%;margin-bottom: 0;padding: 0.3em;box-sizing: border-box;text-align: center;}#sk-container-id-1 label.sk-toggleable__label-arrow:before {content: \"▸\";float: left;margin-right: 0.25em;color: #696969;}#sk-container-id-1 label.sk-toggleable__label-arrow:hover:before {color: black;}#sk-container-id-1 div.sk-estimator:hover label.sk-toggleable__label-arrow:before {color: black;}#sk-container-id-1 div.sk-toggleable__content {max-height: 0;max-width: 0;overflow: hidden;text-align: left;background-color: #f0f8ff;}#sk-container-id-1 div.sk-toggleable__content pre {margin: 0.2em;color: black;border-radius: 0.25em;background-color: #f0f8ff;}#sk-container-id-1 input.sk-toggleable__control:checked~div.sk-toggleable__content {max-height: 200px;max-width: 100%;overflow: auto;}#sk-container-id-1 input.sk-toggleable__control:checked~label.sk-toggleable__label-arrow:before {content: \"▾\";}#sk-container-id-1 div.sk-estimator input.sk-toggleable__control:checked~label.sk-toggleable__label {background-color: #d4ebff;}#sk-container-id-1 div.sk-label input.sk-toggleable__control:checked~label.sk-toggleable__label {background-color: #d4ebff;}#sk-container-id-1 input.sk-hidden--visually {border: 0;clip: rect(1px 1px 1px 1px);clip: rect(1px, 1px, 1px, 1px);height: 1px;margin: -1px;overflow: hidden;padding: 0;position: absolute;width: 1px;}#sk-container-id-1 div.sk-estimator {font-family: monospace;background-color: #f0f8ff;border: 1px dotted black;border-radius: 0.25em;box-sizing: border-box;margin-bottom: 0.5em;}#sk-container-id-1 div.sk-estimator:hover {background-color: #d4ebff;}#sk-container-id-1 div.sk-parallel-item::after {content: \"\";width: 100%;border-bottom: 1px solid gray;flex-grow: 1;}#sk-container-id-1 div.sk-label:hover label.sk-toggleable__label {background-color: #d4ebff;}#sk-container-id-1 div.sk-serial::before {content: \"\";position: absolute;border-left: 1px solid gray;box-sizing: border-box;top: 0;bottom: 0;left: 50%;z-index: 0;}#sk-container-id-1 div.sk-serial {display: flex;flex-direction: column;align-items: center;background-color: white;padding-right: 0.2em;padding-left: 0.2em;position: relative;}#sk-container-id-1 div.sk-item {position: relative;z-index: 1;}#sk-container-id-1 div.sk-parallel {display: flex;align-items: stretch;justify-content: center;background-color: white;position: relative;}#sk-container-id-1 div.sk-item::before, #sk-container-id-1 div.sk-parallel-item::before {content: \"\";position: absolute;border-left: 1px solid gray;box-sizing: border-box;top: 0;bottom: 0;left: 50%;z-index: -1;}#sk-container-id-1 div.sk-parallel-item {display: flex;flex-direction: column;z-index: 1;position: relative;background-color: white;}#sk-container-id-1 div.sk-parallel-item:first-child::after {align-self: flex-end;width: 50%;}#sk-container-id-1 div.sk-parallel-item:last-child::after {align-self: flex-start;width: 50%;}#sk-container-id-1 div.sk-parallel-item:only-child::after {width: 0;}#sk-container-id-1 div.sk-dashed-wrapped {border: 1px dashed gray;margin: 0 0.4em 0.5em 0.4em;box-sizing: border-box;padding-bottom: 0.4em;background-color: white;}#sk-container-id-1 div.sk-label label {font-family: monospace;font-weight: bold;display: inline-block;line-height: 1.2em;}#sk-container-id-1 div.sk-label-container {text-align: center;}#sk-container-id-1 div.sk-container {/* jupyter's `normalize.less` sets `[hidden] { display: none; }` but bootstrap.min.css set `[hidden] { display: none !important; }` so we also need the `!important` here to be able to override the default hidden behavior on the sphinx rendered scikit-learn.org. See: https://github.com/scikit-learn/scikit-learn/issues/21755 */display: inline-block !important;position: relative;}#sk-container-id-1 div.sk-text-repr-fallback {display: none;}</style><div id=\"sk-container-id-1\" class=\"sk-top-container\"><div class=\"sk-text-repr-fallback\"><pre>LGBMRegressor(n_jobs=1)</pre><b>In a Jupyter environment, please rerun this cell to show the HTML representation or trust the notebook. <br />On GitHub, the HTML representation is unable to render, please try loading this page with nbviewer.org.</b></div><div class=\"sk-container\" hidden><div class=\"sk-item\"><div class=\"sk-estimator sk-toggleable\"><input class=\"sk-toggleable__control sk-hidden--visually\" id=\"sk-estimator-id-1\" type=\"checkbox\" checked><label for=\"sk-estimator-id-1\" class=\"sk-toggleable__label sk-toggleable__label-arrow\">LGBMRegressor</label><div class=\"sk-toggleable__content\"><pre>LGBMRegressor(n_jobs=1)</pre></div></div></div></div></div>"
      ],
      "text/plain": [
       "LGBMRegressor(n_jobs=1)"
      ]
     },
     "execution_count": 3,
     "metadata": {},
     "output_type": "execute_result"
    }
   ],
   "source": [
    "LGBM = LGBMRegressor(n_jobs = 1)\n",
    "LGBM.fit(XTrain, yTrain)"
   ]
  },
  {
   "cell_type": "code",
   "execution_count": 4,
   "id": "45c2160c-59e0-4df5-88dc-90594a5919ea",
   "metadata": {},
   "outputs": [],
   "source": [
    "dataTrain = data[data.label == 'train']\n",
    "\n",
    "cvFolds = groupedTimeSeriesSplit(data = dataTrain, \n",
    "                                 kFolds = 3, \n",
    "                                 testLength = 28, \n",
    "                                 groupFeature = 'id', \n",
    "                                 timeFeature = 'dayIndex')"
   ]
  },
  {
   "cell_type": "code",
   "execution_count": 5,
   "id": "7cccc80d-1cb3-4013-a105-3e220e9ce9ed",
   "metadata": {},
   "outputs": [
    {
     "data": {
      "text/html": [
       "<style>#sk-container-id-2 {color: black;background-color: white;}#sk-container-id-2 pre{padding: 0;}#sk-container-id-2 div.sk-toggleable {background-color: white;}#sk-container-id-2 label.sk-toggleable__label {cursor: pointer;display: block;width: 100%;margin-bottom: 0;padding: 0.3em;box-sizing: border-box;text-align: center;}#sk-container-id-2 label.sk-toggleable__label-arrow:before {content: \"▸\";float: left;margin-right: 0.25em;color: #696969;}#sk-container-id-2 label.sk-toggleable__label-arrow:hover:before {color: black;}#sk-container-id-2 div.sk-estimator:hover label.sk-toggleable__label-arrow:before {color: black;}#sk-container-id-2 div.sk-toggleable__content {max-height: 0;max-width: 0;overflow: hidden;text-align: left;background-color: #f0f8ff;}#sk-container-id-2 div.sk-toggleable__content pre {margin: 0.2em;color: black;border-radius: 0.25em;background-color: #f0f8ff;}#sk-container-id-2 input.sk-toggleable__control:checked~div.sk-toggleable__content {max-height: 200px;max-width: 100%;overflow: auto;}#sk-container-id-2 input.sk-toggleable__control:checked~label.sk-toggleable__label-arrow:before {content: \"▾\";}#sk-container-id-2 div.sk-estimator input.sk-toggleable__control:checked~label.sk-toggleable__label {background-color: #d4ebff;}#sk-container-id-2 div.sk-label input.sk-toggleable__control:checked~label.sk-toggleable__label {background-color: #d4ebff;}#sk-container-id-2 input.sk-hidden--visually {border: 0;clip: rect(1px 1px 1px 1px);clip: rect(1px, 1px, 1px, 1px);height: 1px;margin: -1px;overflow: hidden;padding: 0;position: absolute;width: 1px;}#sk-container-id-2 div.sk-estimator {font-family: monospace;background-color: #f0f8ff;border: 1px dotted black;border-radius: 0.25em;box-sizing: border-box;margin-bottom: 0.5em;}#sk-container-id-2 div.sk-estimator:hover {background-color: #d4ebff;}#sk-container-id-2 div.sk-parallel-item::after {content: \"\";width: 100%;border-bottom: 1px solid gray;flex-grow: 1;}#sk-container-id-2 div.sk-label:hover label.sk-toggleable__label {background-color: #d4ebff;}#sk-container-id-2 div.sk-serial::before {content: \"\";position: absolute;border-left: 1px solid gray;box-sizing: border-box;top: 0;bottom: 0;left: 50%;z-index: 0;}#sk-container-id-2 div.sk-serial {display: flex;flex-direction: column;align-items: center;background-color: white;padding-right: 0.2em;padding-left: 0.2em;position: relative;}#sk-container-id-2 div.sk-item {position: relative;z-index: 1;}#sk-container-id-2 div.sk-parallel {display: flex;align-items: stretch;justify-content: center;background-color: white;position: relative;}#sk-container-id-2 div.sk-item::before, #sk-container-id-2 div.sk-parallel-item::before {content: \"\";position: absolute;border-left: 1px solid gray;box-sizing: border-box;top: 0;bottom: 0;left: 50%;z-index: -1;}#sk-container-id-2 div.sk-parallel-item {display: flex;flex-direction: column;z-index: 1;position: relative;background-color: white;}#sk-container-id-2 div.sk-parallel-item:first-child::after {align-self: flex-end;width: 50%;}#sk-container-id-2 div.sk-parallel-item:last-child::after {align-self: flex-start;width: 50%;}#sk-container-id-2 div.sk-parallel-item:only-child::after {width: 0;}#sk-container-id-2 div.sk-dashed-wrapped {border: 1px dashed gray;margin: 0 0.4em 0.5em 0.4em;box-sizing: border-box;padding-bottom: 0.4em;background-color: white;}#sk-container-id-2 div.sk-label label {font-family: monospace;font-weight: bold;display: inline-block;line-height: 1.2em;}#sk-container-id-2 div.sk-label-container {text-align: center;}#sk-container-id-2 div.sk-container {/* jupyter's `normalize.less` sets `[hidden] { display: none; }` but bootstrap.min.css set `[hidden] { display: none !important; }` so we also need the `!important` here to be able to override the default hidden behavior on the sphinx rendered scikit-learn.org. See: https://github.com/scikit-learn/scikit-learn/issues/21755 */display: inline-block !important;position: relative;}#sk-container-id-2 div.sk-text-repr-fallback {display: none;}</style><div id=\"sk-container-id-2\" class=\"sk-top-container\"><div class=\"sk-text-repr-fallback\"><pre>RandomizedSearchCV(cv=[(array([ 5328,  5329,  5330, ..., 63183, 63184, 63185]),\n",
       "                        array([ 5910,  5911,  5912, ..., 63211, 63212, 63213])),\n",
       "                       (array([ 5328,  5329,  5330, ..., 63211, 63212, 63213]),\n",
       "                        array([ 5938,  5939,  5940, ..., 63239, 63240, 63241])),\n",
       "                       (array([ 5328,  5329,  5330, ..., 63239, 63240, 63241]),\n",
       "                        array([ 5966,  5967,  5968, ..., 63267, 63268, 63269]))],\n",
       "                   estimator=LGBMRegressor(n_jobs=1), n_iter=100...\n",
       "                   param_distributions={&#x27;colsample_bytree&#x27;: [0.05, 0.1, 0.2,\n",
       "                                                             0.3, 0.5, 0.75,\n",
       "                                                             1],\n",
       "                                        &#x27;learning_rate&#x27;: [0.05, 0.1, 0.15, 0.2],\n",
       "                                        &#x27;max_depth&#x27;: [-1, 3, 4, 5, 6, 7],\n",
       "                                        &#x27;min_child_samples&#x27;: [2, 4, 6, 8, 10,\n",
       "                                                              13, 16, 20, 25,\n",
       "                                                              50, 75, 100, 150,\n",
       "                                                              200, 300, 400],\n",
       "                                        &#x27;n_estimators&#x27;: [100, 200, 300, 400,\n",
       "                                                         500, 600],\n",
       "                                        &#x27;num_leaves&#x27;: [20, 40, 60, 80, 100,\n",
       "                                                       150],\n",
       "                                        &#x27;subsample&#x27;: [0.05, 0.1, 0.2, 0.3, 0.5,\n",
       "                                                      0.75, 1]},\n",
       "                   return_train_score=True, scoring=&#x27;neg_mean_squared_error&#x27;)</pre><b>In a Jupyter environment, please rerun this cell to show the HTML representation or trust the notebook. <br />On GitHub, the HTML representation is unable to render, please try loading this page with nbviewer.org.</b></div><div class=\"sk-container\" hidden><div class=\"sk-item sk-dashed-wrapped\"><div class=\"sk-label-container\"><div class=\"sk-label sk-toggleable\"><input class=\"sk-toggleable__control sk-hidden--visually\" id=\"sk-estimator-id-2\" type=\"checkbox\" ><label for=\"sk-estimator-id-2\" class=\"sk-toggleable__label sk-toggleable__label-arrow\">RandomizedSearchCV</label><div class=\"sk-toggleable__content\"><pre>RandomizedSearchCV(cv=[(array([ 5328,  5329,  5330, ..., 63183, 63184, 63185]),\n",
       "                        array([ 5910,  5911,  5912, ..., 63211, 63212, 63213])),\n",
       "                       (array([ 5328,  5329,  5330, ..., 63211, 63212, 63213]),\n",
       "                        array([ 5938,  5939,  5940, ..., 63239, 63240, 63241])),\n",
       "                       (array([ 5328,  5329,  5330, ..., 63239, 63240, 63241]),\n",
       "                        array([ 5966,  5967,  5968, ..., 63267, 63268, 63269]))],\n",
       "                   estimator=LGBMRegressor(n_jobs=1), n_iter=100...\n",
       "                   param_distributions={&#x27;colsample_bytree&#x27;: [0.05, 0.1, 0.2,\n",
       "                                                             0.3, 0.5, 0.75,\n",
       "                                                             1],\n",
       "                                        &#x27;learning_rate&#x27;: [0.05, 0.1, 0.15, 0.2],\n",
       "                                        &#x27;max_depth&#x27;: [-1, 3, 4, 5, 6, 7],\n",
       "                                        &#x27;min_child_samples&#x27;: [2, 4, 6, 8, 10,\n",
       "                                                              13, 16, 20, 25,\n",
       "                                                              50, 75, 100, 150,\n",
       "                                                              200, 300, 400],\n",
       "                                        &#x27;n_estimators&#x27;: [100, 200, 300, 400,\n",
       "                                                         500, 600],\n",
       "                                        &#x27;num_leaves&#x27;: [20, 40, 60, 80, 100,\n",
       "                                                       150],\n",
       "                                        &#x27;subsample&#x27;: [0.05, 0.1, 0.2, 0.3, 0.5,\n",
       "                                                      0.75, 1]},\n",
       "                   return_train_score=True, scoring=&#x27;neg_mean_squared_error&#x27;)</pre></div></div></div><div class=\"sk-parallel\"><div class=\"sk-parallel-item\"><div class=\"sk-item\"><div class=\"sk-label-container\"><div class=\"sk-label sk-toggleable\"><input class=\"sk-toggleable__control sk-hidden--visually\" id=\"sk-estimator-id-3\" type=\"checkbox\" ><label for=\"sk-estimator-id-3\" class=\"sk-toggleable__label sk-toggleable__label-arrow\">estimator: LGBMRegressor</label><div class=\"sk-toggleable__content\"><pre>LGBMRegressor(n_jobs=1)</pre></div></div></div><div class=\"sk-serial\"><div class=\"sk-item\"><div class=\"sk-estimator sk-toggleable\"><input class=\"sk-toggleable__control sk-hidden--visually\" id=\"sk-estimator-id-4\" type=\"checkbox\" ><label for=\"sk-estimator-id-4\" class=\"sk-toggleable__label sk-toggleable__label-arrow\">LGBMRegressor</label><div class=\"sk-toggleable__content\"><pre>LGBMRegressor(n_jobs=1)</pre></div></div></div></div></div></div></div></div></div></div>"
      ],
      "text/plain": [
       "RandomizedSearchCV(cv=[(array([ 5328,  5329,  5330, ..., 63183, 63184, 63185]),\n",
       "                        array([ 5910,  5911,  5912, ..., 63211, 63212, 63213])),\n",
       "                       (array([ 5328,  5329,  5330, ..., 63211, 63212, 63213]),\n",
       "                        array([ 5938,  5939,  5940, ..., 63239, 63240, 63241])),\n",
       "                       (array([ 5328,  5329,  5330, ..., 63239, 63240, 63241]),\n",
       "                        array([ 5966,  5967,  5968, ..., 63267, 63268, 63269]))],\n",
       "                   estimator=LGBMRegressor(n_jobs=1), n_iter=100...\n",
       "                   param_distributions={'colsample_bytree': [0.05, 0.1, 0.2,\n",
       "                                                             0.3, 0.5, 0.75,\n",
       "                                                             1],\n",
       "                                        'learning_rate': [0.05, 0.1, 0.15, 0.2],\n",
       "                                        'max_depth': [-1, 3, 4, 5, 6, 7],\n",
       "                                        'min_child_samples': [2, 4, 6, 8, 10,\n",
       "                                                              13, 16, 20, 25,\n",
       "                                                              50, 75, 100, 150,\n",
       "                                                              200, 300, 400],\n",
       "                                        'n_estimators': [100, 200, 300, 400,\n",
       "                                                         500, 600],\n",
       "                                        'num_leaves': [20, 40, 60, 80, 100,\n",
       "                                                       150],\n",
       "                                        'subsample': [0.05, 0.1, 0.2, 0.3, 0.5,\n",
       "                                                      0.75, 1]},\n",
       "                   return_train_score=True, scoring='neg_mean_squared_error')"
      ]
     },
     "execution_count": 5,
     "metadata": {},
     "output_type": "execute_result"
    }
   ],
   "source": [
    "paramGridEstimator = {'num_leaves': [20, 40, 60, 80, 100, 150],\n",
    "                      'max_depth': [-1, 3, 4, 5, 6, 7],\n",
    "                      'min_child_samples': [2, 4, 6, 8, 10, 13, 16, 20, 25, 50, 75, 100, 150, 200, 300, 400],\n",
    "                      'learning_rate': [0.05, 0.1, 0.15, 0.2],\n",
    "                      'n_estimators': [100, 200, 300, 400, 500, 600],\n",
    "                      'subsample': [0.05, 0.1, 0.2, 0.3, 0.5, 0.75, 1],\n",
    "                      'colsample_bytree': [0.05, 0.1, 0.2, 0.3, 0.5, 0.75, 1]}\n",
    "\n",
    "CVEstimator = RandomizedSearchCV(estimator = LGBM,\n",
    "                                 cv = cvFolds,\n",
    "                                 param_distributions = paramGridEstimator,\n",
    "                                 scoring = 'neg_mean_squared_error',\n",
    "                                 n_iter = 100,\n",
    "                                 refit = True,\n",
    "                                 n_jobs = len(cvFolds),\n",
    "                                 return_train_score = True,\n",
    "                                 verbose = 0)\n",
    "\n",
    "CVEstimator.fit(XTrain, yTrain)"
   ]
  },
  {
   "cell_type": "code",
   "execution_count": 32,
   "id": "c97f4e56-be32-4f78-b47e-6a1da596bd52",
   "metadata": {},
   "outputs": [],
   "source": [
    "LSKDEx = LevelSetKDEx(estimator = CVEstimator.best_estimator_)\n",
    "# LSKDEx = LevelSetKDEx(estimator = LGBM)\n",
    "\n",
    "paramGridLSx = {'binSize': [1, 3, 6, 10, 20, 35, 50, 75, 100, 150, 200, 250, 400, 600, 800, 1000]}\n",
    "\n",
    "CV = DensityCrossValidation(estimator = LSKDEx,\n",
    "                            cvFolds = cvFolds,\n",
    "                            parameterGrid = paramGridLSx,\n",
    "                            n_jobs = len(cvFolds),\n",
    "                            p = 1)"
   ]
  },
  {
   "cell_type": "code",
   "execution_count": 33,
   "id": "7a255e10-9ab7-4c06-8159-d2ca7d9d25c7",
   "metadata": {},
   "outputs": [],
   "source": [
    "CV.fit(X = XTrain, y = yTrain)"
   ]
  },
  {
   "cell_type": "code",
   "execution_count": 34,
   "id": "426e419f-1cbe-470c-b86a-8b781c7968f3",
   "metadata": {},
   "outputs": [
    {
     "data": {
      "text/html": [
       "<div>\n",
       "<style scoped>\n",
       "    .dataframe tbody tr th:only-of-type {\n",
       "        vertical-align: middle;\n",
       "    }\n",
       "\n",
       "    .dataframe tbody tr th {\n",
       "        vertical-align: top;\n",
       "    }\n",
       "\n",
       "    .dataframe thead th {\n",
       "        text-align: right;\n",
       "    }\n",
       "</style>\n",
       "<table border=\"1\" class=\"dataframe\">\n",
       "  <thead>\n",
       "    <tr style=\"text-align: right;\">\n",
       "      <th></th>\n",
       "      <th>wassersteinRatio</th>\n",
       "    </tr>\n",
       "    <tr>\n",
       "      <th>binSize</th>\n",
       "      <th></th>\n",
       "    </tr>\n",
       "  </thead>\n",
       "  <tbody>\n",
       "    <tr>\n",
       "      <th>1</th>\n",
       "      <td>0.376664</td>\n",
       "    </tr>\n",
       "    <tr>\n",
       "      <th>3</th>\n",
       "      <td>0.425218</td>\n",
       "    </tr>\n",
       "    <tr>\n",
       "      <th>6</th>\n",
       "      <td>0.436563</td>\n",
       "    </tr>\n",
       "    <tr>\n",
       "      <th>10</th>\n",
       "      <td>0.443294</td>\n",
       "    </tr>\n",
       "    <tr>\n",
       "      <th>20</th>\n",
       "      <td>0.447901</td>\n",
       "    </tr>\n",
       "    <tr>\n",
       "      <th>35</th>\n",
       "      <td>0.450406</td>\n",
       "    </tr>\n",
       "    <tr>\n",
       "      <th>50</th>\n",
       "      <td>0.451915</td>\n",
       "    </tr>\n",
       "    <tr>\n",
       "      <th>75</th>\n",
       "      <td>0.453122</td>\n",
       "    </tr>\n",
       "    <tr>\n",
       "      <th>100</th>\n",
       "      <td>0.453373</td>\n",
       "    </tr>\n",
       "    <tr>\n",
       "      <th>150</th>\n",
       "      <td>0.454487</td>\n",
       "    </tr>\n",
       "    <tr>\n",
       "      <th>200</th>\n",
       "      <td>0.454766</td>\n",
       "    </tr>\n",
       "    <tr>\n",
       "      <th>250</th>\n",
       "      <td>0.455094</td>\n",
       "    </tr>\n",
       "    <tr>\n",
       "      <th>400</th>\n",
       "      <td>0.455644</td>\n",
       "    </tr>\n",
       "    <tr>\n",
       "      <th>600</th>\n",
       "      <td>0.455887</td>\n",
       "    </tr>\n",
       "    <tr>\n",
       "      <th>800</th>\n",
       "      <td>0.456675</td>\n",
       "    </tr>\n",
       "    <tr>\n",
       "      <th>1000</th>\n",
       "      <td>0.457247</td>\n",
       "    </tr>\n",
       "  </tbody>\n",
       "</table>\n",
       "</div>"
      ],
      "text/plain": [
       "         wassersteinRatio\n",
       "binSize                  \n",
       "1                0.376664\n",
       "3                0.425218\n",
       "6                0.436563\n",
       "10               0.443294\n",
       "20               0.447901\n",
       "35               0.450406\n",
       "50               0.451915\n",
       "75               0.453122\n",
       "100              0.453373\n",
       "150              0.454487\n",
       "200              0.454766\n",
       "250              0.455094\n",
       "400              0.455644\n",
       "600              0.455887\n",
       "800              0.456675\n",
       "1000             0.457247"
      ]
     },
     "execution_count": 34,
     "metadata": {},
     "output_type": "execute_result"
    }
   ],
   "source": [
    "CV.cvResults"
   ]
  },
  {
   "cell_type": "code",
   "execution_count": 35,
   "id": "5a14ad69-12ba-44f2-a192-2fc86773a35a",
   "metadata": {},
   "outputs": [
    {
     "data": {
      "text/plain": [
       "{'binSize': 1}"
      ]
     },
     "execution_count": 35,
     "metadata": {},
     "output_type": "execute_result"
    }
   ],
   "source": [
    "CV.bestParams"
   ]
  },
  {
   "cell_type": "code",
   "execution_count": 9,
   "id": "e2d7ae1a-e8c8-425c-862c-8ef67f008765",
   "metadata": {},
   "outputs": [],
   "source": [
    "CV2 = QuantileCrossValidation(quantileEstimator = LSKDEx,\n",
    "                              cvFolds = cvFolds,\n",
    "                              parameterGrid = paramGridLSx,\n",
    "                              n_jobs = len(cvFolds),\n",
    "                              probs = np.arange(0.01, 1, 0.01))\n",
    "\n",
    "CV2.fit(XTrain, yTrain)"
   ]
  },
  {
   "cell_type": "code",
   "execution_count": 10,
   "id": "edd24b2e-e3cc-47cf-9c90-05e1362151df",
   "metadata": {},
   "outputs": [
    {
     "data": {
      "text/plain": [
       "binSize\n",
       "10         60.513180\n",
       "20         56.485442\n",
       "35         54.937289\n",
       "50         54.330045\n",
       "75         53.731034\n",
       "100        53.573561\n",
       "150        53.275848\n",
       "200        53.192284\n",
       "250        53.062945\n",
       "400        53.045748\n",
       "600        53.001887\n",
       "800        53.077894\n",
       "1000       53.045443\n",
       "dtype: float64"
      ]
     },
     "execution_count": 10,
     "metadata": {},
     "output_type": "execute_result"
    }
   ],
   "source": [
    "CV2.cvResults.sum(axis = 1)"
   ]
  },
  {
   "cell_type": "code",
   "execution_count": null,
   "id": "bffebdb0-4ca1-4dd0-a480-ef477a4f08f6",
   "metadata": {},
   "outputs": [],
   "source": []
  }
 ],
 "metadata": {
  "kernelspec": {
   "display_name": "dddex",
   "language": "python",
   "name": "dddex"
  },
  "language_info": {
   "codemirror_mode": {
    "name": "ipython",
    "version": 3
   },
   "file_extension": ".py",
   "mimetype": "text/x-python",
   "name": "python",
   "nbconvert_exporter": "python",
   "pygments_lexer": "ipython3",
   "version": "3.8.15"
  }
 },
 "nbformat": 4,
 "nbformat_minor": 5
}
