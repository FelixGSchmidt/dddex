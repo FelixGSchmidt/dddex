{
 "cells": [
  {
   "cell_type": "code",
   "execution_count": null,
   "id": "6a9df2e7-fdc8-44e7-b16c-d8b15ed01db9",
   "metadata": {},
   "outputs": [],
   "source": [
    "%load_ext autoreload\n",
    "%autoreload 2"
   ]
  },
  {
   "cell_type": "markdown",
   "id": "0dfbaad6-3667-46e6-b25e-efa0822452ae",
   "metadata": {},
   "source": [
    "# wSAA\n",
    "\n",
    "> Module description for wSAA classes"
   ]
  },
  {
   "cell_type": "code",
   "execution_count": null,
   "id": "8c687b2c-941e-4e2a-9855-aa227ccb8490",
   "metadata": {},
   "outputs": [],
   "source": [
    "#| default_exp wSAA"
   ]
  },
  {
   "cell_type": "code",
   "execution_count": null,
   "id": "6a1faac0-5c0d-4c70-80e9-7d959811b1b7",
   "metadata": {},
   "outputs": [],
   "source": [
    "#| hide\n",
    "from nbdev.showdoc import *"
   ]
  },
  {
   "cell_type": "markdown",
   "id": "451e786a-e401-43d8-91e9-97c175eba23a",
   "metadata": {},
   "source": [
    "# Packages"
   ]
  },
  {
   "cell_type": "code",
   "execution_count": null,
   "id": "b86f92e6-67ad-492b-9779-7b9acfc3d3df",
   "metadata": {},
   "outputs": [],
   "source": [
    "#| export\n",
    "import pandas as pd\n",
    "import numpy as np\n",
    "\n",
    "from sklearn.ensemble import RandomForestRegressor\n",
    "\n",
    "from lsf.core import BaseWeightsBasedPredictor, restructureWeightsDataList"
   ]
  },
  {
   "cell_type": "markdown",
   "id": "5ab08045-7378-4819-91f7-7a799cb6a91e",
   "metadata": {},
   "source": [
    "# wSAA"
   ]
  },
  {
   "cell_type": "markdown",
   "id": "a331bd1d-ceaa-4b36-a42e-aaa2e4062c22",
   "metadata": {},
   "source": [
    "## Random Forest"
   ]
  },
  {
   "cell_type": "code",
   "execution_count": null,
   "id": "36b775c4-ca57-4539-a0b8-e282bdf963cf",
   "metadata": {},
   "outputs": [],
   "source": [
    "#|export \n",
    "\n",
    "class RandomForestWSAA(RandomForestRegressor, BaseWeightsBasedPredictor):\n",
    "        \n",
    "    def fit(self, X, Y):\n",
    "\n",
    "        super(RandomForestRegressor, self).fit(X = X, y = Y)\n",
    "        \n",
    "        self.Y = Y\n",
    "        self.leafIndicesTrain = self.apply(X)\n",
    "        \n",
    "    #---\n",
    "    \n",
    "    def getWeightsData(self, X, outputType = 'onlyPositiveWeights', scalingList = None):\n",
    "        \n",
    "        leafIndicesDf = self.apply(X)\n",
    "        \n",
    "        weightsDataList = list()\n",
    "        \n",
    "        for leafIndices in leafIndicesDf:\n",
    "            leafComparisonMatrix = (self.leafIndicesTrain == leafIndices) * 1\n",
    "            nObsInSameLeaf = np.sum(leafComparisonMatrix, axis = 0)\n",
    "\n",
    "            # It can happen that RF decides that the best strategy is to fit no tree at\n",
    "            # all and simply average all results (happens when min_child_sample is too high, for example).\n",
    "            # In this case 'leafComparisonMatrix' mustn't be averaged because there has been only a single tree.\n",
    "            if len(leafComparisonMatrix.shape) == 1:\n",
    "                weights = leafComparisonMatrix / nObsInSameLeaf\n",
    "            else:\n",
    "                weights = np.mean(leafComparisonMatrix / nObsInSameLeaf, axis = 1)\n",
    "            \n",
    "            weightsPosIndex = np.where(weights > 0)[0]\n",
    "            \n",
    "            weightsDataList.append((weights[weightsPosIndex], weightsPosIndex))\n",
    "        \n",
    "        #---\n",
    "        \n",
    "        weightsDataList = restructureWeightsDataList(weightsDataList = weightsDataList, \n",
    "                                                     outputType = outputType, \n",
    "                                                     Y = self.Y, \n",
    "                                                     scalingList = scalingList,\n",
    "                                                     equalWeights = False)\n",
    "        \n",
    "        return weightsDataList\n",
    "    \n",
    "    #---\n",
    "    \n",
    "    def predict(self, X, probs = np.array([0.1, 0.5, 0.9]), outputAsDf = False, scalingList = None):\n",
    "        \n",
    "        quantileRes = super(BaseWeightsBasedPredictor, self).predict(X = X,\n",
    "                                                                     probs = probs,\n",
    "                                                                     outputAsDf = outputAsDf,\n",
    "                                                                     scalingList = scalingList)\n",
    "        \n",
    "        return quantileRes\n",
    "    \n",
    "    #---\n",
    "    \n",
    "    def pointPredict(self, X):\n",
    "        \n",
    "        preds = super(RandomForestRegressor, self).predict(X)\n",
    "        \n",
    "        return preds\n",
    "        "
   ]
  },
  {
   "cell_type": "markdown",
   "id": "f471bba6-50ec-49a9-980d-1c10f4361938",
   "metadata": {},
   "source": [
    "# SAA"
   ]
  },
  {
   "cell_type": "code",
   "execution_count": null,
   "id": "952b21e7-4c15-4c6d-8ebd-236740ec71e5",
   "metadata": {},
   "outputs": [],
   "source": [
    "#| export\n",
    "\n",
    "class SAA(BaseWeightsBasedPredictor):\n",
    "    \n",
    "    def __init__(self):\n",
    "        \n",
    "        self.Y = None\n",
    "    \n",
    "    #---\n",
    "    \n",
    "    def fit(self, Y):\n",
    "        self.Y = Y\n",
    "        \n",
    "    #---\n",
    "    \n",
    "    def getWeightsData(self, X = None, outputType = 'onlyPositiveWeights', scalingList = None):\n",
    "        \n",
    "        if X is None:\n",
    "            neighborsList = [np.arange(len(self.Y))]\n",
    "        else:\n",
    "            neighborsList = [np.arange(len(self.Y)) for i in range(X.shape[0])]\n",
    "        \n",
    "        # weightsDataList is a list whose elements correspond to one test prediction each. \n",
    "        weightsDataList = [(np.repeat(1 / len(neighbors), len(neighbors)), np.array(neighbors)) for neighbors in neighborsList]\n",
    "\n",
    "        weightsDataList = restructureWeightsDataList(weightsDataList = weightsDataList, \n",
    "                                                     outputType = outputType, \n",
    "                                                     Y = self.Y,\n",
    "                                                     scalingList = scalingList,\n",
    "                                                     equalWeights = True)\n",
    "        \n",
    "        return weightsDataList\n",
    "    "
   ]
  },
  {
   "cell_type": "code",
   "execution_count": null,
   "id": "9e79762a-1427-49d7-b8b2-42ecde48e16c",
   "metadata": {},
   "outputs": [],
   "source": [
    "#| hide\n",
    "import nbdev; nbdev.nbdev_export()"
   ]
  }
 ],
 "metadata": {
  "kernelspec": {
   "display_name": "HC-Scheduling",
   "language": "python",
   "name": "hc-scheduling"
  }
 },
 "nbformat": 4,
 "nbformat_minor": 5
}
