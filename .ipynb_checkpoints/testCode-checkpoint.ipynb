{
 "cells": [
  {
   "cell_type": "markdown",
   "id": "037a1d7e-df10-437b-8875-e0e904fb2833",
   "metadata": {},
   "source": [
    "# Packages"
   ]
  },
  {
   "cell_type": "code",
   "execution_count": 7,
   "id": "9f8258e4-28b3-4154-a90d-052fb230cd99",
   "metadata": {},
   "outputs": [],
   "source": [
    "def bad_append(new_item, a_list=[]):\n",
    "    a_list.append(new_item)\n",
    "    return a_list"
   ]
  },
  {
   "cell_type": "code",
   "execution_count": 24,
   "id": "4d772b92-a9e1-4d1f-98ea-0e207c2a526e",
   "metadata": {},
   "outputs": [],
   "source": [
    "b_list = "
   ]
  },
  {
   "cell_type": "code",
   "execution_count": 27,
   "id": "0783b292-6624-42e2-bbe6-3b5480e12fdc",
   "metadata": {},
   "outputs": [
    {
     "name": "stdout",
     "output_type": "stream",
     "text": [
      "[1, 2, 'one', 'one', 'one']\n"
     ]
    }
   ],
   "source": [
    "bad_append('one', a_list = [1, 2])\n",
    "print(bad_append('one', a_list = [1, 2]))"
   ]
  },
  {
   "cell_type": "code",
   "execution_count": 14,
   "id": "756b6b05-54d1-4877-9ccf-5ab56957fac3",
   "metadata": {},
   "outputs": [],
   "source": [
    "def good_append(new_item, a_list=None):\n",
    "    if a_list is None:\n",
    "        a_list = []\n",
    "    a_list.append(new_item)\n",
    "    return a_list"
   ]
  },
  {
   "cell_type": "code",
   "execution_count": 18,
   "id": "85604191-b1a2-4eb5-a3cf-15f04284afa1",
   "metadata": {},
   "outputs": [
    {
     "name": "stdout",
     "output_type": "stream",
     "text": [
      "['one']\n"
     ]
    }
   ],
   "source": [
    "print(good_append('one'))"
   ]
  },
  {
   "cell_type": "code",
   "execution_count": 1,
   "id": "610c05e0-4e92-4cb8-ace5-d31a709ee9f1",
   "metadata": {},
   "outputs": [],
   "source": [
    "import numpy as np\n",
    "import pandas as pd\n",
    "import os\n",
    "from random import sample\n",
    "\n",
    "from lightgbm import LGBMRegressor\n",
    "from dddex.levelSetKDEx import LevelSetKDEx, binSizeCV\n",
    "from dddex.utils import groupedTimeSeriesSplit"
   ]
  },
  {
   "cell_type": "code",
   "execution_count": 3,
   "id": "a80ac390-594e-4363-b6b9-f9af98071d6c",
   "metadata": {},
   "outputs": [],
   "source": [
    "path = ('/home/kagu/yaz_trainingData/dataYaz.csv')\n",
    "data = pd.read_csv(path)"
   ]
  },
  {
   "cell_type": "code",
   "execution_count": 4,
   "id": "bd813a00-3f38-42ee-9571-c0301360be76",
   "metadata": {},
   "outputs": [],
   "source": [
    "dataTrain = data[data['label'] == 'train'].reset_index(drop = True)\n",
    "dataTest = data[data['label'] == 'test']\n",
    "\n",
    "XTrain = dataTrain.drop(['dayIndex', 'label', 'id', 'demand'], axis = 1)\n",
    "XTest = dataTest.drop(['dayIndex', 'label', 'id', 'demand'], axis = 1)\n",
    "\n",
    "yTrain = dataTrain['demand']\n",
    "yTest = dataTest['demand']"
   ]
  },
  {
   "cell_type": "code",
   "execution_count": null,
   "id": "e65b8e43-27c8-4dcd-be22-01cfbd1e345a",
   "metadata": {},
   "outputs": [],
   "source": [
    "LGBM = LGBMRegressor(n_jobs = 1)\n",
    "LGBM.fit(X = XTrain, y = yTrain)"
   ]
  },
  {
   "cell_type": "code",
   "execution_count": null,
   "id": "4ba0f721-d324-4fbb-a1e4-fc21a5c5ac4d",
   "metadata": {},
   "outputs": [],
   "source": [
    "cvFolds = groupedTimeSeriesSplit(data = dataTrain, kFolds = 2, testLength = 28, groupFeature = 'id', timeFeature = 'dayIndex')"
   ]
  },
  {
   "cell_type": "code",
   "execution_count": null,
   "id": "f3c30d83-31fb-426a-b12f-4b8c237f668c",
   "metadata": {},
   "outputs": [],
   "source": [
    "res = binSizeCV(estimator = LGBM,\n",
    "                binSizeGrid = [100, 200],\n",
    "                cv = cvFolds,\n",
    "                LSF_type = 'LSF')"
   ]
  },
  {
   "cell_type": "code",
   "execution_count": null,
   "id": "7d1e8425-7954-4c05-bf16-1823207baf8a",
   "metadata": {},
   "outputs": [],
   "source": [
    "res.fit(X = XTrain, y = yTrain)"
   ]
  }
 ],
 "metadata": {
  "kernelspec": {
   "display_name": "HC-Scheduling",
   "language": "python",
   "name": "hc-scheduling"
  },
  "language_info": {
   "codemirror_mode": {
    "name": "ipython",
    "version": 3
   },
   "file_extension": ".py",
   "mimetype": "text/x-python",
   "name": "python",
   "nbconvert_exporter": "python",
   "pygments_lexer": "ipython3",
   "version": "3.8.13"
  }
 },
 "nbformat": 4,
 "nbformat_minor": 5
}
